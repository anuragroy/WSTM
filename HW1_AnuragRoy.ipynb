{
 "cells": [
  {
   "cell_type": "markdown",
   "metadata": {
    "deletable": true,
    "editable": true
   },
   "source": [
    "# CSE 6240: Assignment 1\n",
    "## Name: Anurag Roy (aroy74)\n",
    "\n"
   ]
  },
  {
   "cell_type": "markdown",
   "metadata": {
    "deletable": true,
    "editable": true
   },
   "source": [
    "### 1: Processing text to create design matrices\n",
    "\n",
    "Importing essential libraries and datasets below"
   ]
  },
  {
   "cell_type": "code",
   "execution_count": 1,
   "metadata": {
    "collapsed": false,
    "deletable": true,
    "editable": true
   },
   "outputs": [],
   "source": [
    "import pandas as pd\n",
    "from bs4 import BeautifulSoup             \n",
    "import re\n",
    "import nltk\n",
    "from nltk.corpus import stopwords # Import the stop word list\n",
    "import numpy as np\n",
    "from datetime import datetime\n",
    "\n",
    "train = pd.read_csv(\"labeledTrainData.tsv\", header=0, delimiter=\"\\t\", quoting=3)\n",
    "test  = pd.read_csv(\"testData.tsv\", header=0, delimiter=\"\\t\", quoting=3)\n",
    "\n"
   ]
  },
  {
   "cell_type": "markdown",
   "metadata": {
    "deletable": true,
    "editable": true
   },
   "source": [
    "\n",
    "\n",
    "Recreating Kaggle approach:    \n",
    "    \n",
    "    \n",
    "    \n",
    "    \n",
    "\n"
   ]
  },
  {
   "cell_type": "code",
   "execution_count": 4,
   "metadata": {
    "collapsed": false,
    "deletable": true,
    "editable": true
   },
   "outputs": [],
   "source": [
    "def review_to_words( raw_review ):\n",
    "    # Function to convert a raw review to a string of words\n",
    "    # The input is a single string (a raw movie review), and \n",
    "    # the output is a single string (a preprocessed movie review)\n",
    "    #\n",
    "    # 1. Remove HTML\n",
    "    review_text = BeautifulSoup(raw_review, \"html.parser\").get_text() \n",
    "    #\n",
    "    # 2. Remove non-letters        \n",
    "    letters_only = re.sub(\"[^a-zA-Z]\", \" \", review_text) \n",
    "    #\n",
    "    # 3. Convert to lower case, split into individual words\n",
    "    words = letters_only.lower().split()                             \n",
    "    #\n",
    "    # 4. In Python, searching a set is much faster than searching\n",
    "    #   a list, so convert the stop words to a set\n",
    "    stops = set(stopwords.words(\"english\"))                  \n",
    "    # \n",
    "    # 5. Remove stop words\n",
    "    meaningful_words = [w for w in words if not w in stops]   \n",
    "    #\n",
    "    # 6. Join the words back into one string separated by space, \n",
    "    # and return the result.\n",
    "    return( \" \".join( meaningful_words ))   \n",
    "    \n",
    "\n",
    "\n",
    "num_reviews = train[\"review\"].size\n",
    "\n",
    "clean_train_reviews = []\n",
    "clean_test_reviews = []\n",
    "\n",
    "for i in range( 0, num_reviews ):\n",
    "    # Call our function for each one, and add the result to the list of\n",
    "    # clean reviews\n",
    "    clean_train_reviews.append( review_to_words( train[\"review\"][i] ) )\n",
    "    clean_test_reviews.append( review_to_words( test[\"review\"][i] ) )\n",
    "\n",
    "\n",
    "from sklearn.feature_extraction.text import CountVectorizer\n",
    "\n",
    "# Initialize the \"CountVectorizer\" object, which is scikit-learn's\n",
    "# bag of words tool.  \n",
    "vectorizer = CountVectorizer(analyzer = \"word\",   \\\n",
    "                             tokenizer = None,    \\\n",
    "                             preprocessor = None, \\\n",
    "                             stop_words = None,   \\\n",
    "                             max_features = 5000) \n",
    "                             \n"
   ]
  },
  {
   "cell_type": "markdown",
   "metadata": {
    "deletable": true,
    "editable": true
   },
   "source": [
    "Creating design matrices for training data:"
   ]
  },
  {
   "cell_type": "code",
   "execution_count": 3,
   "metadata": {
    "collapsed": false,
    "deletable": true,
    "editable": true
   },
   "outputs": [
    {
     "name": "stdout",
     "output_type": "stream",
     "text": [
      "Creating design matrix X_counts \n",
      "\n",
      "Creating design matrix X_binary by copying X_counts, and then assigning all nonzeroes to 1 \n",
      "\n",
      "Creating design matrix X_tfidf \n",
      "\n",
      "Creating design matrix X_binary_imbalance \n",
      " \n",
      "Completed...\n",
      "\n"
     ]
    }
   ],
   "source": [
    "\n",
    "print (\"Creating design matrix X_counts \\n\")\n",
    "\n",
    "X_counts = vectorizer.fit_transform(clean_train_reviews)\n",
    "\n",
    "X_counts = X_counts.toarray()\n",
    "\n",
    "vocab = vectorizer.get_feature_names()\n",
    "\n",
    "dist = np.sum(X_counts, axis=0)\n",
    "\n",
    "\n",
    "print (\"Creating design matrix X_binary by copying X_counts, and then assigning all nonzeroes to 1 \\n\")\n",
    "X_binary = np.copy(X_counts)\n",
    "\n",
    "X_binary[X_binary>0] = 1 \n",
    "\n",
    "print (\"Creating design matrix X_tfidf \\n\")\n",
    "from sklearn.feature_extraction.text import TfidfTransformer\n",
    "transformer = TfidfTransformer(smooth_idf=False)\n",
    "X_tfidf = transformer.fit_transform(X_counts).toarray()\n",
    "\n",
    "print (\"Creating design matrix X_binary_imbalance \\n \")\n",
    "\n",
    "import random\n",
    "random.seed(0)\n",
    "#Row indexes for sentiment = 1 reviews\n",
    "train_sent1 = train[train[\"sentiment\"]==1].index.tolist()\n",
    "train_sent1 = random.sample(train_sent1, int(len(train_sent1)*0.25))\n",
    "\n",
    "imbalance_idx = train_sent1 + train[train[\"sentiment\"]==0].index.tolist()\n",
    "\n",
    "imbalance_idx.sort()\n",
    "\n",
    "X_binary_imbalance = np.copy(X_counts[imbalance_idx])\n",
    "\n",
    "\n",
    "\n",
    "\n",
    "print (\"Completed...\\n\")\n",
    "\n",
    "\n",
    "\n",
    "\n",
    "\n"
   ]
  },
  {
   "cell_type": "markdown",
   "metadata": {
    "deletable": true,
    "editable": true
   },
   "source": [
    "Creating design matrices for test data"
   ]
  },
  {
   "cell_type": "code",
   "execution_count": 222,
   "metadata": {
    "collapsed": false,
    "deletable": true,
    "editable": true
   },
   "outputs": [
    {
     "name": "stdout",
     "output_type": "stream",
     "text": [
      "Creating design matrix X_counts2 \n",
      "\n",
      "Creating design matrix X_binary2 by copying X_counts2, and then assigning all nonzeroes to 1 \n",
      "\n",
      "Creating design matrix X_tfidf2 \n",
      "\n",
      "Completed...\n",
      "\n"
     ]
    }
   ],
   "source": [
    "print (\"Creating design matrix X_counts2 \\n\")\n",
    "\n",
    "X_counts2 = vectorizer.fit_transform(clean_test_reviews)\n",
    "\n",
    "X_counts2 = X_counts2.toarray()\n",
    "\n",
    "\n",
    "\n",
    "print (\"Creating design matrix X_binary2 by copying X_counts2, and then assigning all nonzeroes to 1 \\n\")\n",
    "\n",
    "X_binary2 = np.copy(X_counts2)\n",
    "\n",
    "X_binary2[X_binary2>0] = 1 \n",
    "\n",
    "print (\"Creating design matrix X_tfidf2 \\n\")\n",
    "from sklearn.feature_extraction.text import TfidfTransformer\n",
    "transformer = TfidfTransformer(smooth_idf=False)\n",
    "\n",
    "X_tfidf2 = transformer.fit_transform(X_counts2).toarray()\n",
    "\n",
    "\n",
    "print (\"Completed...\\n\")\n",
    "\n",
    "\n",
    "\n"
   ]
  },
  {
   "cell_type": "markdown",
   "metadata": {
    "deletable": true,
    "editable": true
   },
   "source": [
    "     "
   ]
  },
  {
   "cell_type": "markdown",
   "metadata": {
    "deletable": true,
    "editable": true
   },
   "source": [
    "### 2: Feature space similarity experiment"
   ]
  },
  {
   "cell_type": "markdown",
   "metadata": {
    "deletable": true,
    "editable": true
   },
   "source": [
    "Function to return the Euclidean distance between rows i and j of a design matrix"
   ]
  },
  {
   "cell_type": "code",
   "execution_count": null,
   "metadata": {
    "collapsed": false,
    "deletable": true,
    "editable": true
   },
   "outputs": [],
   "source": [
    "def dist(X, i, j, distance_function='Euclidean'):\n",
    "    if distance_function == 'Euclidean':\n",
    "        return np.linalg.norm(X[i] - X[j])\n"
   ]
  },
  {
   "cell_type": "markdown",
   "metadata": {
    "deletable": true,
    "editable": true
   },
   "source": [
    "Function to return closest k rows from a design matrix:"
   ]
  },
  {
   "cell_type": "code",
   "execution_count": 5,
   "metadata": {
    "collapsed": false,
    "deletable": true,
    "editable": true
   },
   "outputs": [],
   "source": [
    "from sklearn.metrics.pairwise import pairwise_distances\n",
    "def topk(X, k):\n",
    "    #print (\"Distance Matrix build starting... \\n\") \n",
    "    distance_matrix = pairwise_distances(X, metric = 'euclidean', n_jobs = 1) #Compute distance matrix\n",
    "    #print (\"Distance Matrix built \\n\") \n",
    "    \n",
    "    vals = distance_matrix[np.nonzero(distance_matrix)].flatten()\n",
    "    #print (\"Flattened distance matrix... \\n\")\n",
    "    vals = sorted(list(set(vals)))[:k]\n",
    "    #print (\"obtained k minimum distances\")\n",
    "    \n",
    "    #print (\"Actual distance values obtained from distance matrix\") \n",
    "    \n",
    "    output = [] \n",
    " \n",
    "    unique, counts =  np.unique(vals, return_counts=True)\n",
    "        \n",
    "    counter = dict(zip(unique, counts))\n",
    "    \n",
    "    #print (\"Starting search for values: \\n\") \n",
    "    \n",
    "    for val in vals:\n",
    "        for i in range(counter[val]):\n",
    "            position = np.column_stack(np.where(np.triu (distance_matrix, k=1) == val))[i]                        \n",
    "            j = position[0]\n",
    "            k =position[1]\n",
    "            output.append((j, k , val, train[\"review\"][j][:20], train[\"review\"][k][:20]))\n",
    "            output = sorted(list(set(output)), key = lambda x: x[2]) \n",
    "            \n",
    "    \n",
    "    return output\n",
    "    "
   ]
  },
  {
   "cell_type": "markdown",
   "metadata": {
    "deletable": true,
    "editable": true
   },
   "source": [
    "Function to compare reviews of the top-k outputs   "
   ]
  },
  {
   "cell_type": "code",
   "execution_count": 12,
   "metadata": {
    "collapsed": false,
    "deletable": true,
    "editable": true
   },
   "outputs": [],
   "source": [
    "def review_comparison(k):\n",
    "    print (\"Starting topk processing \\n\")\n",
    "    X_counts_out = topk(X_counts, k)\n",
    "    print (\"X_counts topk complete\")\n",
    "    X_binary_out = topk(X_binary, k)\n",
    "    print (\"X_binary topk complete\")\n",
    "    X_binary_imbalance_out = topk(X_binary_imbalance, k)\n",
    "    print (\"X_binary_imbalance topk complete\")\n",
    "    X_tfidf_out = topk(X_tfidf, k)\n",
    "    print (\"X_tfidf topk complete\")\n",
    "    \n",
    "    for i in range(k):\n",
    "        print (\"X_counts reviews: {}\\n {} \\n \\n\".format(X_counts_out[i][3], X_counts_out[i][4] ))\n",
    "        print (\"X_binary reviews: {}\\n {} \\n \\n\".format(X_binary_out[i][3], X_binary_out[i][4] ))\n",
    "        print (\"X_binary_imbalance reviews: {}\\n {} \\n \\n\".format(X_binary_imbalance_out[i][3], X_binary_imbalance_out[i][4] ))\n",
    "        print (\"X_tfidf reviews: {}\\n {} \\n \\n\".format(X_tfidf_out[i][3], X_tfidf_out[i][4] ))\n",
    "        \n",
    "    "
   ]
  },
  {
   "cell_type": "code",
   "execution_count": null,
   "metadata": {
    "collapsed": false,
    "deletable": true,
    "editable": true
   },
   "outputs": [
    {
     "name": "stdout",
     "output_type": "stream",
     "text": [
      "Starting topk processing \n",
      "\n",
      "X_counts topk complete\n",
      "X_binary topk complete\n",
      "X_binary_imbalance topk complete\n"
     ]
    }
   ],
   "source": [
    "review_comparison(3)"
   ]
  },
  {
   "cell_type": "markdown",
   "metadata": {
    "deletable": true,
    "editable": true
   },
   "source": [
    "### 3: Classification experiment:\n",
    "\n",
    "The function $classify$ takes a design matrix and its corresponding response (sentiment value) to find an optimal C value for an SVC that maximizes roc_auc score (using 80% of the data). On obtaining this optimal C value, the model is retrained on the entire data to obtain metrics for false positive rate, true positive rate, and AUC ROC value. "
   ]
  },
  {
   "cell_type": "code",
   "execution_count": 235,
   "metadata": {
    "collapsed": true,
    "deletable": true,
    "editable": true
   },
   "outputs": [],
   "source": [
    "from sklearn.model_selection import train_test_split\n",
    "random_state = np.random.RandomState(0)\n",
    "from sklearn.svm import SVC\n",
    "from sklearn.metrics import roc_curve, auc\n",
    "\n",
    "def classify (X,y):   \n",
    "    \n",
    "    if isinstance(y , pd.Series):\n",
    "        y = np.array(y.tolist())\n",
    "        \n",
    "    X_train, X_test, y_train, y_test = train_test_split(X, y, test_size = 0.2, random_state = random_state)\n",
    "    \n",
    "    output = []\n",
    "    \n",
    "    C = np.random.uniform( -4, 4, size = 30) #Creating a randomized grid of 30 C values (using logs of 1e-4 and 1e4)\n",
    "        \n",
    "    for val in C: #looping through the 30 C values to \n",
    "        clf = svm.LinearSVC(C = val)\n",
    "        avg_score = np.mean(cross_val_score(clf, X_train, y_train, cv=5, scoring='roc_auc'))\n",
    "        output.append((avg_score, val))\n",
    "    \n",
    "    roc_lift = max(output, key = lambda x: x[0])[0] - min(output, key = lambda x: x[0])[0]  #Calulating the lift in AUC-ROC obtained by the best and worst performing C value\n",
    "    \n",
    "    C_final = max(output, key = lambda x: x[0])[1] #best C value\n",
    "    \n",
    "    final_clf = svm.LinearSVC(C = C_final) #Retraining the classifier using the best C value\n",
    "    \n",
    "    y_score = final_clf.fit(X_train, y_train).decision_function(X_test) #Using decision_function to obtain probability\n",
    "    \n",
    "    fpr, tpr, _ = roc_curve (y_test, y_score) #extracting false positive rate and true positive rate\n",
    "    \n",
    "    roc_auc = auc(fpr, tpr) #final AUC ROC value\n",
    "    \n",
    "    return C_final, roc_lift, (fpr, tpr, roc_auc)\n",
    "    \n",
    "    "
   ]
  },
  {
   "cell_type": "code",
   "execution_count": 183,
   "metadata": {
    "collapsed": false,
    "deletable": true,
    "editable": true
   },
   "outputs": [],
   "source": [
    "#Extracting best C value, lift amounts and ROC metrics for the 4 design matrices\n",
    "\n",
    "X_counts_C, X_counts_lift, X_counts_roc = classify(X_counts, train[\"sentiment\"])\n",
    "\n",
    "\n",
    "X_tfidf_C, X_tfidf_lift,X_tfidf_roc = classify(X_tfidf, train[\"sentiment\"])\n",
    "\n",
    "\n",
    "X_bin_imb_C, X_bin_imb_lift, X_bin_imb_roc = classify(X_binary_imbalance,train[\"sentiment\"][imbalance_idx])\n",
    "\n",
    "\n",
    "\n",
    "X_binary_C, X_binary_lift, X_binary_roc = classify(X_binary, train[\"sentiment\"])\n",
    "\n",
    "\n"
   ]
  },
  {
   "cell_type": "code",
   "execution_count": 211,
   "metadata": {
    "collapsed": false,
    "deletable": true,
    "editable": true,
    "scrolled": true
   },
   "outputs": [
    {
     "name": "stdout",
     "output_type": "stream",
     "text": [
      "X_counts: The best value of C is 27.41713267842546 and its AUC-ROC lift is 0.00043992747720800196 \n",
      "X_tfidf: The best value of C is 296.3254751248787 and its AUC-ROC lift is0.0010791590920985472\n",
      "X_binary_imbalance: The best value of C is 52.23445994679861 and its AUC-ROC lift is 8.953219953689029e-05 \n",
      "X_binary: The best value of C is 585.7483544919298 and its AUC-ROC lift is 0.00022835248289043708 \n"
     ]
    }
   ],
   "source": [
    "print ( 'X_counts: The best value of C is {} and its AUC-ROC lift is {} '.format(X_counts_C, X_counts_lift) )\n",
    "print ( \"X_tfidf: The best value of C is {} and its AUC-ROC lift is{}\".format(X_tfidf_C, X_tfidf_lift) )\n",
    "print ( \"X_binary_imbalance: The best value of C is {} and its AUC-ROC lift is {} \".format( X_bin_imb_C, X_bin_imb_lift))\n",
    "print ( \"X_binary: The best value of C is {} and its AUC-ROC lift is {} \".format( X_binary_C, X_binary_lift))\n",
    "\n"
   ]
  },
  {
   "cell_type": "markdown",
   "metadata": {
    "deletable": true,
    "editable": true
   },
   "source": [
    "#### Kaggle submissions\n",
    "\n",
    "\n"
   ]
  },
  {
   "cell_type": "code",
   "execution_count": 219,
   "metadata": {
    "collapsed": false,
    "deletable": true,
    "editable": true
   },
   "outputs": [],
   "source": [
    "#X_counts \n",
    "clf = svm.LinearSVC(C =X_counts_C )\n",
    "y_score = clf.fit(X_counts, np.array(train[\"sentiment\"].tolist())).predict(X_counts2)\n",
    "df = pd.DataFrame(data = {\"id\": test[\"id\"], \"sentiment\": y_score})\n",
    "df.to_csv(\"sampleSubmission.csv\", quoting = 3, index = False)\n",
    "\n"
   ]
  },
  {
   "cell_type": "code",
   "execution_count": 223,
   "metadata": {
    "collapsed": true,
    "deletable": true,
    "editable": true
   },
   "outputs": [],
   "source": [
    "#X_binary\n",
    "clf2 = svm.LinearSVC(C = X_binary_C)\n",
    "y_score2 = clf.fit(X_binary, np.array(train[\"sentiment\"].tolist())).predict(X_binary2)\n",
    "df = pd.DataFrame(data = {\"id\": test[\"id\"], \"sentiment\": y_score2})\n",
    "df.to_csv(\"sampleSubmission.csv\", quoting = 3, index = False)\n",
    "\n"
   ]
  },
  {
   "cell_type": "code",
   "execution_count": 227,
   "metadata": {
    "collapsed": false,
    "deletable": true,
    "editable": true
   },
   "outputs": [],
   "source": [
    "#X_binary_imbalance\n",
    "clf3 = svm.LinearSVC(C = X_bin_imb_C)\n",
    "y_score3 = clf.fit(X_binary_imbalance, np.array(train[\"sentiment\"][imbalance_idx].tolist())).predict(X_binary2)\n",
    "df = pd.DataFrame(data = {\"id\": test[\"id\"], \"sentiment\": y_score3})\n",
    "df.to_csv(\"sampleSubmission.csv\", quoting = 3, index = False)\n",
    "\n"
   ]
  },
  {
   "cell_type": "code",
   "execution_count": 229,
   "metadata": {
    "collapsed": true,
    "deletable": true,
    "editable": true
   },
   "outputs": [],
   "source": [
    "#X_tfidf\n",
    "clf4 = svm.LinearSVC(C = X_tfidf_C)\n",
    "y_score4 = clf.fit(X_tfidf, np.array(train[\"sentiment\"].tolist())).predict(X_tfidf2)\n",
    "df = pd.DataFrame(data = {\"id\": test[\"id\"], \"sentiment\": y_score4})\n",
    "df.to_csv(\"sampleSubmission.csv\", quoting = 3, index = False)\n",
    "\n"
   ]
  },
  {
   "cell_type": "code",
   "execution_count": 231,
   "metadata": {
    "collapsed": true,
    "deletable": true,
    "editable": true
   },
   "outputs": [],
   "source": [
    "\n",
    "kaggle_score_X_counts = 0.52284\n",
    "kaggle_score_X_binary = 0.51652\n",
    "kaggle_score_X_binary_imbalance =0.54284\n",
    "kaggle_score_X_tfidf = 0.54872"
   ]
  },
  {
   "cell_type": "markdown",
   "metadata": {
    "deletable": true,
    "editable": true
   },
   "source": [
    "#### ROC Plots\n",
    "Using the ROC metrics obtained from each design matrix, we will now create a function to plot ROC curves for each design matrix."
   ]
  },
  {
   "cell_type": "code",
   "execution_count": 200,
   "metadata": {
    "collapsed": true,
    "deletable": true,
    "editable": true
   },
   "outputs": [],
   "source": [
    "import matplotlib.pyplot as plt\n",
    "\n",
    "def ROC_plotter(X, roc_metrics, name = None):\n",
    "    fpr, tpr, roc_auc = roc_metrics\n",
    "    plt.plot(fpr,tpr, lw = 2, color='darkorange', label='AUC = %0.2f' % roc_auc)\n",
    "    #plt.plot(fpr,tpr, lw = 2, color='darkorange', label='AUCxsd = %0.2f' % roc_auc)\n",
    "    plt.plot([0, 1], [0, 1], color='navy', lw=2, linestyle='--')\n",
    "    plt.xlim([0.0, 1.0])\n",
    "    plt.ylim([0.0, 1.05])\n",
    "    plt.title('ROC for %s' %(name))\n",
    "    plt.xlabel('False Positive Rate')\n",
    "    plt.ylabel('True Positive Rate')\n",
    "    plt.legend(loc=\"lower right\")    \n",
    "    plt.show()"
   ]
  },
  {
   "cell_type": "code",
   "execution_count": 236,
   "metadata": {
    "collapsed": false,
    "deletable": true,
    "editable": true
   },
   "outputs": [
    {
     "data": {
      "image/png": "[encoded data removed]",
      "text/plain": [
       "<matplotlib.figure.Figure at 0x8a6cbab7b8>"
      ]
     },
     "metadata": {},
     "output_type": "display_data"
    }
   ],
   "source": [
    "ROC_plotter(X_counts,X_counts_roc, \"X_counts\")"
   ]
  },
  {
   "cell_type": "code",
   "execution_count": 192,
   "metadata": {
    "collapsed": false,
    "deletable": true,
    "editable": true
   },
   "outputs": [
    {
     "data": {
      "image/png": "[encoded data removed]",
      "text/plain": [
       "<matplotlib.figure.Figure at 0x8a005472b0>"
      ]
     },
     "metadata": {},
     "output_type": "display_data"
    }
   ],
   "source": [
    "ROC_plotter(X_tfidf,X_tfidf_roc, \"X_tfidf\")"
   ]
  },
  {
   "cell_type": "code",
   "execution_count": 193,
   "metadata": {
    "collapsed": false,
    "deletable": true,
    "editable": true
   },
   "outputs": [
    {
     "data": {
      "image/png": "[encoded data removed]",
      "text/plain": [
       "<matplotlib.figure.Figure at 0x8a005fbe10>"
      ]
     },
     "metadata": {},
     "output_type": "display_data"
    }
   ],
   "source": [
    "ROC_plotter(X_binary,X_binary_roc, \"X_binary\")"
   ]
  },
  {
   "cell_type": "code",
   "execution_count": 194,
   "metadata": {
    "collapsed": false,
    "deletable": true,
    "editable": true
   },
   "outputs": [
    {
     "data": {
      "image/png": "[encoded data removed]",
      "text/plain": [
       "<matplotlib.figure.Figure at 0x8a005ecf60>"
      ]
     },
     "metadata": {},
     "output_type": "display_data"
    }
   ],
   "source": [
    "ROC_plotter(X_binary_imbalance,X_bin_imb_roc, \"X_binary_imbalance\")"
   ]
  },
  {
   "cell_type": "markdown",
   "metadata": {
    "deletable": true,
    "editable": true
   },
   "source": [
    "## 4: Learning Curve Experiment"
   ]
  },
  {
   "cell_type": "code",
   "execution_count": 241,
   "metadata": {
    "collapsed": false,
    "deletable": true,
    "editable": true
   },
   "outputs": [],
   "source": [
    "\n",
    "from sklearn.model_selection import learning_curve\n",
    "from sklearn.model_selection import ShuffleSplit\n",
    "n_range = np.array((100, 500, 1000, 2000,3000, 4000, 5000, 7500, 10000, 15000, 20000))\n",
    "\n",
    "def plot_learning_curve(estimator, title, X, y, ylim=None, cv=5, n_jobs=1, train_sizes= n_range):\n",
    "    \n",
    "    plt.figure()\n",
    "    plt.title(title)\n",
    "    if ylim is not None:\n",
    "        plt.ylim(*ylim)\n",
    "    plt.xlabel(\"Training examples\")\n",
    "    plt.ylabel(\"Score\")\n",
    "    train_sizes, train_scores, test_scores = learning_curve(estimator, X, y, cv=cv, n_jobs=n_jobs, train_sizes=train_sizes)\n",
    "    train_scores_mean = np.mean(train_scores, axis=1)\n",
    "    train_scores_std = np.std(train_scores, axis=1)\n",
    "    test_scores_mean = np.mean(test_scores, axis=1)\n",
    "    test_scores_std = np.std(test_scores, axis=1)\n",
    "    plt.grid()\n",
    "\n",
    "    plt.fill_between(train_sizes, train_scores_mean - train_scores_std,\n",
    "                     train_scores_mean + train_scores_std, alpha=0.1,\n",
    "                     color=\"r\")\n",
    "    plt.fill_between(train_sizes, test_scores_mean - test_scores_std,\n",
    "                     test_scores_mean + test_scores_std, alpha=0.1, color=\"g\")\n",
    "    plt.plot(train_sizes, train_scores_mean, 'o-', color=\"r\",\n",
    "             label=\"Training score\")\n",
    "    plt.plot(train_sizes, test_scores_mean, 'o-', color=\"g\",\n",
    "             label=\"Cross-validation score\")\n",
    "\n",
    "    plt.legend(loc=\"best\")\n",
    "    return plt\n"
   ]
  },
  {
   "cell_type": "code",
   "execution_count": 243,
   "metadata": {
    "collapsed": false,
    "deletable": true,
    "editable": true
   },
   "outputs": [
    {
     "data": {
      "image/png": "[encoded data removed]",
      "text/plain": [
       "<matplotlib.figure.Figure at 0x8a4f5aa2e8>"
      ]
     },
     "metadata": {},
     "output_type": "display_data"
    }
   ],
   "source": [
    "from sklearn.linear_model import LogisticRegression\n",
    "estimator = LogisticRegression()\n",
    "plot_learning_curve(estimator, title = \"Learning Curve Experiment\", X= X_counts, y = np.array(train[\"sentiment\"].tolist()))\n",
    "plt.show()"
   ]
  },
  {
   "cell_type": "markdown",
   "metadata": {
    "deletable": true,
    "editable": true
   },
   "source": [
    "The learning curve tells us that the training score and cross validation score are converging as the number of training samples are increased, which lines up with our intuition."
   ]
  }
 ],
 "metadata": {
  "anaconda-cloud": {},
  "kernelspec": {
   "display_name": "Python 3",
   "language": "python",
   "name": "python3"
  },
  "language_info": {
   "codemirror_mode": {
    "name": "ipython",
    "version": 3
   },
   "file_extension": ".py",
   "mimetype": "text/x-python",
   "name": "python",
   "nbconvert_exporter": "python",
   "pygments_lexer": "ipython3",
   "version": "3.5.2"
  }
 },
 "nbformat": 4,
 "nbformat_minor": 0
}
