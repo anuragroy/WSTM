{
 "cells": [
  {
   "cell_type": "markdown",
   "metadata": {
    "deletable": true,
    "editable": true
   },
   "source": [
    "# Question 1: Word2Vec"
   ]
  },
  {
   "cell_type": "markdown",
   "metadata": {
    "deletable": true,
    "editable": true
   },
   "source": [
    "Importing libraries and reading data"
   ]
  },
  {
   "cell_type": "code",
   "execution_count": 182,
   "metadata": {
    "collapsed": true,
    "deletable": true,
    "editable": true
   },
   "outputs": [],
   "source": [
    "import pandas as pd\n",
    "from bs4 import BeautifulSoup             \n",
    "import re\n",
    "import nltk\n",
    "from nltk.corpus import stopwords # Import the stop word list\n",
    "import numpy as np\n",
    "from datetime import datetime\n",
    "from sklearn.model_selection import train_test_split\n",
    "from sklearn.ensemble import RandomForestClassifier \n",
    "from sklearn.metrics import roc_auc_score,accuracy_score, roc_curve,auc\n",
    "from sklearn.model_selection import GridSearchCV\n",
    "import matplotlib.pyplot as plt\n",
    "\n",
    "\n",
    "train = pd.read_csv(\"labeledTrainData.tsv\", header=0, delimiter=\"\\t\", quoting=3)\n",
    "test  = pd.read_csv(\"testData.tsv\", header=0, delimiter=\"\\t\", quoting=3)\n",
    "unlabeled_train = pd.read_csv( \"unlabeledTrainData.tsv\", header=0, delimiter=\"\\t\", quoting=3 )\n"
   ]
  },
  {
   "cell_type": "markdown",
   "metadata": {
    "deletable": true,
    "editable": true
   },
   "source": [
    "[Kaggle tutorial blog](https://www.kaggle.com/c/word2vec-nlp-tutorial#part-2-word-vectors) instructions followed to create functions and models below.\n"
   ]
  },
  {
   "cell_type": "markdown",
   "metadata": {
    "deletable": true,
    "editable": true
   },
   "source": [
    "Function to convert raw review text to word lists "
   ]
  },
  {
   "cell_type": "code",
   "execution_count": 183,
   "metadata": {
    "collapsed": false,
    "deletable": true,
    "editable": true
   },
   "outputs": [],
   "source": [
    "\n",
    "def review_to_wordlist( review, remove_stopwords=False ):\n",
    "    # Function to convert a document to a sequence of words,\n",
    "    # optionally removing stop words.  Returns a list of words.\n",
    "    #\n",
    "    # 1. Remove HTML\n",
    "    review_text = BeautifulSoup(review, \"html5lib\").get_text()\n",
    "    #  \n",
    "    # 2. Remove non-letters\n",
    "    review_text = re.sub(\"[^a-zA-Z]\",\" \", review_text)\n",
    "    #\n",
    "    # 3. Convert words to lower case and split them\n",
    "    words = review_text.lower().split()\n",
    "    #\n",
    "    # 4. Optionally remove stop words (false by default)\n",
    "    if remove_stopwords:\n",
    "        stops = set(stopwords.words(\"english\"))\n",
    "        words = [w for w in words if not w in stops]\n",
    "    #\n",
    "    # 5. Return a list of words\n",
    "    return(words)"
   ]
  },
  {
   "cell_type": "markdown",
   "metadata": {
    "deletable": true,
    "editable": true
   },
   "source": [
    "The Word2Vec model expects sentences as its input. Hence, we will create a function to split sentences with the punkt tokenizer."
   ]
  },
  {
   "cell_type": "code",
   "execution_count": 184,
   "metadata": {
    "collapsed": false,
    "deletable": true,
    "editable": true,
    "scrolled": true
   },
   "outputs": [
    {
     "name": "stdout",
     "output_type": "stream",
     "text": [
      "[nltk_data] Downloading package punkt to /Users/anuragroy/nltk_data...\n",
      "[nltk_data]   Package punkt is already up-to-date!\n"
     ]
    }
   ],
   "source": [
    "# Download the punkt tokenizer for sentence splitting\n",
    "import nltk.data\n",
    "nltk.download('punkt')   \n",
    "\n",
    "# Load the punkt tokenizer\n",
    "tokenizer = nltk.data.load('tokenizers/punkt/english.pickle')\n",
    "# Define a function to split a review into parsed sentences\n",
    "def review_to_sentences( review, tokenizer, remove_stopwords=False ):\n",
    "    # Function to split a review into parsed sentences. Returns a \n",
    "    # list of sentences, where each sentence is a list of words\n",
    "    #\n",
    "    # 1. Use the NLTK tokenizer to split the paragraph into sentences\n",
    "    raw_sentences = tokenizer.tokenize(review.strip())\n",
    "    #\n",
    "    # 2. Loop over each sentence\n",
    "    sentences = []\n",
    "    for raw_sentence in raw_sentences:\n",
    "        # If a sentence is empty, skip it\n",
    "        if len(raw_sentence) > 0:\n",
    "            # Otherwise, call review_to_wordlist to get a list of words\n",
    "            sentences.append( review_to_wordlist( raw_sentence, \\\n",
    "              remove_stopwords ))\n",
    "    #\n",
    "    # Return the list of sentences (each sentence is a list of words,\n",
    "    # so this returns a list of lists\n",
    "    return sentences"
   ]
  },
  {
   "cell_type": "markdown",
   "metadata": {
    "deletable": true,
    "editable": true
   },
   "source": [
    "Parsing sentences from the datasets."
   ]
  },
  {
   "cell_type": "code",
   "execution_count": 185,
   "metadata": {
    "collapsed": false,
    "deletable": true,
    "editable": true
   },
   "outputs": [
    {
     "name": "stdout",
     "output_type": "stream",
     "text": [
      "Parsing sentences from training set\n"
     ]
    },
    {
     "name": "stderr",
     "output_type": "stream",
     "text": [
      "/Users/anuragroy/miniconda3/lib/python3.5/site-packages/bs4/__init__.py:219: UserWarning: \"b'.'\" looks like a filename, not markup. You shouldprobably open this file and pass the filehandle intoBeautiful Soup.\n",
      "  'Beautiful Soup.' % markup)\n",
      "/Users/anuragroy/miniconda3/lib/python3.5/site-packages/bs4/__init__.py:282: UserWarning: \"http://www.happierabroad.com\"\" looks like a URL. Beautiful Soup is not an HTTP client. You should probably use an HTTP client like requests to get the document behind the URL, and feed that document to Beautiful Soup.\n",
      "  ' that document to Beautiful Soup.' % decoded_markup\n"
     ]
    },
    {
     "name": "stdout",
     "output_type": "stream",
     "text": [
      "Parsing sentences from unlabeled set\n"
     ]
    },
    {
     "name": "stderr",
     "output_type": "stream",
     "text": [
      "/Users/anuragroy/miniconda3/lib/python3.5/site-packages/bs4/__init__.py:282: UserWarning: \"http://www.archive.org/details/LovefromaStranger\"\" looks like a URL. Beautiful Soup is not an HTTP client. You should probably use an HTTP client like requests to get the document behind the URL, and feed that document to Beautiful Soup.\n",
      "  ' that document to Beautiful Soup.' % decoded_markup\n",
      "/Users/anuragroy/miniconda3/lib/python3.5/site-packages/bs4/__init__.py:282: UserWarning: \"http://www.loosechangeguide.com/LooseChangeGuide.html\"\" looks like a URL. Beautiful Soup is not an HTTP client. You should probably use an HTTP client like requests to get the document behind the URL, and feed that document to Beautiful Soup.\n",
      "  ' that document to Beautiful Soup.' % decoded_markup\n",
      "/Users/anuragroy/miniconda3/lib/python3.5/site-packages/bs4/__init__.py:282: UserWarning: \"http://www.msnbc.msn.com/id/4972055/site/newsweek/\"\" looks like a URL. Beautiful Soup is not an HTTP client. You should probably use an HTTP client like requests to get the document behind the URL, and feed that document to Beautiful Soup.\n",
      "  ' that document to Beautiful Soup.' % decoded_markup\n",
      "/Users/anuragroy/miniconda3/lib/python3.5/site-packages/bs4/__init__.py:219: UserWarning: \"b'..'\" looks like a filename, not markup. You shouldprobably open this file and pass the filehandle intoBeautiful Soup.\n",
      "  'Beautiful Soup.' % markup)\n",
      "/Users/anuragroy/miniconda3/lib/python3.5/site-packages/bs4/__init__.py:282: UserWarning: \"http://www.youtube.com/watch?v=a0KSqelmgN8\"\" looks like a URL. Beautiful Soup is not an HTTP client. You should probably use an HTTP client like requests to get the document behind the URL, and feed that document to Beautiful Soup.\n",
      "  ' that document to Beautiful Soup.' % decoded_markup\n",
      "/Users/anuragroy/miniconda3/lib/python3.5/site-packages/bs4/__init__.py:282: UserWarning: \"http://jake-weird.blogspot.com/2007/08/beneath.html\"\" looks like a URL. Beautiful Soup is not an HTTP client. You should probably use an HTTP client like requests to get the document behind the URL, and feed that document to Beautiful Soup.\n",
      "  ' that document to Beautiful Soup.' % decoded_markup\n"
     ]
    },
    {
     "name": "stdout",
     "output_type": "stream",
     "text": [
      "\n",
      " Parsing complete\n"
     ]
    }
   ],
   "source": [
    "sentences = []  # Initialize an empty list of sentences\n",
    "\n",
    "print (\"Parsing sentences from training set\")\n",
    "for review in train[\"review\"]:\n",
    "    sentences += review_to_sentences(review, tokenizer)\n",
    "\n",
    "print (\"Parsing sentences from unlabeled set\")\n",
    "for review in unlabeled_train[\"review\"]:\n",
    "    sentences += review_to_sentences(review, tokenizer)\n",
    "\n",
    "print (\"\\n Parsing complete\")"
   ]
  },
  {
   "cell_type": "code",
   "execution_count": 186,
   "metadata": {
    "collapsed": true,
    "deletable": true,
    "editable": true
   },
   "outputs": [],
   "source": [
    "# Import the built-in logging module and configure it so that Word2Vec \n",
    "# creates nice output messages\n",
    "import logging\n",
    "logging.basicConfig(format='%(asctime)s : %(levelname)s : %(message)s',\\\n",
    "    level=logging.INFO)\n"
   ]
  },
  {
   "cell_type": "markdown",
   "metadata": {
    "deletable": true,
    "editable": true
   },
   "source": [
    "## Part a)\n",
    "\n",
    "We will now use word2vec to create vector representations for each model"
   ]
  },
  {
   "cell_type": "code",
   "execution_count": 187,
   "metadata": {
    "collapsed": false,
    "deletable": true,
    "editable": true
   },
   "outputs": [
    {
     "name": "stderr",
     "output_type": "stream",
     "text": [
      "2017-04-21 21:06:25,974 : INFO : collecting all words and their counts\n",
      "2017-04-21 21:06:25,975 : INFO : PROGRESS: at sentence #0, processed 0 words, keeping 0 word types\n",
      "2017-04-21 21:06:26,043 : INFO : PROGRESS: at sentence #10000, processed 225803 words, keeping 17776 word types\n",
      "2017-04-21 21:06:26,108 : INFO : PROGRESS: at sentence #20000, processed 451892 words, keeping 24948 word types\n"
     ]
    },
    {
     "name": "stdout",
     "output_type": "stream",
     "text": [
      "Training model...\n"
     ]
    },
    {
     "name": "stderr",
     "output_type": "stream",
     "text": [
      "2017-04-21 21:06:26,168 : INFO : PROGRESS: at sentence #30000, processed 671315 words, keeping 30034 word types\n",
      "2017-04-21 21:06:26,233 : INFO : PROGRESS: at sentence #40000, processed 897815 words, keeping 34348 word types\n",
      "2017-04-21 21:06:26,288 : INFO : PROGRESS: at sentence #50000, processed 1116963 words, keeping 37761 word types\n",
      "2017-04-21 21:06:26,351 : INFO : PROGRESS: at sentence #60000, processed 1338404 words, keeping 40723 word types\n",
      "2017-04-21 21:06:26,407 : INFO : PROGRESS: at sentence #70000, processed 1561580 words, keeping 43333 word types\n",
      "2017-04-21 21:06:26,469 : INFO : PROGRESS: at sentence #80000, processed 1780887 words, keeping 45714 word types\n",
      "2017-04-21 21:06:26,528 : INFO : PROGRESS: at sentence #90000, processed 2004996 words, keeping 48135 word types\n",
      "2017-04-21 21:06:26,589 : INFO : PROGRESS: at sentence #100000, processed 2226967 words, keeping 50207 word types\n",
      "2017-04-21 21:06:26,648 : INFO : PROGRESS: at sentence #110000, processed 2446581 words, keeping 52081 word types\n",
      "2017-04-21 21:06:26,709 : INFO : PROGRESS: at sentence #120000, processed 2668776 words, keeping 54119 word types\n",
      "2017-04-21 21:06:26,770 : INFO : PROGRESS: at sentence #130000, processed 2894304 words, keeping 55847 word types\n",
      "2017-04-21 21:06:26,828 : INFO : PROGRESS: at sentence #140000, processed 3107006 words, keeping 57346 word types\n",
      "2017-04-21 21:06:26,889 : INFO : PROGRESS: at sentence #150000, processed 3332628 words, keeping 59055 word types\n",
      "2017-04-21 21:06:26,948 : INFO : PROGRESS: at sentence #160000, processed 3555316 words, keeping 60617 word types\n",
      "2017-04-21 21:06:27,007 : INFO : PROGRESS: at sentence #170000, processed 3778656 words, keeping 62077 word types\n",
      "2017-04-21 21:06:27,070 : INFO : PROGRESS: at sentence #180000, processed 3999237 words, keeping 63496 word types\n",
      "2017-04-21 21:06:27,134 : INFO : PROGRESS: at sentence #190000, processed 4224450 words, keeping 64794 word types\n",
      "2017-04-21 21:06:27,197 : INFO : PROGRESS: at sentence #200000, processed 4448604 words, keeping 66087 word types\n",
      "2017-04-21 21:06:27,257 : INFO : PROGRESS: at sentence #210000, processed 4669968 words, keeping 67390 word types\n",
      "2017-04-21 21:06:27,318 : INFO : PROGRESS: at sentence #220000, processed 4894969 words, keeping 68697 word types\n",
      "2017-04-21 21:06:27,383 : INFO : PROGRESS: at sentence #230000, processed 5117546 words, keeping 69958 word types\n",
      "2017-04-21 21:06:27,446 : INFO : PROGRESS: at sentence #240000, processed 5345051 words, keeping 71167 word types\n",
      "2017-04-21 21:06:27,506 : INFO : PROGRESS: at sentence #250000, processed 5559166 words, keeping 72351 word types\n",
      "2017-04-21 21:06:27,567 : INFO : PROGRESS: at sentence #260000, processed 5779147 words, keeping 73478 word types\n",
      "2017-04-21 21:06:27,622 : INFO : PROGRESS: at sentence #270000, processed 6000436 words, keeping 74767 word types\n",
      "2017-04-21 21:06:27,684 : INFO : PROGRESS: at sentence #280000, processed 6226315 words, keeping 76369 word types\n",
      "2017-04-21 21:06:27,744 : INFO : PROGRESS: at sentence #290000, processed 6449475 words, keeping 77839 word types\n",
      "2017-04-21 21:06:27,808 : INFO : PROGRESS: at sentence #300000, processed 6674078 words, keeping 79171 word types\n",
      "2017-04-21 21:06:27,870 : INFO : PROGRESS: at sentence #310000, processed 6899392 words, keeping 80480 word types\n",
      "2017-04-21 21:06:27,933 : INFO : PROGRESS: at sentence #320000, processed 7124279 words, keeping 81808 word types\n",
      "2017-04-21 21:06:27,990 : INFO : PROGRESS: at sentence #330000, processed 7346022 words, keeping 83030 word types\n",
      "2017-04-21 21:06:28,054 : INFO : PROGRESS: at sentence #340000, processed 7575534 words, keeping 84280 word types\n",
      "2017-04-21 21:06:28,113 : INFO : PROGRESS: at sentence #350000, processed 7798804 words, keeping 85425 word types\n",
      "2017-04-21 21:06:28,175 : INFO : PROGRESS: at sentence #360000, processed 8019467 words, keeping 86596 word types\n",
      "2017-04-21 21:06:28,244 : INFO : PROGRESS: at sentence #370000, processed 8246659 words, keeping 87708 word types\n",
      "2017-04-21 21:06:28,309 : INFO : PROGRESS: at sentence #380000, processed 8471806 words, keeping 88878 word types\n",
      "2017-04-21 21:06:28,372 : INFO : PROGRESS: at sentence #390000, processed 8701556 words, keeping 89907 word types\n",
      "2017-04-21 21:06:28,429 : INFO : PROGRESS: at sentence #400000, processed 8924505 words, keeping 90916 word types\n",
      "2017-04-21 21:06:28,491 : INFO : PROGRESS: at sentence #410000, processed 9145855 words, keeping 91880 word types\n",
      "2017-04-21 21:06:28,554 : INFO : PROGRESS: at sentence #420000, processed 9366935 words, keeping 92912 word types\n",
      "2017-04-21 21:06:28,616 : INFO : PROGRESS: at sentence #430000, processed 9594472 words, keeping 93932 word types\n",
      "2017-04-21 21:06:28,680 : INFO : PROGRESS: at sentence #440000, processed 9821225 words, keeping 94906 word types\n",
      "2017-04-21 21:06:28,746 : INFO : PROGRESS: at sentence #450000, processed 10044987 words, keeping 96036 word types\n",
      "2017-04-21 21:06:28,814 : INFO : PROGRESS: at sentence #460000, processed 10277747 words, keeping 97088 word types\n",
      "2017-04-21 21:06:28,872 : INFO : PROGRESS: at sentence #470000, processed 10505672 words, keeping 97933 word types\n",
      "2017-04-21 21:06:28,935 : INFO : PROGRESS: at sentence #480000, processed 10726056 words, keeping 98862 word types\n",
      "2017-04-21 21:06:29,000 : INFO : PROGRESS: at sentence #490000, processed 10952800 words, keeping 99871 word types\n",
      "2017-04-21 21:06:29,060 : INFO : PROGRESS: at sentence #500000, processed 11174456 words, keeping 100765 word types\n",
      "2017-04-21 21:06:29,117 : INFO : PROGRESS: at sentence #510000, processed 11399731 words, keeping 101699 word types\n",
      "2017-04-21 21:06:29,178 : INFO : PROGRESS: at sentence #520000, processed 11623082 words, keeping 102598 word types\n",
      "2017-04-21 21:06:29,245 : INFO : PROGRESS: at sentence #530000, processed 11847480 words, keeping 103400 word types\n",
      "2017-04-21 21:06:29,311 : INFO : PROGRESS: at sentence #540000, processed 12072095 words, keeping 104265 word types\n",
      "2017-04-21 21:06:29,375 : INFO : PROGRESS: at sentence #550000, processed 12297646 words, keeping 105133 word types\n",
      "2017-04-21 21:06:29,438 : INFO : PROGRESS: at sentence #560000, processed 12518936 words, keeping 105997 word types\n",
      "2017-04-21 21:06:29,496 : INFO : PROGRESS: at sentence #570000, processed 12748083 words, keeping 106787 word types\n",
      "2017-04-21 21:06:29,559 : INFO : PROGRESS: at sentence #580000, processed 12969579 words, keeping 107665 word types\n",
      "2017-04-21 21:06:29,624 : INFO : PROGRESS: at sentence #590000, processed 13195104 words, keeping 108501 word types\n",
      "2017-04-21 21:06:29,680 : INFO : PROGRESS: at sentence #600000, processed 13417302 words, keeping 109218 word types\n",
      "2017-04-21 21:06:29,746 : INFO : PROGRESS: at sentence #610000, processed 13638325 words, keeping 110092 word types\n",
      "2017-04-21 21:06:29,813 : INFO : PROGRESS: at sentence #620000, processed 13864650 words, keeping 110837 word types\n",
      "2017-04-21 21:06:29,878 : INFO : PROGRESS: at sentence #630000, processed 14088936 words, keeping 111610 word types\n",
      "2017-04-21 21:06:29,941 : INFO : PROGRESS: at sentence #640000, processed 14309719 words, keeping 112416 word types\n",
      "2017-04-21 21:06:30,006 : INFO : PROGRESS: at sentence #650000, processed 14535475 words, keeping 113196 word types\n",
      "2017-04-21 21:06:30,062 : INFO : PROGRESS: at sentence #660000, processed 14758265 words, keeping 113945 word types\n",
      "2017-04-21 21:06:30,123 : INFO : PROGRESS: at sentence #670000, processed 14981658 words, keeping 114643 word types\n",
      "2017-04-21 21:06:30,189 : INFO : PROGRESS: at sentence #680000, processed 15206490 words, keeping 115354 word types\n",
      "2017-04-21 21:06:30,254 : INFO : PROGRESS: at sentence #690000, processed 15428683 words, keeping 116131 word types\n",
      "2017-04-21 21:06:30,320 : INFO : PROGRESS: at sentence #700000, processed 15657389 words, keeping 116943 word types\n",
      "2017-04-21 21:06:30,379 : INFO : PROGRESS: at sentence #710000, processed 15880378 words, keeping 117596 word types\n",
      "2017-04-21 21:06:30,443 : INFO : PROGRESS: at sentence #720000, processed 16105665 words, keeping 118221 word types\n",
      "2017-04-21 21:06:30,506 : INFO : PROGRESS: at sentence #730000, processed 16332046 words, keeping 118954 word types\n",
      "2017-04-21 21:06:30,569 : INFO : PROGRESS: at sentence #740000, processed 16553079 words, keeping 119668 word types\n",
      "2017-04-21 21:06:30,630 : INFO : PROGRESS: at sentence #750000, processed 16771406 words, keeping 120295 word types\n",
      "2017-04-21 21:06:30,691 : INFO : PROGRESS: at sentence #760000, processed 16990810 words, keeping 120930 word types\n",
      "2017-04-21 21:06:30,755 : INFO : PROGRESS: at sentence #770000, processed 17217947 words, keeping 121703 word types\n",
      "2017-04-21 21:06:30,823 : INFO : PROGRESS: at sentence #780000, processed 17448093 words, keeping 122402 word types\n",
      "2017-04-21 21:06:30,882 : INFO : PROGRESS: at sentence #790000, processed 17675169 words, keeping 123066 word types\n",
      "2017-04-21 21:06:30,920 : INFO : collected 123504 word types from a corpus of 17798270 raw words and 795538 sentences\n",
      "2017-04-21 21:06:30,921 : INFO : Loading a fresh vocabulary\n",
      "2017-04-21 21:06:31,030 : INFO : min_count=40 retains 16490 unique words (13% of original 123504, drops 107014)\n",
      "2017-04-21 21:06:31,031 : INFO : min_count=40 leaves 17239125 word corpus (96% of original 17798270, drops 559145)\n",
      "2017-04-21 21:06:31,081 : INFO : deleting the raw counts dictionary of 123504 items\n",
      "2017-04-21 21:06:31,088 : INFO : sample=0.001 downsamples 48 most-common words\n",
      "2017-04-21 21:06:31,089 : INFO : downsampling leaves estimated 12749798 word corpus (74.0% of prior 17239125)\n",
      "2017-04-21 21:06:31,090 : INFO : estimated required memory for 16490 words and 100 dimensions: 21437000 bytes\n",
      "2017-04-21 21:06:31,161 : INFO : resetting layer weights\n",
      "2017-04-21 21:06:31,348 : INFO : training model with 4 workers on 16490 vocabulary and 100 features, using sg=0 hs=0 sample=0.001 negative=5 window=5\n",
      "2017-04-21 21:06:32,362 : INFO : PROGRESS: at 2.00% examples, 1256359 words/s, in_qsize 7, out_qsize 0\n",
      "2017-04-21 21:06:33,363 : INFO : PROGRESS: at 4.03% examples, 1271467 words/s, in_qsize 8, out_qsize 0\n",
      "2017-04-21 21:06:34,364 : INFO : PROGRESS: at 6.03% examples, 1271256 words/s, in_qsize 7, out_qsize 0\n",
      "2017-04-21 21:06:35,371 : INFO : PROGRESS: at 8.08% examples, 1276695 words/s, in_qsize 7, out_qsize 0\n",
      "2017-04-21 21:06:36,379 : INFO : PROGRESS: at 10.10% examples, 1278204 words/s, in_qsize 7, out_qsize 0\n",
      "2017-04-21 21:06:37,383 : INFO : PROGRESS: at 12.10% examples, 1278675 words/s, in_qsize 6, out_qsize 1\n",
      "2017-04-21 21:06:38,393 : INFO : PROGRESS: at 14.12% examples, 1278007 words/s, in_qsize 8, out_qsize 0\n",
      "2017-04-21 21:06:39,394 : INFO : PROGRESS: at 16.15% examples, 1279916 words/s, in_qsize 7, out_qsize 0\n",
      "2017-04-21 21:06:40,403 : INFO : PROGRESS: at 18.14% examples, 1277923 words/s, in_qsize 6, out_qsize 1\n",
      "2017-04-21 21:06:41,406 : INFO : PROGRESS: at 20.17% examples, 1279103 words/s, in_qsize 7, out_qsize 0\n",
      "2017-04-21 21:06:42,411 : INFO : PROGRESS: at 22.19% examples, 1278644 words/s, in_qsize 6, out_qsize 1\n",
      "2017-04-21 21:06:43,418 : INFO : PROGRESS: at 24.24% examples, 1279178 words/s, in_qsize 7, out_qsize 0\n",
      "2017-04-21 21:06:44,432 : INFO : PROGRESS: at 26.28% examples, 1278837 words/s, in_qsize 7, out_qsize 0\n",
      "2017-04-21 21:06:45,435 : INFO : PROGRESS: at 28.31% examples, 1279676 words/s, in_qsize 7, out_qsize 0\n",
      "2017-04-21 21:06:46,436 : INFO : PROGRESS: at 30.31% examples, 1279674 words/s, in_qsize 7, out_qsize 0\n",
      "2017-04-21 21:06:47,439 : INFO : PROGRESS: at 32.31% examples, 1279862 words/s, in_qsize 7, out_qsize 0\n",
      "2017-04-21 21:06:48,443 : INFO : PROGRESS: at 34.32% examples, 1279969 words/s, in_qsize 7, out_qsize 0\n",
      "2017-04-21 21:06:49,446 : INFO : PROGRESS: at 36.34% examples, 1280178 words/s, in_qsize 7, out_qsize 0\n",
      "2017-04-21 21:06:50,448 : INFO : PROGRESS: at 38.34% examples, 1280103 words/s, in_qsize 6, out_qsize 1\n",
      "2017-04-21 21:06:51,450 : INFO : PROGRESS: at 40.33% examples, 1279583 words/s, in_qsize 7, out_qsize 0\n",
      "2017-04-21 21:06:52,454 : INFO : PROGRESS: at 42.35% examples, 1278979 words/s, in_qsize 7, out_qsize 0\n",
      "2017-04-21 21:06:53,460 : INFO : PROGRESS: at 44.37% examples, 1278751 words/s, in_qsize 7, out_qsize 0\n",
      "2017-04-21 21:06:54,469 : INFO : PROGRESS: at 46.42% examples, 1278899 words/s, in_qsize 7, out_qsize 0\n",
      "2017-04-21 21:06:55,469 : INFO : PROGRESS: at 48.42% examples, 1278878 words/s, in_qsize 6, out_qsize 1\n",
      "2017-04-21 21:06:56,474 : INFO : PROGRESS: at 50.43% examples, 1278987 words/s, in_qsize 6, out_qsize 1\n",
      "2017-04-21 21:06:57,483 : INFO : PROGRESS: at 52.44% examples, 1279119 words/s, in_qsize 7, out_qsize 0\n",
      "2017-04-21 21:06:58,490 : INFO : PROGRESS: at 54.46% examples, 1279358 words/s, in_qsize 7, out_qsize 0\n",
      "2017-04-21 21:06:59,496 : INFO : PROGRESS: at 56.51% examples, 1279869 words/s, in_qsize 7, out_qsize 0\n",
      "2017-04-21 21:07:00,498 : INFO : PROGRESS: at 58.51% examples, 1279789 words/s, in_qsize 6, out_qsize 1\n",
      "2017-04-21 21:07:01,501 : INFO : PROGRESS: at 60.52% examples, 1279879 words/s, in_qsize 7, out_qsize 0\n",
      "2017-04-21 21:07:02,504 : INFO : PROGRESS: at 62.57% examples, 1280221 words/s, in_qsize 7, out_qsize 0\n",
      "2017-04-21 21:07:03,507 : INFO : PROGRESS: at 64.59% examples, 1279907 words/s, in_qsize 7, out_qsize 0\n",
      "2017-04-21 21:07:04,510 : INFO : PROGRESS: at 66.61% examples, 1279739 words/s, in_qsize 7, out_qsize 0\n",
      "2017-04-21 21:07:05,517 : INFO : PROGRESS: at 68.58% examples, 1279089 words/s, in_qsize 6, out_qsize 1\n",
      "2017-04-21 21:07:06,518 : INFO : PROGRESS: at 70.57% examples, 1278678 words/s, in_qsize 6, out_qsize 1\n",
      "2017-04-21 21:07:07,523 : INFO : PROGRESS: at 72.44% examples, 1276529 words/s, in_qsize 8, out_qsize 0\n",
      "2017-04-21 21:07:08,524 : INFO : PROGRESS: at 74.36% examples, 1275270 words/s, in_qsize 7, out_qsize 0\n",
      "2017-04-21 21:07:09,538 : INFO : PROGRESS: at 76.37% examples, 1274901 words/s, in_qsize 7, out_qsize 0\n",
      "2017-04-21 21:07:10,548 : INFO : PROGRESS: at 78.38% examples, 1274924 words/s, in_qsize 7, out_qsize 0\n",
      "2017-04-21 21:07:11,556 : INFO : PROGRESS: at 80.40% examples, 1274927 words/s, in_qsize 7, out_qsize 0\n",
      "2017-04-21 21:07:12,559 : INFO : PROGRESS: at 82.41% examples, 1274795 words/s, in_qsize 6, out_qsize 1\n",
      "2017-04-21 21:07:13,562 : INFO : PROGRESS: at 84.46% examples, 1275175 words/s, in_qsize 7, out_qsize 0\n",
      "2017-04-21 21:07:14,566 : INFO : PROGRESS: at 86.50% examples, 1275486 words/s, in_qsize 7, out_qsize 0\n",
      "2017-04-21 21:07:15,569 : INFO : PROGRESS: at 88.52% examples, 1275689 words/s, in_qsize 8, out_qsize 0\n",
      "2017-04-21 21:07:16,571 : INFO : PROGRESS: at 90.51% examples, 1275569 words/s, in_qsize 7, out_qsize 0\n",
      "2017-04-21 21:07:17,578 : INFO : PROGRESS: at 92.50% examples, 1275452 words/s, in_qsize 7, out_qsize 0\n",
      "2017-04-21 21:07:18,580 : INFO : PROGRESS: at 94.51% examples, 1275659 words/s, in_qsize 6, out_qsize 1\n",
      "2017-04-21 21:07:19,581 : INFO : PROGRESS: at 96.53% examples, 1275871 words/s, in_qsize 7, out_qsize 0\n",
      "2017-04-21 21:07:20,583 : INFO : PROGRESS: at 98.52% examples, 1275767 words/s, in_qsize 6, out_qsize 1\n",
      "2017-04-21 21:07:21,295 : INFO : worker thread finished; awaiting finish of 3 more threads\n",
      "2017-04-21 21:07:21,296 : INFO : worker thread finished; awaiting finish of 2 more threads\n",
      "2017-04-21 21:07:21,301 : INFO : worker thread finished; awaiting finish of 1 more threads\n",
      "2017-04-21 21:07:21,305 : INFO : worker thread finished; awaiting finish of 0 more threads\n",
      "2017-04-21 21:07:21,306 : INFO : training on 88991350 raw words (63750104 effective words) took 50.0s, 1276193 effective words/s\n",
      "2017-04-21 21:07:21,324 : INFO : precomputing L2-norms of word weight vectors\n"
     ]
    }
   ],
   "source": [
    "\n",
    "# Set values for various parameters\n",
    "num_features = 100    # Word vector dimensionality                      \n",
    "min_word_count = 40   # Minimum word count                        \n",
    "num_workers = 4       # Number of threads to run in parallel\n",
    "context = 5          # Context window size                                                                                    \n",
    "downsampling = 1e-3   # Downsample setting for frequent words\n",
    "\n",
    "# Initialize and train the model (this will take some time)\n",
    "from gensim.models import word2vec\n",
    "print (\"Training model...\")\n",
    "model = word2vec.Word2Vec(sentences, workers=num_workers, \\\n",
    "            size=num_features, min_count = min_word_count, \\\n",
    "            window = context, sample = downsampling)\n",
    "\n",
    "# If you don't plan to train the model any further, calling \n",
    "# init_sims will make the model much more memory-efficient.\n",
    "model.init_sims(replace=True)"
   ]
  },
  {
   "cell_type": "markdown",
   "metadata": {
    "deletable": true,
    "editable": true
   },
   "source": [
    "## Part b)"
   ]
  },
  {
   "cell_type": "code",
   "execution_count": 188,
   "metadata": {
    "collapsed": false,
    "deletable": true,
    "editable": true
   },
   "outputs": [
    {
     "name": "stderr",
     "output_type": "stream",
     "text": [
      "2017-04-21 21:07:21,426 : INFO : loading projection weights from /Users/anuragroy/Downloads/GoogleNews-vectors-negative300.bin\n",
      "2017-04-21 21:08:16,758 : INFO : loaded (3000000, 300) matrix from /Users/anuragroy/Downloads/GoogleNews-vectors-negative300.bin\n"
     ]
    }
   ],
   "source": [
    "# Load Google's pre-trained Word2Vec model.\n",
    "import gensim\n",
    "google_model = gensim.models.KeyedVectors.load_word2vec_format('/Users/anuragroy/Downloads/GoogleNews-vectors-negative300.bin', \\\n",
    "                                                               binary=True) "
   ]
  },
  {
   "cell_type": "code",
   "execution_count": 189,
   "metadata": {
    "collapsed": true,
    "deletable": true,
    "editable": true
   },
   "outputs": [],
   "source": [
    "google_dict = dict(zip(google_model.index2word,range(len(google_model.index2word))))"
   ]
  },
  {
   "cell_type": "markdown",
   "metadata": {
    "deletable": true,
    "editable": true
   },
   "source": [
    "## Part c)\n",
    "\n",
    "Creating set Z1, and clustering into 10 segments:"
   ]
  },
  {
   "cell_type": "code",
   "execution_count": 190,
   "metadata": {
    "collapsed": false,
    "deletable": true,
    "editable": true
   },
   "outputs": [
    {
     "name": "stdout",
     "output_type": "stream",
     "text": [
      "Time taken for K Means clustering (Z1):  3.520582914352417 seconds.\n"
     ]
    }
   ],
   "source": [
    "from sklearn.cluster import KMeans\n",
    "import time\n",
    "\n",
    "start = time.time() # Start time\n",
    " \n",
    "Z1 = model.wv.syn0\n",
    "num_clusters = 10  \n",
    "\n",
    "# Initalize a k-means object and use it to extract centroids\n",
    "kmeans_clustering = KMeans( n_clusters = num_clusters )\n",
    "idx = kmeans_clustering.fit_predict(Z1)\n",
    "\n",
    "# Get the end time and print how long the process took\n",
    "end = time.time()\n",
    "elapsed = end - start\n",
    "print (\"Time taken for K Means clustering (Z1): \", elapsed, \"seconds.\")"
   ]
  },
  {
   "cell_type": "code",
   "execution_count": 191,
   "metadata": {
    "collapsed": true,
    "deletable": true,
    "editable": true
   },
   "outputs": [],
   "source": [
    "word_centroid_map = dict(zip( model.wv.index2word, idx ))"
   ]
  },
  {
   "cell_type": "markdown",
   "metadata": {
    "deletable": true,
    "editable": true
   },
   "source": [
    "Sample of 20 words from each cluster:"
   ]
  },
  {
   "cell_type": "code",
   "execution_count": 192,
   "metadata": {
    "collapsed": false,
    "deletable": true,
    "editable": true
   },
   "outputs": [
    {
     "name": "stdout",
     "output_type": "stream",
     "text": [
      "\n",
      "Cluster: 1 \n",
      "\n",
      "['armageddon', 'norris', 'puppet', 'franchise', 'candyman', 'bullshit', 'yikes', 'marple', 'indy', 'penultimate', 'foremost', 'ingmar', 'serial', 'chan', 'dutch', 'maestro', 'pales', 'midnight', 'swashbuckler', 'swashbuckling']\n",
      "\n",
      "Cluster: 2 \n",
      "\n",
      "['suburb', 'aboard', 'mutants', 'union', 'warp', 'rendezvous', 'detectives', 'voodoo', 'continental', 'houses', 'fools', 'oil', 'championship', 'lab', 'areas', 'crust', 'petrified', 'thieves', 'pow', 'jewels']\n",
      "\n",
      "Cluster: 3 \n",
      "\n",
      "['corn', 'um', 'bait', 'chunks', 'cursing', 'throats', 'spiders', 'calendar', 'drill', 'hefty', 'eggs', 'grinning', 'hangs', 'boob', 'thrown', 'screeching', 'vent', 'flashes', 'grocery', 'yelled']\n",
      "\n",
      "Cluster: 4 \n",
      "\n",
      "['aspects', 'integrity', 'avoiding', 'persistent', 'destruction', 'symbol', 'baggage', 'relations', 'budgetary', 'principle', 'continuing', 'layers', 'rampant', 'observations', 'expansion', 'abduction', 'anger', 'profession', 'human', 'advantage']\n",
      "\n",
      "Cluster: 5 \n",
      "\n",
      "['wow', 'funniest', 'entire', 'independent', 'benefit', 'easily', 'english', 'so', 'didn', 'wish', 'criticism', 'concept', 'hard', 'yourselves', 'conceivable', 'collection', 'mins', 'promise', 'handedly', 'warning']\n",
      "\n",
      "Cluster: 6 \n",
      "\n",
      "['taller', 'unfaithful', 'pesky', 'southerner', 'femme', 'parent', 'servant', 'baron', 'magician', 'scottish', 'pammy', 'ranger', 'boyhood', 'malicious', 'kisses', 'ruthless', 'replacement', 'prophet', 'sailor', 'mat']\n",
      "\n",
      "Cluster: 7 \n",
      "\n",
      "['clarkson', 'alan', 'pang', 'stalwart', 'lombard', 'stack', 'wally', 'branagh', 'burt', 'vonnegut', 'rogers', 'lou', 'nielsen', 'borgnine', 'patty', 'shelly', 'witherspoon', 'pedro', 'otto', 'toto']\n",
      "\n",
      "Cluster: 8 \n",
      "\n",
      "['comfortable', 'meticulously', 'accurate', 'intriguing', 'suspenseful', 'implausible', 'ridden', 'distinctly', 'insane', 'coaster', 'fabricated', 'unintentionally', 'generic', 'lousy', 'layered', 'appealing', 'placement', 'bogus', 'realist', 'acted']\n",
      "\n",
      "Cluster: 9 \n",
      "\n",
      "['consist', 'compose', 'remember', 'imply', 'ferrell', 'seek', 'relating', 'help', 'lure', 'feel', 'pose', 'stick', 'disagree', 'gladly', 'love', 'raise', 'relive', 'adjust', 'ruin', 'build']\n",
      "\n",
      "Cluster: 10 \n",
      "\n",
      "['concentrating', 'removes', 'annoyed', 'bothered', 'considered', 'enhanced', 'reported', 'endured', 'perfected', 'invites', 'hunted', 'afloat', 'failed', 'uses', 'rejected', 'witnessing', 'declared', 'perceived', 'cured', 'phoned']\n"
     ]
    }
   ],
   "source": [
    "for clust in range(10):\n",
    "    print (\"\\nCluster:\", clust+1, \"\\n\")\n",
    "    word_list = [key for key, val in word_centroid_map.items() if val == clust][:20]\n",
    "    print (word_list)"
   ]
  },
  {
   "cell_type": "code",
   "execution_count": 193,
   "metadata": {
    "collapsed": true,
    "deletable": true,
    "editable": true
   },
   "outputs": [],
   "source": [
    "def create_bag_of_centroids( wordlist, word_centroid_map ):\n",
    "    #\n",
    "    # The number of clusters is equal to the highest cluster index\n",
    "    # in the word / centroid map\n",
    "    num_centroids = max( word_centroid_map.values() ) + 1\n",
    "    #\n",
    "    # Pre-allocate the bag of centroids vector (for speed)\n",
    "    bag_of_centroids = np.zeros( num_centroids, dtype=\"float32\" )\n",
    "    #\n",
    "    # Loop over the words in the review. If the word is in the vocabulary,\n",
    "    # find which cluster it belongs to, and increment that cluster count \n",
    "    # by one\n",
    "    for word in wordlist:\n",
    "        if word in word_centroid_map:\n",
    "            index = word_centroid_map[word]\n",
    "            bag_of_centroids[index] += 1\n",
    "    #\n",
    "    # Return the \"bag of centroids\"\n",
    "    return bag_of_centroids"
   ]
  },
  {
   "cell_type": "code",
   "execution_count": 194,
   "metadata": {
    "collapsed": true,
    "deletable": true,
    "editable": true
   },
   "outputs": [],
   "source": [
    "# ****************************************************************\n",
    "# Calculate average feature vectors for training and testing sets,\n",
    "# using the functions we defined above. Notice that we now use stop word\n",
    "# removal.\n",
    "\n",
    "clean_train_reviews = []\n",
    "for review in train[\"review\"]:\n",
    "    clean_train_reviews.append( review_to_wordlist( review, \\\n",
    "        remove_stopwords=True ))\n",
    "    \n",
    "clean_test_reviews = []\n",
    "for review in test[\"review\"]:\n",
    "    clean_test_reviews.append( review_to_wordlist( review, \\\n",
    "        remove_stopwords=True ))    \n",
    "\n"
   ]
  },
  {
   "cell_type": "markdown",
   "metadata": {
    "deletable": true,
    "editable": true
   },
   "source": [
    "#### Creating design matrices X1 and X1_test"
   ]
  },
  {
   "cell_type": "code",
   "execution_count": 195,
   "metadata": {
    "collapsed": true,
    "deletable": true,
    "editable": true
   },
   "outputs": [],
   "source": [
    "\n",
    "# Pre-allocate an array for the training set bags of centroids (for speed)\n",
    "X1  = np.zeros( (train[\"review\"].size, num_clusters), \\\n",
    "    dtype=\"float32\" )\n",
    "\n",
    "# Transform the training set reviews into bags of centroids\n",
    "counter = 0\n",
    "for review in clean_train_reviews:\n",
    "    X1[counter] = create_bag_of_centroids( review, \\\n",
    "        word_centroid_map )\n",
    "    counter += 1\n",
    "\n",
    "# Repeat for test reviews \n",
    "X1_test = np.zeros(( test[\"review\"].size, num_clusters), \\\n",
    "    dtype=\"float32\" )\n",
    "\n",
    "counter = 0\n",
    "for review in clean_test_reviews:\n",
    "    X1_test[counter] = create_bag_of_centroids( review, \\\n",
    "        word_centroid_map )\n",
    "    counter += 1"
   ]
  },
  {
   "cell_type": "markdown",
   "metadata": {
    "deletable": true,
    "editable": true
   },
   "source": [
    "#### To create set Z2, we will first subset Google's pretrained model to include only the terms in the word_centroid_map in the interest of speed:"
   ]
  },
  {
   "cell_type": "code",
   "execution_count": 196,
   "metadata": {
    "collapsed": true,
    "deletable": true,
    "editable": true
   },
   "outputs": [],
   "source": [
    "from collections import defaultdict\n",
    "google_dict2 = defaultdict()\n",
    "for key in word_centroid_map.keys():\n",
    "    try:\n",
    "        google_dict2[key] = google_dict[key]\n",
    "    except KeyError:\n",
    "        continue"
   ]
  },
  {
   "cell_type": "code",
   "execution_count": 197,
   "metadata": {
    "collapsed": false,
    "deletable": true,
    "editable": true
   },
   "outputs": [
    {
     "name": "stdout",
     "output_type": "stream",
     "text": [
      "Time taken for K Means clustering:  9.9491708278656 seconds.\n"
     ]
    }
   ],
   "source": [
    "start = time.time() # Start time\n",
    " \n",
    "Z2 = google_model.syn0[list(google_dict2.values())]\n",
    "num_clusters = 10\n",
    "\n",
    "# Initalize a k-means object and use it to extract centroids\n",
    "kmeans_clustering2 = KMeans( n_clusters = num_clusters )\n",
    "idx2 = kmeans_clustering2.fit_predict( Z2 )\n",
    "\n",
    "# Get the end time and print how long the process took\n",
    "end = time.time()\n",
    "elapsed = end - start\n",
    "print (\"Time taken for K Means clustering: \", elapsed, \"seconds.\")"
   ]
  },
  {
   "cell_type": "code",
   "execution_count": 198,
   "metadata": {
    "collapsed": true,
    "deletable": true,
    "editable": true
   },
   "outputs": [],
   "source": [
    "word_centroid_map2 = dict(zip(list(google_dict2.keys()), idx2 ))"
   ]
  },
  {
   "cell_type": "markdown",
   "metadata": {
    "deletable": true,
    "editable": true
   },
   "source": [
    "Sample of 20 words from each cluster:"
   ]
  },
  {
   "cell_type": "code",
   "execution_count": 199,
   "metadata": {
    "collapsed": false,
    "deletable": true,
    "editable": true
   },
   "outputs": [
    {
     "name": "stdout",
     "output_type": "stream",
     "text": [
      "\n",
      "Cluster: 1 \n",
      "\n",
      "['meticulously', 'suspenseful', 'layered', 'femme', 'maestro', 'swashbuckler', 'comic', 'swashbuckling', 'lovemaking', 'artistically', 'documentaries', 'story', 'edited', 'jazzy', 'themes', 'scriptwriting', 'dialog', 'animator', 'extravaganza', 'scriptwriter']\n",
      "\n",
      "Cluster: 2 \n",
      "\n",
      "['integrity', 'destruction', 'baggage', 'relations', 'criticism', 'realist', 'principle', 'observations', 'handedly', 'anger', 'profession', 'voice', 'human', 'feel', 'fullest', 'downfall', 'allies', 'credentials', 'difficulties', 'boredom']\n",
      "\n",
      "Cluster: 3 \n",
      "\n",
      "['removes', 'hangs', 'pales', 'invites', 'uses', 'resides', 'feeds', 'rises', 'elevates', 'recovers', 'strives', 'tends', 'draws', 'disturbs', 'dominates', 'steals', 'prefers', 'concludes', 'crosses', 'refuses']\n",
      "\n",
      "Cluster: 4 \n",
      "\n",
      "['concentrating', 'stalwart', 'ridden', 'aboard', 'avoiding', 'fabricated', 'bothered', 'didn', 'remember', 'endured', 'perfected', 'penultimate', 'spaced', 'serving', 'acted', 'midnight', 'kept', 'thrown', 'nominated', 'hunted']\n",
      "\n",
      "Cluster: 5 \n",
      "\n",
      "['corn', 'stack', 'coaster', 'paste', 'warp', 'bait', 'lures', 'chunks', 'throats', 'spiders', 'patty', 'dictionary', 'layers', 'oil', 'indoors', 'crust', 'sentinel', 'kisses', 'daphne', 'jewels']\n",
      "\n",
      "Cluster: 6 \n",
      "\n",
      "['aspects', 'drilling', 'entire', 'accurate', 'independent', 'lombard', 'persistent', 'consist', 'benefit', 'franchise', 'generic', 'considered', 'enhanced', 'calculated', 'placement', 'reported', 'so', 'wish', 'calendar', 'concept']\n",
      "\n",
      "Cluster: 7 \n",
      "\n",
      "['alan', 'pang', 'um', 'wally', 'norris', 'je', 'burt', 'rogers', 'english', 'selena', 'wong', 'lou', 'shelly', 'indy', 'otto', 'rea', 'chan', 'toto', 'dutch', 'roberts']\n",
      "\n",
      "Cluster: 8 \n",
      "\n",
      "['suburb', 'union', 'southerner', 'rendezvous', 'detectives', 'baron', 'magician', 'unemployed', 'entertainer', 'abduction', 'ranger', 'oldman', 'boyhood', 'thieves', 'monument', 'letterman', 'prophet', 'sailor', 'excursion', 'operative']\n",
      "\n",
      "Cluster: 9 \n",
      "\n",
      "['wow', 'funniest', 'armageddon', 'thugs', 'insane', 'nutty', 'unfaithful', 'mutants', 'puppet', 'pesky', 'candyman', 'bullshit', 'yourselves', 'voodoo', 'grinning', 'typecast', 'fools', 'boob', 'screeching', 'terminator']\n",
      "\n",
      "Cluster: 10 \n",
      "\n",
      "['comfortable', 'intriguing', 'implausible', 'boggling', 'annoyed', 'unintentionally', 'lousy', 'appealing', 'hard', 'conceivable', 'underplayed', 'meager', 'rampant', 'arbitrary', 'callous', 'insipid', 'suddenly', 'differently', 'simpler', 'malicious']\n"
     ]
    }
   ],
   "source": [
    "for clust in range(10):\n",
    "    print (\"\\nCluster:\", clust+1, \"\\n\")\n",
    "    word_list = [key for key, val in word_centroid_map2.items() if val == clust][:20]\n",
    "    print (word_list)"
   ]
  },
  {
   "cell_type": "markdown",
   "metadata": {
    "deletable": true,
    "editable": true
   },
   "source": [
    "#### Creating design matrices X2 and X2_test"
   ]
  },
  {
   "cell_type": "code",
   "execution_count": 200,
   "metadata": {
    "collapsed": true,
    "deletable": true,
    "editable": true
   },
   "outputs": [],
   "source": [
    "# Pre-allocate an array for the training set bags of centroids (for speed)\n",
    "X2 = np.zeros( (train[\"review\"].size, num_clusters), \\\n",
    "    dtype=\"float32\" )\n",
    "\n",
    "# Transform the training set reviews into bags of centroids\n",
    "counter = 0\n",
    "for review in clean_train_reviews:\n",
    "    X2[counter] = create_bag_of_centroids( review, \\\n",
    "        word_centroid_map2 )\n",
    "    counter += 1\n",
    "\n",
    "# Repeat for test reviews \n",
    "X2_test = np.zeros(( test[\"review\"].size, num_clusters), \\\n",
    "    dtype=\"float32\" )\n",
    "\n",
    "counter = 0\n",
    "for review in clean_test_reviews:\n",
    "    X2_test[counter] = create_bag_of_centroids( review, \\\n",
    "        word_centroid_map2 )\n",
    "    counter += 1"
   ]
  },
  {
   "cell_type": "markdown",
   "metadata": {
    "deletable": true,
    "editable": true
   },
   "source": [
    "# Question 2\n",
    "\n",
    "## Part a) \n",
    "\n",
    "LDA model with ntopics = 10"
   ]
  },
  {
   "cell_type": "markdown",
   "metadata": {
    "deletable": true,
    "editable": true
   },
   "source": [
    "Building a cleaned list of training reviews"
   ]
  },
  {
   "cell_type": "code",
   "execution_count": 201,
   "metadata": {
    "collapsed": true,
    "deletable": true,
    "editable": true
   },
   "outputs": [],
   "source": [
    "clean_train_reviews_2 = []\n",
    "for review in train[\"review\"]:\n",
    "    clean_train_reviews_2.append( review_to_wordlist( review, \\\n",
    "        remove_stopwords=True ))\n",
    "       "
   ]
  },
  {
   "cell_type": "markdown",
   "metadata": {
    "deletable": true,
    "editable": true
   },
   "source": [
    "Building a cleaned list of test reviews"
   ]
  },
  {
   "cell_type": "code",
   "execution_count": 202,
   "metadata": {
    "collapsed": true,
    "deletable": true,
    "editable": true
   },
   "outputs": [],
   "source": [
    "clean_test_reviews_2 = []\n",
    "for review in test[\"review\"]:\n",
    "    clean_test_reviews_2.append( review_to_wordlist( review, \\\n",
    "        remove_stopwords=True ))"
   ]
  },
  {
   "cell_type": "markdown",
   "metadata": {
    "deletable": true,
    "editable": true
   },
   "source": [
    "To convert the training data into vectors, we will represent each review by its unique id with the help of a gensim dictionary:"
   ]
  },
  {
   "cell_type": "code",
   "execution_count": 203,
   "metadata": {
    "collapsed": false,
    "deletable": true,
    "editable": true
   },
   "outputs": [
    {
     "name": "stderr",
     "output_type": "stream",
     "text": [
      "2017-04-21 21:56:07,161 : INFO : adding document #0 to Dictionary(0 unique tokens: [])\n",
      "2017-04-21 21:56:08,723 : INFO : adding document #10000 to Dictionary(51374 unique tokens: ['squirts', 'sculptured', 'londoner', 'midriffs', 'isabove']...)\n",
      "2017-04-21 21:56:10,238 : INFO : adding document #20000 to Dictionary(67660 unique tokens: ['squirts', 'sculptured', 'londoner', 'midriffs', 'isabove']...)\n",
      "2017-04-21 21:56:10,996 : INFO : built Dictionary(74065 unique tokens: ['squirts', 'sculptured', 'londoner', 'midriffs', 'isabove']...) from 25000 documents (total 2988089 corpus positions)\n"
     ]
    }
   ],
   "source": [
    "dict_lda = gensim.corpora.Dictionary(clean_train_reviews_2)"
   ]
  },
  {
   "cell_type": "markdown",
   "metadata": {
    "deletable": true,
    "editable": true
   },
   "source": [
    "Using the dictionary above, we create a corpus using doc2bow() to find occurrences of each word"
   ]
  },
  {
   "cell_type": "code",
   "execution_count": 204,
   "metadata": {
    "collapsed": true,
    "deletable": true,
    "editable": true
   },
   "outputs": [],
   "source": [
    "corpus_lda = [dict_lda.doc2bow(words) for words in clean_train_reviews_2]"
   ]
  },
  {
   "cell_type": "code",
   "execution_count": 106,
   "metadata": {
    "collapsed": false,
    "deletable": true,
    "editable": true
   },
   "outputs": [],
   "source": [
    "corpus_lda_test = [dict_lda.doc2bow(words) for words in clean_test_reviews_2]"
   ]
  },
  {
   "cell_type": "code",
   "execution_count": 24,
   "metadata": {
    "collapsed": false,
    "deletable": true,
    "editable": true
   },
   "outputs": [
    {
     "name": "stderr",
     "output_type": "stream",
     "text": [
      "2017-04-20 03:13:38,250 : INFO : storing corpus in Matrix Market format to corpus_lda.mm\n",
      "2017-04-20 03:13:38,252 : INFO : saving sparse matrix to corpus_lda.mm\n",
      "2017-04-20 03:13:38,253 : INFO : PROGRESS: saving document #0\n",
      "2017-04-20 03:13:38,489 : INFO : PROGRESS: saving document #1000\n",
      "2017-04-20 03:13:38,663 : INFO : PROGRESS: saving document #2000\n",
      "2017-04-20 03:13:38,832 : INFO : PROGRESS: saving document #3000\n",
      "2017-04-20 03:13:39,000 : INFO : PROGRESS: saving document #4000\n",
      "2017-04-20 03:13:39,163 : INFO : PROGRESS: saving document #5000\n",
      "2017-04-20 03:13:39,323 : INFO : PROGRESS: saving document #6000\n",
      "2017-04-20 03:13:39,475 : INFO : PROGRESS: saving document #7000\n",
      "2017-04-20 03:13:39,630 : INFO : PROGRESS: saving document #8000\n",
      "2017-04-20 03:13:39,801 : INFO : PROGRESS: saving document #9000\n",
      "2017-04-20 03:13:39,979 : INFO : PROGRESS: saving document #10000\n",
      "2017-04-20 03:13:40,173 : INFO : PROGRESS: saving document #11000\n",
      "2017-04-20 03:13:40,343 : INFO : PROGRESS: saving document #12000\n",
      "2017-04-20 03:13:40,516 : INFO : PROGRESS: saving document #13000\n",
      "2017-04-20 03:13:40,690 : INFO : PROGRESS: saving document #14000\n",
      "2017-04-20 03:13:40,840 : INFO : PROGRESS: saving document #15000\n",
      "2017-04-20 03:13:40,995 : INFO : PROGRESS: saving document #16000\n",
      "2017-04-20 03:13:41,145 : INFO : PROGRESS: saving document #17000\n",
      "2017-04-20 03:13:41,324 : INFO : PROGRESS: saving document #18000\n",
      "2017-04-20 03:13:41,490 : INFO : PROGRESS: saving document #19000\n",
      "2017-04-20 03:13:41,681 : INFO : PROGRESS: saving document #20000\n",
      "2017-04-20 03:13:41,902 : INFO : PROGRESS: saving document #21000\n",
      "2017-04-20 03:13:42,080 : INFO : PROGRESS: saving document #22000\n",
      "2017-04-20 03:13:42,245 : INFO : PROGRESS: saving document #23000\n",
      "2017-04-20 03:13:42,443 : INFO : PROGRESS: saving document #24000\n",
      "2017-04-20 03:13:42,595 : INFO : saved 25000x74065 matrix, density=0.132% (2450404/1851625000)\n",
      "2017-04-20 03:13:42,597 : INFO : saving MmCorpus index to corpus_lda.mm.index\n"
     ]
    }
   ],
   "source": [
    "gensim.corpora.MmCorpus.serialize('corpus_lda.mm', corpus_lda)"
   ]
  },
  {
   "cell_type": "code",
   "execution_count": 108,
   "metadata": {
    "collapsed": false,
    "deletable": true,
    "editable": true
   },
   "outputs": [
    {
     "name": "stderr",
     "output_type": "stream",
     "text": [
      "2017-04-21 12:45:57,606 : INFO : storing corpus in Matrix Market format to corpus_lda_test.mm\n",
      "2017-04-21 12:45:57,625 : INFO : saving sparse matrix to corpus_lda_test.mm\n",
      "2017-04-21 12:45:57,628 : INFO : PROGRESS: saving document #0\n",
      "2017-04-21 12:45:57,793 : INFO : PROGRESS: saving document #1000\n",
      "2017-04-21 12:45:57,942 : INFO : PROGRESS: saving document #2000\n",
      "2017-04-21 12:45:58,088 : INFO : PROGRESS: saving document #3000\n",
      "2017-04-21 12:45:58,234 : INFO : PROGRESS: saving document #4000\n",
      "2017-04-21 12:45:58,393 : INFO : PROGRESS: saving document #5000\n",
      "2017-04-21 12:45:58,549 : INFO : PROGRESS: saving document #6000\n",
      "2017-04-21 12:45:58,703 : INFO : PROGRESS: saving document #7000\n",
      "2017-04-21 12:45:58,854 : INFO : PROGRESS: saving document #8000\n",
      "2017-04-21 12:45:59,003 : INFO : PROGRESS: saving document #9000\n",
      "2017-04-21 12:45:59,158 : INFO : PROGRESS: saving document #10000\n",
      "2017-04-21 12:45:59,311 : INFO : PROGRESS: saving document #11000\n",
      "2017-04-21 12:45:59,466 : INFO : PROGRESS: saving document #12000\n",
      "2017-04-21 12:45:59,629 : INFO : PROGRESS: saving document #13000\n",
      "2017-04-21 12:45:59,812 : INFO : PROGRESS: saving document #14000\n",
      "2017-04-21 12:45:59,977 : INFO : PROGRESS: saving document #15000\n",
      "2017-04-21 12:46:00,136 : INFO : PROGRESS: saving document #16000\n",
      "2017-04-21 12:46:00,324 : INFO : PROGRESS: saving document #17000\n",
      "2017-04-21 12:46:00,514 : INFO : PROGRESS: saving document #18000\n",
      "2017-04-21 12:46:00,736 : INFO : PROGRESS: saving document #19000\n",
      "2017-04-21 12:46:00,922 : INFO : PROGRESS: saving document #20000\n",
      "2017-04-21 12:46:01,116 : INFO : PROGRESS: saving document #21000\n",
      "2017-04-21 12:46:01,293 : INFO : PROGRESS: saving document #22000\n",
      "2017-04-21 12:46:01,483 : INFO : PROGRESS: saving document #23000\n",
      "2017-04-21 12:46:01,678 : INFO : PROGRESS: saving document #24000\n",
      "2017-04-21 12:46:01,856 : INFO : saved 25000x74065 matrix, density=0.127% (2356774/1851625000)\n",
      "2017-04-21 12:46:01,867 : INFO : saving MmCorpus index to corpus_lda_test.mm.index\n"
     ]
    }
   ],
   "source": [
    "gensim.corpora.MmCorpus.serialize('corpus_lda_test.mm', corpus_lda_test)"
   ]
  },
  {
   "cell_type": "code",
   "execution_count": 25,
   "metadata": {
    "collapsed": false,
    "deletable": true,
    "editable": true
   },
   "outputs": [
    {
     "name": "stderr",
     "output_type": "stream",
     "text": [
      "2017-04-20 03:13:42,610 : INFO : loaded corpus index from corpus_lda.mm.index\n",
      "2017-04-20 03:13:42,612 : INFO : initializing corpus reader from corpus_lda.mm\n",
      "2017-04-20 03:13:42,614 : INFO : accepted corpus with 25000 documents, 74065 features, 2450404 non-zero entries\n"
     ]
    }
   ],
   "source": [
    "mm = gensim.corpora.MmCorpus('corpus_lda.mm')\n"
   ]
  },
  {
   "cell_type": "code",
   "execution_count": 109,
   "metadata": {
    "collapsed": false,
    "deletable": true,
    "editable": true
   },
   "outputs": [
    {
     "name": "stderr",
     "output_type": "stream",
     "text": [
      "2017-04-21 12:46:20,847 : INFO : loaded corpus index from corpus_lda_test.mm.index\n",
      "2017-04-21 12:46:20,850 : INFO : initializing corpus reader from corpus_lda_test.mm\n",
      "2017-04-21 12:46:20,853 : INFO : accepted corpus with 25000 documents, 74065 features, 2356774 non-zero entries\n"
     ]
    }
   ],
   "source": [
    "mm_test = gensim.corpora.MmCorpus('corpus_lda_test.mm')\n",
    "\n"
   ]
  },
  {
   "cell_type": "code",
   "execution_count": 207,
   "metadata": {
    "collapsed": false,
    "deletable": true,
    "editable": true
   },
   "outputs": [
    {
     "name": "stderr",
     "output_type": "stream",
     "text": [
      "2017-04-23 00:00:20,920 : INFO : using symmetric alpha at 0.1\n",
      "2017-04-23 00:00:20,937 : INFO : using symmetric eta at 1.3501653952609195e-05\n",
      "2017-04-23 00:00:20,962 : INFO : using serial LDA version on this node\n",
      "2017-04-23 00:00:25,590 : INFO : running batch LDA training, 10 topics, 10 passes over the supplied corpus of 25000 documents, updating model once every 25000 documents, evaluating perplexity every 20000 documents, iterating 50x with a convergence threshold of 0.001000\n",
      "2017-04-23 00:00:26,459 : INFO : PROGRESS: pass 0, at document #2000/25000\n",
      "2017-04-23 00:00:30,975 : INFO : PROGRESS: pass 0, at document #4000/25000\n",
      "2017-04-23 00:00:34,987 : INFO : PROGRESS: pass 0, at document #6000/25000\n",
      "2017-04-23 00:00:39,017 : INFO : PROGRESS: pass 0, at document #8000/25000\n",
      "2017-04-23 00:00:43,050 : INFO : PROGRESS: pass 0, at document #10000/25000\n",
      "2017-04-23 00:00:47,540 : INFO : PROGRESS: pass 0, at document #12000/25000\n",
      "2017-04-23 00:00:51,412 : INFO : PROGRESS: pass 0, at document #14000/25000\n",
      "2017-04-23 00:00:55,198 : INFO : PROGRESS: pass 0, at document #16000/25000\n",
      "2017-04-23 00:00:58,953 : INFO : PROGRESS: pass 0, at document #18000/25000\n",
      "2017-04-23 00:01:19,918 : INFO : -12.133 per-word bound, 4492.8 perplexity estimate based on a held-out corpus of 2000 documents with 233362 words\n",
      "2017-04-23 00:01:19,919 : INFO : PROGRESS: pass 0, at document #20000/25000\n",
      "2017-04-23 00:01:23,714 : INFO : PROGRESS: pass 0, at document #22000/25000\n",
      "2017-04-23 00:01:27,470 : INFO : PROGRESS: pass 0, at document #24000/25000\n",
      "2017-04-23 00:01:42,330 : INFO : -12.139 per-word bound, 4509.4 perplexity estimate based on a held-out corpus of 1000 documents with 114852 words\n",
      "2017-04-23 00:01:42,331 : INFO : PROGRESS: pass 0, at document #25000/25000\n",
      "2017-04-23 00:01:45,617 : INFO : topic #0 (0.100): 0.014*\"movie\" + 0.012*\"film\" + 0.007*\"one\" + 0.006*\"time\" + 0.005*\"would\" + 0.005*\"like\" + 0.005*\"even\" + 0.005*\"good\" + 0.005*\"story\" + 0.004*\"get\"\n",
      "2017-04-23 00:01:45,620 : INFO : topic #6 (0.100): 0.019*\"film\" + 0.010*\"movie\" + 0.009*\"like\" + 0.007*\"one\" + 0.006*\"good\" + 0.005*\"really\" + 0.005*\"story\" + 0.005*\"time\" + 0.004*\"well\" + 0.004*\"bad\"\n",
      "2017-04-23 00:01:45,623 : INFO : topic #5 (0.100): 0.015*\"movie\" + 0.010*\"film\" + 0.008*\"one\" + 0.006*\"like\" + 0.005*\"time\" + 0.005*\"would\" + 0.004*\"see\" + 0.004*\"first\" + 0.004*\"people\" + 0.004*\"even\"\n",
      "2017-04-23 00:01:45,626 : INFO : topic #3 (0.100): 0.016*\"movie\" + 0.014*\"film\" + 0.014*\"one\" + 0.006*\"good\" + 0.006*\"like\" + 0.004*\"would\" + 0.004*\"even\" + 0.004*\"really\" + 0.004*\"well\" + 0.003*\"story\"\n",
      "2017-04-23 00:01:45,628 : INFO : topic #7 (0.100): 0.015*\"movie\" + 0.015*\"film\" + 0.008*\"like\" + 0.007*\"one\" + 0.005*\"really\" + 0.005*\"good\" + 0.005*\"even\" + 0.004*\"would\" + 0.004*\"story\" + 0.004*\"well\"\n",
      "2017-04-23 00:01:45,632 : INFO : topic diff=4.763481, rho=1.000000\n",
      "2017-04-23 00:01:46,152 : INFO : PROGRESS: pass 1, at document #2000/25000\n",
      "2017-04-23 00:01:49,825 : INFO : PROGRESS: pass 1, at document #4000/25000\n",
      "2017-04-23 00:01:53,442 : INFO : PROGRESS: pass 1, at document #6000/25000\n",
      "2017-04-23 00:01:57,021 : INFO : PROGRESS: pass 1, at document #8000/25000\n",
      "2017-04-23 00:02:00,626 : INFO : PROGRESS: pass 1, at document #10000/25000\n",
      "2017-04-23 00:02:04,264 : INFO : PROGRESS: pass 1, at document #12000/25000\n",
      "2017-04-23 00:02:07,856 : INFO : PROGRESS: pass 1, at document #14000/25000\n",
      "2017-04-23 00:02:11,476 : INFO : PROGRESS: pass 1, at document #16000/25000\n",
      "2017-04-23 00:02:15,051 : INFO : PROGRESS: pass 1, at document #18000/25000\n",
      "2017-04-23 00:02:29,814 : INFO : -8.821 per-word bound, 452.2 perplexity estimate based on a held-out corpus of 2000 documents with 233362 words\n",
      "2017-04-23 00:02:29,815 : INFO : PROGRESS: pass 1, at document #20000/25000\n",
      "2017-04-23 00:02:33,430 : INFO : PROGRESS: pass 1, at document #22000/25000\n",
      "2017-04-23 00:02:37,031 : INFO : PROGRESS: pass 1, at document #24000/25000\n",
      "2017-04-23 00:02:46,217 : INFO : -8.802 per-word bound, 446.5 perplexity estimate based on a held-out corpus of 1000 documents with 114852 words\n",
      "2017-04-23 00:02:46,218 : INFO : PROGRESS: pass 1, at document #25000/25000\n",
      "2017-04-23 00:02:49,080 : INFO : topic #9 (0.100): 0.019*\"movie\" + 0.013*\"film\" + 0.009*\"good\" + 0.008*\"like\" + 0.007*\"one\" + 0.004*\"really\" + 0.004*\"even\" + 0.004*\"story\" + 0.004*\"would\" + 0.004*\"characters\"\n",
      "2017-04-23 00:02:49,082 : INFO : topic #2 (0.100): 0.010*\"film\" + 0.008*\"movie\" + 0.007*\"one\" + 0.005*\"like\" + 0.004*\"really\" + 0.004*\"show\" + 0.004*\"even\" + 0.003*\"much\" + 0.003*\"first\" + 0.003*\"made\"\n",
      "2017-04-23 00:02:49,084 : INFO : topic #5 (0.100): 0.016*\"movie\" + 0.010*\"film\" + 0.008*\"one\" + 0.006*\"like\" + 0.005*\"time\" + 0.005*\"would\" + 0.004*\"first\" + 0.004*\"see\" + 0.004*\"people\" + 0.004*\"even\"\n",
      "2017-04-23 00:02:49,086 : INFO : topic #7 (0.100): 0.015*\"film\" + 0.015*\"movie\" + 0.008*\"like\" + 0.006*\"one\" + 0.005*\"really\" + 0.005*\"good\" + 0.005*\"even\" + 0.004*\"would\" + 0.004*\"story\" + 0.004*\"well\"\n",
      "2017-04-23 00:02:49,088 : INFO : topic #8 (0.100): 0.016*\"movie\" + 0.013*\"film\" + 0.009*\"one\" + 0.007*\"see\" + 0.007*\"like\" + 0.005*\"time\" + 0.005*\"well\" + 0.005*\"even\" + 0.005*\"story\" + 0.004*\"would\"\n",
      "2017-04-23 00:02:49,092 : INFO : topic diff=0.355874, rho=0.262613\n",
      "2017-04-23 00:02:49,605 : INFO : PROGRESS: pass 2, at document #2000/25000\n",
      "2017-04-23 00:02:53,195 : INFO : PROGRESS: pass 2, at document #4000/25000\n",
      "2017-04-23 00:02:56,742 : INFO : PROGRESS: pass 2, at document #6000/25000\n",
      "2017-04-23 00:03:00,277 : INFO : PROGRESS: pass 2, at document #8000/25000\n",
      "2017-04-23 00:03:03,825 : INFO : PROGRESS: pass 2, at document #10000/25000\n",
      "2017-04-23 00:03:07,436 : INFO : PROGRESS: pass 2, at document #12000/25000\n",
      "2017-04-23 00:03:10,992 : INFO : PROGRESS: pass 2, at document #14000/25000\n",
      "2017-04-23 00:03:14,522 : INFO : PROGRESS: pass 2, at document #16000/25000\n",
      "2017-04-23 00:03:18,111 : INFO : PROGRESS: pass 2, at document #18000/25000\n",
      "2017-04-23 00:03:32,800 : INFO : -8.784 per-word bound, 440.7 perplexity estimate based on a held-out corpus of 2000 documents with 233362 words\n",
      "2017-04-23 00:03:32,801 : INFO : PROGRESS: pass 2, at document #20000/25000\n",
      "2017-04-23 00:03:36,312 : INFO : PROGRESS: pass 2, at document #22000/25000\n",
      "2017-04-23 00:03:39,896 : INFO : PROGRESS: pass 2, at document #24000/25000\n",
      "2017-04-23 00:03:49,003 : INFO : -8.765 per-word bound, 435.1 perplexity estimate based on a held-out corpus of 1000 documents with 114852 words\n",
      "2017-04-23 00:03:49,004 : INFO : PROGRESS: pass 2, at document #25000/25000\n",
      "2017-04-23 00:03:51,771 : INFO : topic #3 (0.100): 0.016*\"movie\" + 0.014*\"film\" + 0.014*\"one\" + 0.006*\"good\" + 0.006*\"like\" + 0.004*\"would\" + 0.004*\"even\" + 0.004*\"well\" + 0.004*\"great\" + 0.003*\"really\"\n",
      "2017-04-23 00:03:51,773 : INFO : topic #8 (0.100): 0.016*\"movie\" + 0.013*\"film\" + 0.009*\"one\" + 0.007*\"like\" + 0.007*\"see\" + 0.005*\"time\" + 0.005*\"well\" + 0.005*\"even\" + 0.005*\"story\" + 0.005*\"would\"\n",
      "2017-04-23 00:03:51,774 : INFO : topic #9 (0.100): 0.019*\"movie\" + 0.013*\"film\" + 0.010*\"good\" + 0.008*\"like\" + 0.007*\"one\" + 0.005*\"really\" + 0.004*\"even\" + 0.004*\"story\" + 0.004*\"characters\" + 0.004*\"would\"\n",
      "2017-04-23 00:03:51,776 : INFO : topic #7 (0.100): 0.015*\"film\" + 0.015*\"movie\" + 0.008*\"like\" + 0.006*\"one\" + 0.005*\"really\" + 0.005*\"good\" + 0.005*\"even\" + 0.004*\"would\" + 0.004*\"story\" + 0.004*\"well\"\n",
      "2017-04-23 00:03:51,778 : INFO : topic #2 (0.100): 0.010*\"film\" + 0.007*\"movie\" + 0.007*\"one\" + 0.005*\"show\" + 0.004*\"like\" + 0.004*\"really\" + 0.004*\"even\" + 0.003*\"much\" + 0.003*\"first\" + 0.003*\"get\"\n",
      "2017-04-23 00:03:51,782 : INFO : topic diff=0.341428, rho=0.254000\n",
      "2017-04-23 00:03:52,295 : INFO : PROGRESS: pass 3, at document #2000/25000\n",
      "2017-04-23 00:03:55,817 : INFO : PROGRESS: pass 3, at document #4000/25000\n",
      "2017-04-23 00:03:59,341 : INFO : PROGRESS: pass 3, at document #6000/25000\n",
      "2017-04-23 00:04:02,833 : INFO : PROGRESS: pass 3, at document #8000/25000\n",
      "2017-04-23 00:04:06,359 : INFO : PROGRESS: pass 3, at document #10000/25000\n",
      "2017-04-23 00:04:09,869 : INFO : PROGRESS: pass 3, at document #12000/25000\n",
      "2017-04-23 00:04:13,382 : INFO : PROGRESS: pass 3, at document #14000/25000\n",
      "2017-04-23 00:04:16,901 : INFO : PROGRESS: pass 3, at document #16000/25000\n",
      "2017-04-23 00:04:20,362 : INFO : PROGRESS: pass 3, at document #18000/25000\n",
      "2017-04-23 00:12:52,835 : INFO : -8.754 per-word bound, 431.7 perplexity estimate based on a held-out corpus of 2000 documents with 233362 words\n",
      "2017-04-23 00:12:52,836 : INFO : PROGRESS: pass 3, at document #20000/25000\n",
      "2017-04-23 00:12:56,374 : INFO : PROGRESS: pass 3, at document #22000/25000\n",
      "2017-04-23 00:12:59,938 : INFO : PROGRESS: pass 3, at document #24000/25000\n",
      "2017-04-23 00:13:09,540 : INFO : -8.736 per-word bound, 426.2 perplexity estimate based on a held-out corpus of 1000 documents with 114852 words\n",
      "2017-04-23 00:13:09,541 : INFO : PROGRESS: pass 3, at document #25000/25000\n",
      "2017-04-23 00:13:12,480 : INFO : topic #4 (0.100): 0.010*\"film\" + 0.009*\"one\" + 0.006*\"like\" + 0.006*\"movie\" + 0.003*\"also\" + 0.003*\"time\" + 0.003*\"way\" + 0.003*\"even\" + 0.003*\"series\" + 0.003*\"much\"\n",
      "2017-04-23 00:13:12,482 : INFO : topic #5 (0.100): 0.017*\"movie\" + 0.009*\"film\" + 0.008*\"one\" + 0.007*\"like\" + 0.005*\"time\" + 0.005*\"would\" + 0.004*\"people\" + 0.004*\"see\" + 0.004*\"first\" + 0.004*\"even\"\n",
      "2017-04-23 00:13:12,483 : INFO : topic #9 (0.100): 0.020*\"movie\" + 0.012*\"film\" + 0.010*\"good\" + 0.009*\"like\" + 0.007*\"one\" + 0.005*\"really\" + 0.004*\"even\" + 0.004*\"story\" + 0.004*\"characters\" + 0.004*\"would\"\n",
      "2017-04-23 00:13:12,485 : INFO : topic #3 (0.100): 0.015*\"movie\" + 0.014*\"film\" + 0.014*\"one\" + 0.006*\"good\" + 0.006*\"like\" + 0.004*\"would\" + 0.004*\"even\" + 0.004*\"great\" + 0.004*\"well\" + 0.003*\"story\"\n",
      "2017-04-23 00:13:12,487 : INFO : topic #6 (0.100): 0.021*\"film\" + 0.008*\"movie\" + 0.008*\"like\" + 0.007*\"one\" + 0.006*\"good\" + 0.005*\"story\" + 0.005*\"really\" + 0.004*\"time\" + 0.004*\"well\" + 0.004*\"great\"\n",
      "2017-04-23 00:13:12,490 : INFO : topic diff=0.319231, rho=0.246183\n",
      "2017-04-23 00:13:13,048 : INFO : PROGRESS: pass 4, at document #2000/25000\n",
      "2017-04-23 00:13:16,968 : INFO : PROGRESS: pass 4, at document #4000/25000\n",
      "2017-04-23 00:13:20,690 : INFO : PROGRESS: pass 4, at document #6000/25000\n",
      "2017-04-23 00:13:24,743 : INFO : PROGRESS: pass 4, at document #8000/25000\n",
      "2017-04-23 00:13:28,598 : INFO : PROGRESS: pass 4, at document #10000/25000\n",
      "2017-04-23 00:13:32,534 : INFO : PROGRESS: pass 4, at document #12000/25000\n",
      "2017-04-23 00:13:36,308 : INFO : PROGRESS: pass 4, at document #14000/25000\n",
      "2017-04-23 00:13:40,236 : INFO : PROGRESS: pass 4, at document #16000/25000\n",
      "2017-04-23 00:13:44,133 : INFO : PROGRESS: pass 4, at document #18000/25000\n",
      "2017-04-23 00:13:59,751 : INFO : -8.731 per-word bound, 424.8 perplexity estimate based on a held-out corpus of 2000 documents with 233362 words\n",
      "2017-04-23 00:13:59,752 : INFO : PROGRESS: pass 4, at document #20000/25000\n",
      "2017-04-23 00:14:03,412 : INFO : PROGRESS: pass 4, at document #22000/25000\n",
      "2017-04-23 00:14:07,112 : INFO : PROGRESS: pass 4, at document #24000/25000\n",
      "2017-04-23 00:14:16,532 : INFO : -8.713 per-word bound, 419.6 perplexity estimate based on a held-out corpus of 1000 documents with 114852 words\n",
      "2017-04-23 00:14:16,533 : INFO : PROGRESS: pass 4, at document #25000/25000\n",
      "2017-04-23 00:14:19,480 : INFO : topic #4 (0.100): 0.010*\"film\" + 0.009*\"one\" + 0.006*\"like\" + 0.005*\"movie\" + 0.003*\"series\" + 0.003*\"also\" + 0.003*\"time\" + 0.003*\"way\" + 0.003*\"even\" + 0.003*\"people\"\n",
      "2017-04-23 00:14:19,482 : INFO : topic #9 (0.100): 0.020*\"movie\" + 0.012*\"film\" + 0.010*\"good\" + 0.009*\"like\" + 0.007*\"one\" + 0.005*\"really\" + 0.004*\"even\" + 0.004*\"story\" + 0.004*\"would\" + 0.004*\"characters\"\n",
      "2017-04-23 00:14:19,484 : INFO : topic #0 (0.100): 0.013*\"film\" + 0.011*\"movie\" + 0.007*\"one\" + 0.005*\"time\" + 0.005*\"would\" + 0.005*\"like\" + 0.005*\"story\" + 0.004*\"even\" + 0.004*\"good\" + 0.003*\"also\"\n",
      "2017-04-23 00:14:19,486 : INFO : topic #3 (0.100): 0.015*\"movie\" + 0.014*\"film\" + 0.014*\"one\" + 0.006*\"good\" + 0.006*\"like\" + 0.004*\"would\" + 0.004*\"even\" + 0.004*\"great\" + 0.004*\"well\" + 0.003*\"story\"\n",
      "2017-04-23 00:14:19,488 : INFO : topic #6 (0.100): 0.021*\"film\" + 0.008*\"movie\" + 0.007*\"like\" + 0.007*\"one\" + 0.006*\"good\" + 0.005*\"story\" + 0.005*\"really\" + 0.004*\"time\" + 0.004*\"well\" + 0.004*\"great\"\n",
      "2017-04-23 00:14:19,491 : INFO : topic diff=0.295560, rho=0.239046\n",
      "2017-04-23 00:14:20,012 : INFO : PROGRESS: pass 5, at document #2000/25000\n",
      "2017-04-23 00:14:23,664 : INFO : PROGRESS: pass 5, at document #4000/25000\n",
      "2017-04-23 00:14:27,378 : INFO : PROGRESS: pass 5, at document #6000/25000\n",
      "2017-04-23 00:14:41,254 : INFO : PROGRESS: pass 5, at document #8000/25000\n",
      "2017-04-23 00:14:44,971 : INFO : PROGRESS: pass 5, at document #10000/25000\n",
      "2017-04-23 00:14:48,626 : INFO : PROGRESS: pass 5, at document #12000/25000\n",
      "2017-04-23 00:14:52,300 : INFO : PROGRESS: pass 5, at document #14000/25000\n",
      "2017-04-23 00:14:55,902 : INFO : PROGRESS: pass 5, at document #16000/25000\n",
      "2017-04-23 00:14:59,556 : INFO : PROGRESS: pass 5, at document #18000/25000\n",
      "2017-04-23 00:15:15,263 : INFO : -8.712 per-word bound, 419.4 perplexity estimate based on a held-out corpus of 2000 documents with 233362 words\n",
      "2017-04-23 00:15:15,264 : INFO : PROGRESS: pass 5, at document #20000/25000\n",
      "2017-04-23 00:15:19,017 : INFO : PROGRESS: pass 5, at document #22000/25000\n",
      "2017-04-23 00:15:22,717 : INFO : PROGRESS: pass 5, at document #24000/25000\n",
      "2017-04-23 00:15:32,426 : INFO : -8.694 per-word bound, 414.3 perplexity estimate based on a held-out corpus of 1000 documents with 114852 words\n",
      "2017-04-23 00:15:32,427 : INFO : PROGRESS: pass 5, at document #25000/25000\n",
      "2017-04-23 00:15:35,355 : INFO : topic #1 (0.100): 0.025*\"movie\" + 0.009*\"one\" + 0.007*\"film\" + 0.006*\"bad\" + 0.005*\"good\" + 0.005*\"would\" + 0.005*\"like\" + 0.005*\"time\" + 0.005*\"movies\" + 0.004*\"way\"\n",
      "2017-04-23 00:15:35,357 : INFO : topic #5 (0.100): 0.018*\"movie\" + 0.009*\"one\" + 0.008*\"film\" + 0.007*\"like\" + 0.005*\"time\" + 0.005*\"would\" + 0.005*\"even\" + 0.005*\"people\" + 0.004*\"see\" + 0.004*\"first\"\n",
      "2017-04-23 00:15:35,359 : INFO : topic #3 (0.100): 0.015*\"movie\" + 0.015*\"film\" + 0.014*\"one\" + 0.006*\"good\" + 0.006*\"like\" + 0.004*\"would\" + 0.004*\"even\" + 0.004*\"great\" + 0.004*\"well\" + 0.003*\"story\"\n",
      "2017-04-23 00:15:35,361 : INFO : topic #4 (0.100): 0.010*\"film\" + 0.009*\"one\" + 0.006*\"like\" + 0.005*\"movie\" + 0.004*\"series\" + 0.003*\"also\" + 0.003*\"time\" + 0.003*\"even\" + 0.003*\"people\" + 0.003*\"way\"\n",
      "2017-04-23 00:15:35,363 : INFO : topic #9 (0.100): 0.020*\"movie\" + 0.012*\"film\" + 0.011*\"good\" + 0.009*\"like\" + 0.007*\"one\" + 0.005*\"really\" + 0.004*\"story\" + 0.004*\"even\" + 0.004*\"see\" + 0.004*\"would\"\n",
      "2017-04-23 00:15:35,366 : INFO : topic diff=0.271841, rho=0.232495\n",
      "2017-04-23 00:15:35,888 : INFO : PROGRESS: pass 6, at document #2000/25000\n",
      "2017-04-23 00:15:39,634 : INFO : PROGRESS: pass 6, at document #4000/25000\n",
      "2017-04-23 00:15:43,318 : INFO : PROGRESS: pass 6, at document #6000/25000\n",
      "2017-04-23 00:15:47,123 : INFO : PROGRESS: pass 6, at document #8000/25000\n",
      "2017-04-23 00:15:50,890 : INFO : PROGRESS: pass 6, at document #10000/25000\n",
      "2017-04-23 00:15:54,526 : INFO : PROGRESS: pass 6, at document #12000/25000\n",
      "2017-04-23 00:15:58,068 : INFO : PROGRESS: pass 6, at document #14000/25000\n",
      "2017-04-23 00:16:02,006 : INFO : PROGRESS: pass 6, at document #16000/25000\n",
      "2017-04-23 00:16:05,737 : INFO : PROGRESS: pass 6, at document #18000/25000\n",
      "2017-04-23 00:16:21,189 : INFO : -8.697 per-word bound, 415.0 perplexity estimate based on a held-out corpus of 2000 documents with 233362 words\n",
      "2017-04-23 00:16:21,191 : INFO : PROGRESS: pass 6, at document #20000/25000\n",
      "2017-04-23 00:16:24,922 : INFO : PROGRESS: pass 6, at document #22000/25000\n",
      "2017-04-23 00:16:28,853 : INFO : PROGRESS: pass 6, at document #24000/25000\n",
      "2017-04-23 00:16:38,197 : INFO : -8.679 per-word bound, 409.9 perplexity estimate based on a held-out corpus of 1000 documents with 114852 words\n",
      "2017-04-23 00:16:38,198 : INFO : PROGRESS: pass 6, at document #25000/25000\n",
      "2017-04-23 00:16:41,230 : INFO : topic #8 (0.100): 0.017*\"movie\" + 0.014*\"film\" + 0.009*\"one\" + 0.007*\"like\" + 0.007*\"see\" + 0.005*\"time\" + 0.005*\"story\" + 0.005*\"well\" + 0.005*\"would\" + 0.005*\"even\"\n",
      "2017-04-23 00:16:41,232 : INFO : topic #0 (0.100): 0.013*\"film\" + 0.010*\"movie\" + 0.007*\"one\" + 0.005*\"time\" + 0.005*\"story\" + 0.005*\"would\" + 0.005*\"like\" + 0.004*\"even\" + 0.004*\"good\" + 0.003*\"also\"\n",
      "2017-04-23 00:16:41,234 : INFO : topic #2 (0.100): 0.008*\"film\" + 0.007*\"one\" + 0.005*\"movie\" + 0.005*\"show\" + 0.004*\"like\" + 0.003*\"really\" + 0.003*\"best\" + 0.003*\"two\" + 0.003*\"even\" + 0.003*\"get\"\n",
      "2017-04-23 00:16:41,235 : INFO : topic #3 (0.100): 0.015*\"film\" + 0.014*\"movie\" + 0.014*\"one\" + 0.006*\"good\" + 0.006*\"like\" + 0.004*\"would\" + 0.004*\"great\" + 0.004*\"even\" + 0.004*\"well\" + 0.003*\"story\"\n",
      "2017-04-23 00:16:41,237 : INFO : topic #7 (0.100): 0.016*\"film\" + 0.014*\"movie\" + 0.008*\"like\" + 0.007*\"one\" + 0.005*\"really\" + 0.005*\"good\" + 0.005*\"even\" + 0.005*\"story\" + 0.004*\"would\" + 0.004*\"well\"\n",
      "2017-04-23 00:16:41,241 : INFO : topic diff=0.248484, rho=0.226455\n",
      "2017-04-23 00:16:41,762 : INFO : PROGRESS: pass 7, at document #2000/25000\n",
      "2017-04-23 00:16:45,364 : INFO : PROGRESS: pass 7, at document #4000/25000\n",
      "2017-04-23 00:16:48,977 : INFO : PROGRESS: pass 7, at document #6000/25000\n",
      "2017-04-23 00:16:52,518 : INFO : PROGRESS: pass 7, at document #8000/25000\n",
      "2017-04-23 00:16:56,127 : INFO : PROGRESS: pass 7, at document #10000/25000\n",
      "2017-04-23 00:16:59,777 : INFO : PROGRESS: pass 7, at document #12000/25000\n",
      "2017-04-23 00:17:03,356 : INFO : PROGRESS: pass 7, at document #14000/25000\n",
      "2017-04-23 00:17:06,957 : INFO : PROGRESS: pass 7, at document #16000/25000\n",
      "2017-04-23 00:17:10,514 : INFO : PROGRESS: pass 7, at document #18000/25000\n",
      "2017-04-23 00:17:25,478 : INFO : -8.684 per-word bound, 411.4 perplexity estimate based on a held-out corpus of 2000 documents with 233362 words\n",
      "2017-04-23 00:17:25,479 : INFO : PROGRESS: pass 7, at document #20000/25000\n",
      "2017-04-23 00:17:29,020 : INFO : PROGRESS: pass 7, at document #22000/25000\n",
      "2017-04-23 00:17:32,570 : INFO : PROGRESS: pass 7, at document #24000/25000\n",
      "2017-04-23 00:17:42,564 : INFO : -8.666 per-word bound, 406.3 perplexity estimate based on a held-out corpus of 1000 documents with 114852 words\n",
      "2017-04-23 00:17:42,565 : INFO : PROGRESS: pass 7, at document #25000/25000\n",
      "2017-04-23 00:17:46,037 : INFO : topic #8 (0.100): 0.017*\"movie\" + 0.014*\"film\" + 0.009*\"one\" + 0.007*\"like\" + 0.007*\"see\" + 0.005*\"time\" + 0.005*\"story\" + 0.005*\"well\" + 0.005*\"would\" + 0.005*\"really\"\n",
      "2017-04-23 00:17:46,039 : INFO : topic #1 (0.100): 0.027*\"movie\" + 0.009*\"one\" + 0.007*\"bad\" + 0.007*\"film\" + 0.006*\"good\" + 0.005*\"like\" + 0.005*\"would\" + 0.005*\"movies\" + 0.005*\"time\" + 0.004*\"even\"\n",
      "2017-04-23 00:17:46,041 : INFO : topic #0 (0.100): 0.013*\"film\" + 0.010*\"movie\" + 0.007*\"one\" + 0.005*\"time\" + 0.005*\"story\" + 0.004*\"would\" + 0.004*\"like\" + 0.004*\"even\" + 0.004*\"good\" + 0.003*\"also\"\n",
      "2017-04-23 00:17:46,043 : INFO : topic #7 (0.100): 0.016*\"film\" + 0.013*\"movie\" + 0.008*\"like\" + 0.007*\"one\" + 0.005*\"really\" + 0.005*\"good\" + 0.005*\"even\" + 0.005*\"story\" + 0.004*\"would\" + 0.004*\"well\"\n",
      "2017-04-23 00:17:46,045 : INFO : topic #2 (0.100): 0.008*\"film\" + 0.007*\"one\" + 0.005*\"movie\" + 0.005*\"show\" + 0.004*\"like\" + 0.003*\"best\" + 0.003*\"two\" + 0.003*\"really\" + 0.003*\"get\" + 0.003*\"even\"\n",
      "2017-04-23 00:17:46,049 : INFO : topic diff=0.225799, rho=0.220863\n",
      "2017-04-23 00:17:46,635 : INFO : PROGRESS: pass 8, at document #2000/25000\n",
      "2017-04-23 00:17:50,593 : INFO : PROGRESS: pass 8, at document #4000/25000\n",
      "2017-04-23 00:17:54,420 : INFO : PROGRESS: pass 8, at document #6000/25000\n",
      "2017-04-23 00:17:57,992 : INFO : PROGRESS: pass 8, at document #8000/25000\n",
      "2017-04-23 00:18:01,831 : INFO : PROGRESS: pass 8, at document #10000/25000\n",
      "2017-04-23 00:18:05,758 : INFO : PROGRESS: pass 8, at document #12000/25000\n",
      "2017-04-23 00:18:09,675 : INFO : PROGRESS: pass 8, at document #14000/25000\n",
      "2017-04-23 00:18:13,638 : INFO : PROGRESS: pass 8, at document #16000/25000\n",
      "2017-04-23 00:18:17,538 : INFO : PROGRESS: pass 8, at document #18000/25000\n",
      "2017-04-23 00:18:33,005 : INFO : -8.674 per-word bound, 408.4 perplexity estimate based on a held-out corpus of 2000 documents with 233362 words\n",
      "2017-04-23 00:18:33,006 : INFO : PROGRESS: pass 8, at document #20000/25000\n",
      "2017-04-23 00:18:36,575 : INFO : PROGRESS: pass 8, at document #22000/25000\n",
      "2017-04-23 00:18:40,163 : INFO : PROGRESS: pass 8, at document #24000/25000\n",
      "2017-04-23 00:18:49,543 : INFO : -8.656 per-word bound, 403.4 perplexity estimate based on a held-out corpus of 1000 documents with 114852 words\n",
      "2017-04-23 00:18:49,544 : INFO : PROGRESS: pass 8, at document #25000/25000\n",
      "2017-04-23 00:18:52,789 : INFO : topic #0 (0.100): 0.013*\"film\" + 0.009*\"movie\" + 0.007*\"one\" + 0.005*\"time\" + 0.004*\"story\" + 0.004*\"would\" + 0.004*\"like\" + 0.004*\"even\" + 0.003*\"good\" + 0.003*\"also\"\n",
      "2017-04-23 00:18:52,791 : INFO : topic #1 (0.100): 0.028*\"movie\" + 0.009*\"one\" + 0.007*\"bad\" + 0.006*\"film\" + 0.006*\"good\" + 0.006*\"like\" + 0.005*\"would\" + 0.005*\"movies\" + 0.005*\"time\" + 0.004*\"even\"\n",
      "2017-04-23 00:18:52,793 : INFO : topic #5 (0.100): 0.020*\"movie\" + 0.009*\"one\" + 0.008*\"film\" + 0.008*\"like\" + 0.005*\"time\" + 0.005*\"even\" + 0.005*\"bad\" + 0.005*\"would\" + 0.005*\"people\" + 0.005*\"see\"\n",
      "2017-04-23 00:18:52,795 : INFO : topic #7 (0.100): 0.017*\"film\" + 0.013*\"movie\" + 0.008*\"like\" + 0.007*\"one\" + 0.005*\"really\" + 0.005*\"good\" + 0.005*\"even\" + 0.005*\"story\" + 0.004*\"would\" + 0.004*\"well\"\n",
      "2017-04-23 00:18:52,797 : INFO : topic #8 (0.100): 0.017*\"movie\" + 0.015*\"film\" + 0.009*\"one\" + 0.007*\"like\" + 0.007*\"see\" + 0.005*\"time\" + 0.005*\"story\" + 0.005*\"well\" + 0.005*\"would\" + 0.005*\"really\"\n",
      "2017-04-23 00:18:52,801 : INFO : topic diff=0.204335, rho=0.215666\n",
      "2017-04-23 00:18:53,322 : INFO : PROGRESS: pass 9, at document #2000/25000\n",
      "2017-04-23 00:18:56,901 : INFO : PROGRESS: pass 9, at document #4000/25000\n",
      "2017-04-23 00:19:00,657 : INFO : PROGRESS: pass 9, at document #6000/25000\n",
      "2017-04-23 00:19:04,234 : INFO : PROGRESS: pass 9, at document #8000/25000\n",
      "2017-04-23 00:19:07,801 : INFO : PROGRESS: pass 9, at document #10000/25000\n",
      "2017-04-23 00:19:11,386 : INFO : PROGRESS: pass 9, at document #12000/25000\n",
      "2017-04-23 00:19:14,933 : INFO : PROGRESS: pass 9, at document #14000/25000\n",
      "2017-04-23 00:19:18,505 : INFO : PROGRESS: pass 9, at document #16000/25000\n",
      "2017-04-23 00:19:22,087 : INFO : PROGRESS: pass 9, at document #18000/25000\n",
      "2017-04-23 00:19:37,227 : INFO : -8.665 per-word bound, 405.9 perplexity estimate based on a held-out corpus of 2000 documents with 233362 words\n",
      "2017-04-23 00:19:37,228 : INFO : PROGRESS: pass 9, at document #20000/25000\n",
      "2017-04-23 00:19:40,866 : INFO : PROGRESS: pass 9, at document #22000/25000\n",
      "2017-04-23 00:19:44,572 : INFO : PROGRESS: pass 9, at document #24000/25000\n",
      "2017-04-23 00:19:54,266 : INFO : -8.647 per-word bound, 400.8 perplexity estimate based on a held-out corpus of 1000 documents with 114852 words\n",
      "2017-04-23 00:19:54,267 : INFO : PROGRESS: pass 9, at document #25000/25000\n",
      "2017-04-23 00:19:57,431 : INFO : topic #9 (0.100): 0.021*\"movie\" + 0.012*\"film\" + 0.011*\"good\" + 0.009*\"like\" + 0.007*\"one\" + 0.005*\"really\" + 0.005*\"story\" + 0.004*\"even\" + 0.004*\"see\" + 0.003*\"would\"\n",
      "2017-04-23 00:19:57,433 : INFO : topic #2 (0.100): 0.008*\"film\" + 0.007*\"one\" + 0.005*\"show\" + 0.004*\"movie\" + 0.004*\"like\" + 0.003*\"two\" + 0.003*\"best\" + 0.003*\"man\" + 0.003*\"get\" + 0.003*\"life\"\n",
      "2017-04-23 00:19:57,435 : INFO : topic #6 (0.100): 0.021*\"film\" + 0.007*\"one\" + 0.006*\"like\" + 0.006*\"movie\" + 0.005*\"story\" + 0.005*\"good\" + 0.004*\"well\" + 0.004*\"really\" + 0.004*\"time\" + 0.004*\"great\"\n",
      "2017-04-23 00:19:57,437 : INFO : topic #0 (0.100): 0.013*\"film\" + 0.009*\"movie\" + 0.007*\"one\" + 0.005*\"time\" + 0.004*\"story\" + 0.004*\"would\" + 0.004*\"like\" + 0.004*\"even\" + 0.003*\"good\" + 0.003*\"also\"\n",
      "2017-04-23 00:19:57,439 : INFO : topic #4 (0.100): 0.009*\"film\" + 0.009*\"one\" + 0.006*\"like\" + 0.004*\"series\" + 0.004*\"movie\" + 0.003*\"also\" + 0.003*\"time\" + 0.003*\"show\" + 0.003*\"many\" + 0.003*\"people\"\n",
      "2017-04-23 00:19:57,442 : INFO : topic diff=0.184268, rho=0.210819\n"
     ]
    }
   ],
   "source": [
    "lda = gensim.models.ldamodel.LdaModel(corpus=mm, id2word=dict_lda, num_topics=10, update_every=0, passes=10)"
   ]
  },
  {
   "cell_type": "code",
   "execution_count": 252,
   "metadata": {
    "collapsed": false
   },
   "outputs": [],
   "source": [
    "X3_trfcorp = lda.get_document_topics(corpus_lda, minimum_probability = 0) #creating a transformed corpus object containing tuples with topic probabilities\n",
    "X3 = np.zeros((25000,10)) #initializing a 2d version of the corpus object retaining only the probabilities"
   ]
  },
  {
   "cell_type": "code",
   "execution_count": 253,
   "metadata": {
    "collapsed": false
   },
   "outputs": [],
   "source": [
    "#populating X3 by extracting probabilities from the tuples\n",
    "for i ,j in enumerate(X3_trfcorp):\n",
    "    probs = [item[1] for item in X3_trfcorp[i]]\n",
    "    X3[i] = probs"
   ]
  },
  {
   "cell_type": "code",
   "execution_count": 254,
   "metadata": {
    "collapsed": false
   },
   "outputs": [],
   "source": [
    "#repeating above procedure for the test data (while reusing the LDA model)\n",
    "X3_test_trfcorp = lda.get_document_topics(corpus_lda_test, minimum_probability = 0) \n",
    "X3_test = np.zeros((25000,10))"
   ]
  },
  {
   "cell_type": "code",
   "execution_count": 255,
   "metadata": {
    "collapsed": true
   },
   "outputs": [],
   "source": [
    "for i ,j in enumerate(X3_test_trfcorp):\n",
    "    probs = [item[1] for item in X3_test_trfcorp[i]]\n",
    "    X3_test[i] = probs"
   ]
  },
  {
   "cell_type": "markdown",
   "metadata": {
    "collapsed": true,
    "deletable": true,
    "editable": true
   },
   "source": [
    "## Part b\n",
    "\n",
    "\n",
    "ntopics = 20"
   ]
  },
  {
   "cell_type": "code",
   "execution_count": 241,
   "metadata": {
    "collapsed": false,
    "deletable": true,
    "editable": true,
    "scrolled": true
   },
   "outputs": [
    {
     "name": "stderr",
     "output_type": "stream",
     "text": [
      "2017-04-23 00:56:16,800 : INFO : using symmetric alpha at 0.05\n",
      "2017-04-23 00:56:16,802 : INFO : using symmetric eta at 1.3501653952609195e-05\n",
      "2017-04-23 00:56:16,827 : INFO : using serial LDA version on this node\n",
      "2017-04-23 00:56:26,057 : INFO : running batch LDA training, 20 topics, 10 passes over the supplied corpus of 25000 documents, updating model once every 25000 documents, evaluating perplexity every 20000 documents, iterating 50x with a convergence threshold of 0.001000\n",
      "2017-04-23 00:56:26,566 : INFO : PROGRESS: pass 0, at document #2000/25000\n",
      "2017-04-23 00:56:31,200 : INFO : PROGRESS: pass 0, at document #4000/25000\n",
      "2017-04-23 00:56:35,846 : INFO : PROGRESS: pass 0, at document #6000/25000\n",
      "2017-04-23 00:56:40,509 : INFO : PROGRESS: pass 0, at document #8000/25000\n",
      "2017-04-23 00:56:45,102 : INFO : PROGRESS: pass 0, at document #10000/25000\n",
      "2017-04-23 00:56:49,696 : INFO : PROGRESS: pass 0, at document #12000/25000\n",
      "2017-04-23 00:56:54,316 : INFO : PROGRESS: pass 0, at document #14000/25000\n",
      "2017-04-23 00:56:58,900 : INFO : PROGRESS: pass 0, at document #16000/25000\n",
      "2017-04-23 00:57:03,553 : INFO : PROGRESS: pass 0, at document #18000/25000\n",
      "2017-04-23 00:57:31,880 : INFO : -12.765 per-word bound, 6959.0 perplexity estimate based on a held-out corpus of 2000 documents with 233362 words\n",
      "2017-04-23 00:57:31,881 : INFO : PROGRESS: pass 0, at document #20000/25000\n",
      "2017-04-23 00:57:36,853 : INFO : PROGRESS: pass 0, at document #22000/25000\n",
      "2017-04-23 00:57:42,059 : INFO : PROGRESS: pass 0, at document #24000/25000\n",
      "2017-04-23 00:58:04,357 : INFO : -12.780 per-word bound, 7032.6 perplexity estimate based on a held-out corpus of 1000 documents with 114852 words\n",
      "2017-04-23 00:58:04,358 : INFO : PROGRESS: pass 0, at document #25000/25000\n",
      "2017-04-23 00:58:08,443 : INFO : topic #1 (0.050): 0.016*\"film\" + 0.012*\"one\" + 0.011*\"movie\" + 0.010*\"like\" + 0.006*\"time\" + 0.005*\"story\" + 0.005*\"even\" + 0.005*\"much\" + 0.004*\"well\" + 0.004*\"bad\"\n",
      "2017-04-23 00:58:08,445 : INFO : topic #8 (0.050): 0.015*\"movie\" + 0.013*\"film\" + 0.006*\"like\" + 0.005*\"one\" + 0.005*\"great\" + 0.005*\"see\" + 0.005*\"get\" + 0.004*\"would\" + 0.004*\"really\" + 0.004*\"time\"\n",
      "2017-04-23 00:58:08,447 : INFO : topic #15 (0.050): 0.013*\"movie\" + 0.011*\"one\" + 0.008*\"film\" + 0.007*\"good\" + 0.006*\"like\" + 0.005*\"show\" + 0.005*\"would\" + 0.004*\"time\" + 0.004*\"see\" + 0.004*\"character\"\n",
      "2017-04-23 00:58:08,449 : INFO : topic #14 (0.050): 0.016*\"film\" + 0.007*\"movie\" + 0.006*\"one\" + 0.005*\"would\" + 0.004*\"like\" + 0.004*\"see\" + 0.004*\"people\" + 0.004*\"really\" + 0.004*\"made\" + 0.004*\"time\"\n",
      "2017-04-23 00:58:08,451 : INFO : topic #19 (0.050): 0.017*\"movie\" + 0.012*\"film\" + 0.007*\"one\" + 0.006*\"story\" + 0.005*\"like\" + 0.005*\"even\" + 0.004*\"time\" + 0.004*\"good\" + 0.004*\"bad\" + 0.004*\"see\"\n",
      "2017-04-23 00:58:08,460 : INFO : topic diff=9.712132, rho=1.000000\n",
      "2017-04-23 00:58:08,993 : INFO : PROGRESS: pass 1, at document #2000/25000\n",
      "2017-04-23 00:58:13,343 : INFO : PROGRESS: pass 1, at document #4000/25000\n",
      "2017-04-23 00:58:17,725 : INFO : PROGRESS: pass 1, at document #6000/25000\n",
      "2017-04-23 00:58:22,410 : INFO : PROGRESS: pass 1, at document #8000/25000\n",
      "2017-04-23 00:58:26,762 : INFO : PROGRESS: pass 1, at document #10000/25000\n",
      "2017-04-23 00:58:31,441 : INFO : PROGRESS: pass 1, at document #12000/25000\n",
      "2017-04-23 00:58:36,020 : INFO : PROGRESS: pass 1, at document #14000/25000\n",
      "2017-04-23 00:58:40,462 : INFO : PROGRESS: pass 1, at document #16000/25000\n",
      "2017-04-23 00:58:45,036 : INFO : PROGRESS: pass 1, at document #18000/25000\n",
      "2017-04-23 00:59:02,976 : INFO : -9.032 per-word bound, 523.4 perplexity estimate based on a held-out corpus of 2000 documents with 233362 words\n",
      "2017-04-23 00:59:02,977 : INFO : PROGRESS: pass 1, at document #20000/25000\n",
      "2017-04-23 00:59:07,327 : INFO : PROGRESS: pass 1, at document #22000/25000\n",
      "2017-04-23 00:59:11,627 : INFO : PROGRESS: pass 1, at document #24000/25000\n",
      "2017-04-23 00:59:22,256 : INFO : -9.017 per-word bound, 518.0 perplexity estimate based on a held-out corpus of 1000 documents with 114852 words\n",
      "2017-04-23 00:59:22,257 : INFO : PROGRESS: pass 1, at document #25000/25000\n",
      "2017-04-23 00:59:26,062 : INFO : topic #19 (0.050): 0.017*\"movie\" + 0.012*\"film\" + 0.007*\"one\" + 0.006*\"story\" + 0.005*\"like\" + 0.005*\"even\" + 0.004*\"time\" + 0.004*\"good\" + 0.004*\"bad\" + 0.004*\"see\"\n",
      "2017-04-23 00:59:26,064 : INFO : topic #9 (0.050): 0.016*\"movie\" + 0.014*\"film\" + 0.010*\"one\" + 0.007*\"like\" + 0.007*\"time\" + 0.005*\"really\" + 0.004*\"even\" + 0.004*\"story\" + 0.004*\"well\" + 0.003*\"great\"\n",
      "2017-04-23 00:59:26,066 : INFO : topic #16 (0.050): 0.017*\"film\" + 0.011*\"movie\" + 0.007*\"one\" + 0.006*\"like\" + 0.005*\"first\" + 0.005*\"much\" + 0.005*\"story\" + 0.004*\"even\" + 0.004*\"would\" + 0.004*\"bad\"\n",
      "2017-04-23 00:59:26,067 : INFO : topic #3 (0.050): 0.012*\"movie\" + 0.012*\"film\" + 0.009*\"one\" + 0.006*\"would\" + 0.006*\"time\" + 0.005*\"like\" + 0.005*\"also\" + 0.005*\"well\" + 0.004*\"people\" + 0.004*\"good\"\n",
      "2017-04-23 00:59:26,069 : INFO : topic #1 (0.050): 0.016*\"film\" + 0.012*\"one\" + 0.011*\"movie\" + 0.010*\"like\" + 0.006*\"time\" + 0.005*\"even\" + 0.005*\"story\" + 0.005*\"much\" + 0.004*\"well\" + 0.004*\"bad\"\n",
      "2017-04-23 00:59:26,075 : INFO : topic diff=0.569035, rho=0.262613\n",
      "2017-04-23 00:59:26,615 : INFO : PROGRESS: pass 2, at document #2000/25000\n",
      "2017-04-23 00:59:30,858 : INFO : PROGRESS: pass 2, at document #4000/25000\n",
      "2017-04-23 00:59:35,027 : INFO : PROGRESS: pass 2, at document #6000/25000\n",
      "2017-04-23 00:59:39,167 : INFO : PROGRESS: pass 2, at document #8000/25000\n",
      "2017-04-23 00:59:43,347 : INFO : PROGRESS: pass 2, at document #10000/25000\n",
      "2017-04-23 00:59:47,576 : INFO : PROGRESS: pass 2, at document #12000/25000\n",
      "2017-04-23 00:59:51,759 : INFO : PROGRESS: pass 2, at document #14000/25000\n",
      "2017-04-23 00:59:55,937 : INFO : PROGRESS: pass 2, at document #16000/25000\n",
      "2017-04-23 01:00:00,125 : INFO : PROGRESS: pass 2, at document #18000/25000\n",
      "2017-04-23 01:00:16,578 : INFO : -8.966 per-word bound, 500.2 perplexity estimate based on a held-out corpus of 2000 documents with 233362 words\n",
      "2017-04-23 01:00:16,579 : INFO : PROGRESS: pass 2, at document #20000/25000\n",
      "2017-04-23 01:00:20,795 : INFO : PROGRESS: pass 2, at document #22000/25000\n",
      "2017-04-23 01:00:24,948 : INFO : PROGRESS: pass 2, at document #24000/25000\n",
      "2017-04-23 01:00:35,433 : INFO : -8.950 per-word bound, 494.4 perplexity estimate based on a held-out corpus of 1000 documents with 114852 words\n",
      "2017-04-23 01:00:35,434 : INFO : PROGRESS: pass 2, at document #25000/25000\n",
      "2017-04-23 01:00:39,120 : INFO : topic #1 (0.050): 0.016*\"film\" + 0.012*\"one\" + 0.010*\"movie\" + 0.010*\"like\" + 0.006*\"time\" + 0.005*\"even\" + 0.005*\"story\" + 0.004*\"much\" + 0.004*\"well\" + 0.004*\"bad\"\n",
      "2017-04-23 01:00:39,122 : INFO : topic #5 (0.050): 0.020*\"film\" + 0.009*\"one\" + 0.007*\"good\" + 0.005*\"movie\" + 0.004*\"like\" + 0.004*\"even\" + 0.004*\"would\" + 0.004*\"bad\" + 0.004*\"could\" + 0.004*\"see\"\n",
      "2017-04-23 01:00:39,124 : INFO : topic #16 (0.050): 0.018*\"film\" + 0.011*\"movie\" + 0.007*\"one\" + 0.006*\"like\" + 0.005*\"first\" + 0.005*\"much\" + 0.005*\"story\" + 0.004*\"even\" + 0.004*\"would\" + 0.004*\"see\"\n",
      "2017-04-23 01:00:39,126 : INFO : topic #3 (0.050): 0.012*\"film\" + 0.012*\"movie\" + 0.009*\"one\" + 0.005*\"would\" + 0.005*\"time\" + 0.005*\"like\" + 0.005*\"also\" + 0.004*\"well\" + 0.004*\"people\" + 0.004*\"good\"\n",
      "2017-04-23 01:00:39,128 : INFO : topic #7 (0.050): 0.013*\"movie\" + 0.012*\"one\" + 0.008*\"like\" + 0.007*\"really\" + 0.007*\"good\" + 0.006*\"film\" + 0.005*\"even\" + 0.005*\"would\" + 0.005*\"bad\" + 0.004*\"made\"\n",
      "2017-04-23 01:00:39,134 : INFO : topic diff=0.555797, rho=0.254000\n",
      "2017-04-23 01:00:39,655 : INFO : PROGRESS: pass 3, at document #2000/25000\n",
      "2017-04-23 01:00:43,789 : INFO : PROGRESS: pass 3, at document #4000/25000\n",
      "2017-04-23 01:00:47,912 : INFO : PROGRESS: pass 3, at document #6000/25000\n",
      "2017-04-23 01:00:52,066 : INFO : PROGRESS: pass 3, at document #8000/25000\n",
      "2017-04-23 01:00:56,344 : INFO : PROGRESS: pass 3, at document #10000/25000\n",
      "2017-04-23 01:01:00,521 : INFO : PROGRESS: pass 3, at document #12000/25000\n",
      "2017-04-23 01:01:04,803 : INFO : PROGRESS: pass 3, at document #14000/25000\n",
      "2017-04-23 01:01:09,240 : INFO : PROGRESS: pass 3, at document #16000/25000\n",
      "2017-04-23 01:01:13,705 : INFO : PROGRESS: pass 3, at document #18000/25000\n",
      "2017-04-23 01:01:30,446 : INFO : -8.916 per-word bound, 483.0 perplexity estimate based on a held-out corpus of 2000 documents with 233362 words\n",
      "2017-04-23 01:01:30,447 : INFO : PROGRESS: pass 3, at document #20000/25000\n",
      "2017-04-23 01:01:34,524 : INFO : PROGRESS: pass 3, at document #22000/25000\n",
      "2017-04-23 01:01:38,707 : INFO : PROGRESS: pass 3, at document #24000/25000\n",
      "2017-04-23 01:01:49,084 : INFO : -8.898 per-word bound, 477.2 perplexity estimate based on a held-out corpus of 1000 documents with 114852 words\n",
      "2017-04-23 01:01:49,085 : INFO : PROGRESS: pass 3, at document #25000/25000\n",
      "2017-04-23 01:01:52,659 : INFO : topic #14 (0.050): 0.015*\"film\" + 0.006*\"movie\" + 0.006*\"would\" + 0.005*\"one\" + 0.005*\"people\" + 0.004*\"see\" + 0.004*\"like\" + 0.004*\"made\" + 0.004*\"time\" + 0.003*\"really\"\n",
      "2017-04-23 01:01:52,661 : INFO : topic #9 (0.050): 0.016*\"movie\" + 0.013*\"film\" + 0.010*\"one\" + 0.007*\"like\" + 0.007*\"time\" + 0.005*\"really\" + 0.004*\"even\" + 0.004*\"story\" + 0.004*\"well\" + 0.003*\"great\"\n",
      "2017-04-23 01:01:52,662 : INFO : topic #4 (0.050): 0.017*\"movie\" + 0.009*\"one\" + 0.006*\"bad\" + 0.006*\"like\" + 0.004*\"even\" + 0.004*\"film\" + 0.004*\"think\" + 0.004*\"would\" + 0.004*\"could\" + 0.004*\"well\"\n",
      "2017-04-23 01:01:52,664 : INFO : topic #5 (0.050): 0.020*\"film\" + 0.009*\"one\" + 0.007*\"good\" + 0.005*\"movie\" + 0.004*\"even\" + 0.004*\"like\" + 0.004*\"would\" + 0.004*\"bad\" + 0.004*\"could\" + 0.004*\"see\"\n",
      "2017-04-23 01:01:52,666 : INFO : topic #2 (0.050): 0.013*\"film\" + 0.011*\"movie\" + 0.007*\"one\" + 0.006*\"like\" + 0.005*\"love\" + 0.004*\"good\" + 0.004*\"really\" + 0.004*\"also\" + 0.004*\"well\" + 0.004*\"story\"\n",
      "2017-04-23 01:01:52,672 : INFO : topic diff=0.536129, rho=0.246183\n",
      "2017-04-23 01:01:53,192 : INFO : PROGRESS: pass 4, at document #2000/25000\n",
      "2017-04-23 01:01:57,278 : INFO : PROGRESS: pass 4, at document #4000/25000\n",
      "2017-04-23 01:02:01,403 : INFO : PROGRESS: pass 4, at document #6000/25000\n",
      "2017-04-23 01:02:05,484 : INFO : PROGRESS: pass 4, at document #8000/25000\n",
      "2017-04-23 01:02:09,623 : INFO : PROGRESS: pass 4, at document #10000/25000\n",
      "2017-04-23 01:02:13,785 : INFO : PROGRESS: pass 4, at document #12000/25000\n",
      "2017-04-23 01:02:17,848 : INFO : PROGRESS: pass 4, at document #14000/25000\n",
      "2017-04-23 01:02:21,943 : INFO : PROGRESS: pass 4, at document #16000/25000\n",
      "2017-04-23 01:02:26,066 : INFO : PROGRESS: pass 4, at document #18000/25000\n",
      "2017-04-23 01:02:42,708 : INFO : -8.876 per-word bound, 469.8 perplexity estimate based on a held-out corpus of 2000 documents with 233362 words\n",
      "2017-04-23 01:02:42,709 : INFO : PROGRESS: pass 4, at document #20000/25000\n",
      "2017-04-23 01:02:46,807 : INFO : PROGRESS: pass 4, at document #22000/25000\n",
      "2017-04-23 01:02:50,870 : INFO : PROGRESS: pass 4, at document #24000/25000\n",
      "2017-04-23 01:03:01,716 : INFO : -8.858 per-word bound, 463.9 perplexity estimate based on a held-out corpus of 1000 documents with 114852 words\n",
      "2017-04-23 01:03:01,717 : INFO : PROGRESS: pass 4, at document #25000/25000\n",
      "2017-04-23 01:03:05,489 : INFO : topic #2 (0.050): 0.013*\"film\" + 0.010*\"movie\" + 0.007*\"one\" + 0.006*\"like\" + 0.005*\"love\" + 0.004*\"also\" + 0.004*\"well\" + 0.004*\"good\" + 0.004*\"story\" + 0.004*\"really\"\n",
      "2017-04-23 01:03:05,490 : INFO : topic #4 (0.050): 0.017*\"movie\" + 0.009*\"one\" + 0.006*\"bad\" + 0.006*\"like\" + 0.004*\"even\" + 0.004*\"film\" + 0.004*\"think\" + 0.004*\"would\" + 0.004*\"could\" + 0.004*\"well\"\n",
      "2017-04-23 01:03:05,492 : INFO : topic #3 (0.050): 0.012*\"film\" + 0.010*\"movie\" + 0.009*\"one\" + 0.005*\"time\" + 0.005*\"would\" + 0.005*\"like\" + 0.004*\"also\" + 0.004*\"well\" + 0.003*\"good\" + 0.003*\"people\"\n",
      "2017-04-23 01:03:05,494 : INFO : topic #1 (0.050): 0.016*\"film\" + 0.012*\"one\" + 0.010*\"like\" + 0.009*\"movie\" + 0.006*\"time\" + 0.005*\"even\" + 0.005*\"story\" + 0.004*\"much\" + 0.004*\"well\" + 0.004*\"way\"\n",
      "2017-04-23 01:03:05,495 : INFO : topic #5 (0.050): 0.021*\"film\" + 0.009*\"one\" + 0.007*\"good\" + 0.005*\"movie\" + 0.004*\"even\" + 0.004*\"like\" + 0.004*\"would\" + 0.004*\"could\" + 0.004*\"bad\" + 0.004*\"see\"\n",
      "2017-04-23 01:03:05,501 : INFO : topic diff=0.512522, rho=0.239046\n",
      "2017-04-23 01:03:06,093 : INFO : PROGRESS: pass 5, at document #2000/25000\n",
      "2017-04-23 01:03:10,441 : INFO : PROGRESS: pass 5, at document #4000/25000\n",
      "2017-04-23 01:03:14,789 : INFO : PROGRESS: pass 5, at document #6000/25000\n",
      "2017-04-23 01:03:19,177 : INFO : PROGRESS: pass 5, at document #8000/25000\n",
      "2017-04-23 01:03:23,687 : INFO : PROGRESS: pass 5, at document #10000/25000\n",
      "2017-04-23 01:03:27,969 : INFO : PROGRESS: pass 5, at document #12000/25000\n",
      "2017-04-23 01:03:32,302 : INFO : PROGRESS: pass 5, at document #14000/25000\n",
      "2017-04-23 01:03:36,454 : INFO : PROGRESS: pass 5, at document #16000/25000\n",
      "2017-04-23 01:03:40,508 : INFO : PROGRESS: pass 5, at document #18000/25000\n",
      "2017-04-23 01:03:56,772 : INFO : -8.843 per-word bound, 459.3 perplexity estimate based on a held-out corpus of 2000 documents with 233362 words\n",
      "2017-04-23 01:03:56,772 : INFO : PROGRESS: pass 5, at document #20000/25000\n",
      "2017-04-23 01:04:00,860 : INFO : PROGRESS: pass 5, at document #22000/25000\n",
      "2017-04-23 01:04:04,919 : INFO : PROGRESS: pass 5, at document #24000/25000\n",
      "2017-04-23 01:04:15,042 : INFO : -8.825 per-word bound, 453.6 perplexity estimate based on a held-out corpus of 1000 documents with 114852 words\n",
      "2017-04-23 01:04:15,043 : INFO : PROGRESS: pass 5, at document #25000/25000\n",
      "2017-04-23 01:04:18,633 : INFO : topic #0 (0.050): 0.013*\"film\" + 0.009*\"one\" + 0.008*\"movie\" + 0.005*\"also\" + 0.005*\"good\" + 0.005*\"well\" + 0.004*\"time\" + 0.004*\"like\" + 0.004*\"much\" + 0.004*\"see\"\n",
      "2017-04-23 01:04:18,635 : INFO : topic #12 (0.050): 0.023*\"movie\" + 0.010*\"one\" + 0.009*\"like\" + 0.007*\"good\" + 0.007*\"film\" + 0.006*\"would\" + 0.005*\"really\" + 0.005*\"movies\" + 0.005*\"even\" + 0.004*\"time\"\n",
      "2017-04-23 01:04:18,636 : INFO : topic #15 (0.050): 0.015*\"show\" + 0.011*\"one\" + 0.009*\"movie\" + 0.007*\"good\" + 0.006*\"like\" + 0.005*\"film\" + 0.005*\"would\" + 0.005*\"series\" + 0.005*\"time\" + 0.005*\"funny\"\n",
      "2017-04-23 01:04:18,640 : INFO : topic #6 (0.050): 0.009*\"film\" + 0.008*\"one\" + 0.006*\"movie\" + 0.005*\"story\" + 0.004*\"like\" + 0.004*\"time\" + 0.004*\"good\" + 0.003*\"also\" + 0.003*\"character\" + 0.003*\"best\"\n",
      "2017-04-23 01:04:18,642 : INFO : topic #13 (0.050): 0.014*\"film\" + 0.009*\"movie\" + 0.009*\"one\" + 0.008*\"like\" + 0.005*\"see\" + 0.004*\"good\" + 0.004*\"story\" + 0.004*\"people\" + 0.004*\"get\" + 0.003*\"even\"\n",
      "2017-04-23 01:04:18,650 : INFO : topic diff=0.485157, rho=0.232495\n",
      "2017-04-23 01:04:19,168 : INFO : PROGRESS: pass 6, at document #2000/25000\n",
      "2017-04-23 01:04:23,190 : INFO : PROGRESS: pass 6, at document #4000/25000\n",
      "2017-04-23 01:04:27,175 : INFO : PROGRESS: pass 6, at document #6000/25000\n",
      "2017-04-23 01:04:31,175 : INFO : PROGRESS: pass 6, at document #8000/25000\n",
      "2017-04-23 01:04:35,178 : INFO : PROGRESS: pass 6, at document #10000/25000\n",
      "2017-04-23 01:04:39,258 : INFO : PROGRESS: pass 6, at document #12000/25000\n",
      "2017-04-23 01:04:43,403 : INFO : PROGRESS: pass 6, at document #14000/25000\n",
      "2017-04-23 01:04:47,821 : INFO : PROGRESS: pass 6, at document #16000/25000\n",
      "2017-04-23 01:04:52,182 : INFO : PROGRESS: pass 6, at document #18000/25000\n",
      "2017-04-23 01:05:09,513 : INFO : -8.816 per-word bound, 450.8 perplexity estimate based on a held-out corpus of 2000 documents with 233362 words\n",
      "2017-04-23 01:05:09,514 : INFO : PROGRESS: pass 6, at document #20000/25000\n",
      "2017-04-23 01:05:13,968 : INFO : PROGRESS: pass 6, at document #22000/25000\n",
      "2017-04-23 01:05:18,156 : INFO : PROGRESS: pass 6, at document #24000/25000\n",
      "2017-04-23 01:05:28,278 : INFO : -8.798 per-word bound, 445.1 perplexity estimate based on a held-out corpus of 1000 documents with 114852 words\n",
      "2017-04-23 01:05:28,278 : INFO : PROGRESS: pass 6, at document #25000/25000\n",
      "2017-04-23 01:05:31,969 : INFO : topic #11 (0.050): 0.040*\"movie\" + 0.011*\"one\" + 0.009*\"film\" + 0.009*\"like\" + 0.008*\"good\" + 0.008*\"bad\" + 0.007*\"really\" + 0.006*\"would\" + 0.006*\"movies\" + 0.006*\"even\"\n",
      "2017-04-23 01:05:31,972 : INFO : topic #9 (0.050): 0.015*\"movie\" + 0.013*\"film\" + 0.010*\"one\" + 0.007*\"like\" + 0.007*\"time\" + 0.004*\"really\" + 0.004*\"even\" + 0.004*\"story\" + 0.004*\"well\" + 0.003*\"great\"\n",
      "2017-04-23 01:05:31,973 : INFO : topic #3 (0.050): 0.011*\"film\" + 0.009*\"movie\" + 0.008*\"one\" + 0.005*\"time\" + 0.005*\"would\" + 0.005*\"like\" + 0.004*\"also\" + 0.004*\"well\" + 0.003*\"good\" + 0.003*\"story\"\n",
      "2017-04-23 01:05:31,975 : INFO : topic #15 (0.050): 0.017*\"show\" + 0.011*\"one\" + 0.008*\"movie\" + 0.007*\"good\" + 0.006*\"like\" + 0.006*\"series\" + 0.005*\"would\" + 0.005*\"time\" + 0.005*\"film\" + 0.005*\"funny\"\n",
      "2017-04-23 01:05:31,977 : INFO : topic #1 (0.050): 0.017*\"film\" + 0.012*\"one\" + 0.009*\"like\" + 0.008*\"movie\" + 0.006*\"time\" + 0.005*\"even\" + 0.005*\"story\" + 0.004*\"much\" + 0.004*\"well\" + 0.004*\"way\"\n",
      "2017-04-23 01:05:31,983 : INFO : topic diff=0.454863, rho=0.226455\n",
      "2017-04-23 01:05:32,497 : INFO : PROGRESS: pass 7, at document #2000/25000\n",
      "2017-04-23 01:05:36,497 : INFO : PROGRESS: pass 7, at document #4000/25000\n",
      "2017-04-23 01:05:40,487 : INFO : PROGRESS: pass 7, at document #6000/25000\n",
      "2017-04-23 01:05:44,468 : INFO : PROGRESS: pass 7, at document #8000/25000\n",
      "2017-04-23 01:05:48,455 : INFO : PROGRESS: pass 7, at document #10000/25000\n",
      "2017-04-23 01:05:52,432 : INFO : PROGRESS: pass 7, at document #12000/25000\n",
      "2017-04-23 01:05:56,453 : INFO : PROGRESS: pass 7, at document #14000/25000\n",
      "2017-04-23 01:06:00,444 : INFO : PROGRESS: pass 7, at document #16000/25000\n",
      "2017-04-23 01:06:04,384 : INFO : PROGRESS: pass 7, at document #18000/25000\n",
      "2017-04-23 01:06:20,464 : INFO : -8.793 per-word bound, 443.7 perplexity estimate based on a held-out corpus of 2000 documents with 233362 words\n",
      "2017-04-23 01:06:20,464 : INFO : PROGRESS: pass 7, at document #20000/25000\n",
      "2017-04-23 01:06:24,726 : INFO : PROGRESS: pass 7, at document #22000/25000\n",
      "2017-04-23 01:06:28,996 : INFO : PROGRESS: pass 7, at document #24000/25000\n",
      "2017-04-23 01:06:39,342 : INFO : -8.776 per-word bound, 438.3 perplexity estimate based on a held-out corpus of 1000 documents with 114852 words\n",
      "2017-04-23 01:06:39,343 : INFO : PROGRESS: pass 7, at document #25000/25000\n",
      "2017-04-23 01:06:43,107 : INFO : topic #7 (0.050): 0.011*\"one\" + 0.011*\"movie\" + 0.008*\"like\" + 0.007*\"really\" + 0.007*\"good\" + 0.005*\"film\" + 0.005*\"even\" + 0.004*\"would\" + 0.004*\"see\" + 0.004*\"great\"\n",
      "2017-04-23 01:06:43,109 : INFO : topic #8 (0.050): 0.012*\"film\" + 0.011*\"movie\" + 0.006*\"like\" + 0.006*\"one\" + 0.005*\"great\" + 0.004*\"get\" + 0.004*\"see\" + 0.004*\"would\" + 0.004*\"time\" + 0.004*\"even\"\n",
      "2017-04-23 01:06:43,111 : INFO : topic #2 (0.050): 0.013*\"film\" + 0.009*\"movie\" + 0.007*\"one\" + 0.006*\"like\" + 0.005*\"love\" + 0.004*\"story\" + 0.004*\"well\" + 0.004*\"also\" + 0.004*\"good\" + 0.004*\"young\"\n",
      "2017-04-23 01:06:43,112 : INFO : topic #14 (0.050): 0.015*\"film\" + 0.005*\"would\" + 0.005*\"one\" + 0.005*\"people\" + 0.005*\"war\" + 0.005*\"movie\" + 0.004*\"world\" + 0.004*\"see\" + 0.004*\"like\" + 0.003*\"made\"\n",
      "2017-04-23 01:06:43,114 : INFO : topic #17 (0.050): 0.016*\"movie\" + 0.015*\"film\" + 0.007*\"one\" + 0.007*\"like\" + 0.005*\"good\" + 0.004*\"people\" + 0.004*\"would\" + 0.004*\"even\" + 0.004*\"movies\" + 0.003*\"really\"\n",
      "2017-04-23 01:06:43,121 : INFO : topic diff=0.422705, rho=0.220863\n",
      "2017-04-23 01:06:43,637 : INFO : PROGRESS: pass 8, at document #2000/25000\n",
      "2017-04-23 01:06:47,842 : INFO : PROGRESS: pass 8, at document #4000/25000\n",
      "2017-04-23 01:06:51,862 : INFO : PROGRESS: pass 8, at document #6000/25000\n",
      "2017-04-23 01:06:55,831 : INFO : PROGRESS: pass 8, at document #8000/25000\n",
      "2017-04-23 01:06:59,795 : INFO : PROGRESS: pass 8, at document #10000/25000\n",
      "2017-04-23 01:07:03,726 : INFO : PROGRESS: pass 8, at document #12000/25000\n",
      "2017-04-23 01:07:07,665 : INFO : PROGRESS: pass 8, at document #14000/25000\n",
      "2017-04-23 01:07:11,624 : INFO : PROGRESS: pass 8, at document #16000/25000\n",
      "2017-04-23 01:07:15,538 : INFO : PROGRESS: pass 8, at document #18000/25000\n",
      "2017-04-23 01:07:31,881 : INFO : -8.774 per-word bound, 437.8 perplexity estimate based on a held-out corpus of 2000 documents with 233362 words\n",
      "2017-04-23 01:07:31,882 : INFO : PROGRESS: pass 8, at document #20000/25000\n",
      "2017-04-23 01:07:36,176 : INFO : PROGRESS: pass 8, at document #22000/25000\n",
      "2017-04-23 01:07:40,442 : INFO : PROGRESS: pass 8, at document #24000/25000\n",
      "2017-04-23 01:07:50,755 : INFO : -8.757 per-word bound, 432.5 perplexity estimate based on a held-out corpus of 1000 documents with 114852 words\n",
      "2017-04-23 01:07:50,756 : INFO : PROGRESS: pass 8, at document #25000/25000\n",
      "2017-04-23 01:07:54,734 : INFO : topic #8 (0.050): 0.012*\"film\" + 0.011*\"movie\" + 0.006*\"one\" + 0.006*\"like\" + 0.005*\"great\" + 0.004*\"get\" + 0.004*\"see\" + 0.004*\"would\" + 0.004*\"time\" + 0.004*\"even\"\n",
      "2017-04-23 01:07:54,736 : INFO : topic #4 (0.050): 0.015*\"movie\" + 0.009*\"one\" + 0.005*\"like\" + 0.005*\"bad\" + 0.004*\"even\" + 0.004*\"would\" + 0.004*\"think\" + 0.004*\"film\" + 0.004*\"get\" + 0.003*\"well\"\n",
      "2017-04-23 01:07:54,738 : INFO : topic #5 (0.050): 0.023*\"film\" + 0.009*\"one\" + 0.006*\"good\" + 0.004*\"even\" + 0.004*\"like\" + 0.004*\"movie\" + 0.004*\"would\" + 0.004*\"story\" + 0.004*\"could\" + 0.003*\"great\"\n",
      "2017-04-23 01:07:54,740 : INFO : topic #9 (0.050): 0.014*\"movie\" + 0.013*\"film\" + 0.010*\"one\" + 0.007*\"time\" + 0.007*\"like\" + 0.004*\"really\" + 0.004*\"even\" + 0.004*\"story\" + 0.004*\"well\" + 0.003*\"great\"\n",
      "2017-04-23 01:07:54,741 : INFO : topic #14 (0.050): 0.015*\"film\" + 0.006*\"war\" + 0.005*\"would\" + 0.005*\"people\" + 0.005*\"one\" + 0.005*\"movie\" + 0.004*\"world\" + 0.004*\"see\" + 0.003*\"made\" + 0.003*\"like\"\n",
      "2017-04-23 01:07:54,748 : INFO : topic diff=0.389801, rho=0.215666\n",
      "2017-04-23 01:07:55,267 : INFO : PROGRESS: pass 9, at document #2000/25000\n",
      "2017-04-23 01:07:59,327 : INFO : PROGRESS: pass 9, at document #4000/25000\n",
      "2017-04-23 01:08:03,495 : INFO : PROGRESS: pass 9, at document #6000/25000\n",
      "2017-04-23 01:08:07,745 : INFO : PROGRESS: pass 9, at document #8000/25000\n",
      "2017-04-23 01:08:11,737 : INFO : PROGRESS: pass 9, at document #10000/25000\n",
      "2017-04-23 01:08:15,864 : INFO : PROGRESS: pass 9, at document #12000/25000\n",
      "2017-04-23 01:08:20,198 : INFO : PROGRESS: pass 9, at document #14000/25000\n",
      "2017-04-23 01:08:24,392 : INFO : PROGRESS: pass 9, at document #16000/25000\n",
      "2017-04-23 01:08:28,394 : INFO : PROGRESS: pass 9, at document #18000/25000\n",
      "2017-04-23 01:08:45,079 : INFO : -8.758 per-word bound, 432.9 perplexity estimate based on a held-out corpus of 2000 documents with 233362 words\n",
      "2017-04-23 01:08:45,080 : INFO : PROGRESS: pass 9, at document #20000/25000\n",
      "2017-04-23 01:08:49,092 : INFO : PROGRESS: pass 9, at document #22000/25000\n",
      "2017-04-23 01:08:53,055 : INFO : PROGRESS: pass 9, at document #24000/25000\n",
      "2017-04-23 01:09:03,360 : INFO : -8.741 per-word bound, 427.7 perplexity estimate based on a held-out corpus of 1000 documents with 114852 words\n",
      "2017-04-23 01:09:03,361 : INFO : PROGRESS: pass 9, at document #25000/25000\n",
      "2017-04-23 01:09:07,454 : INFO : topic #2 (0.050): 0.013*\"film\" + 0.008*\"movie\" + 0.007*\"one\" + 0.005*\"love\" + 0.005*\"like\" + 0.005*\"story\" + 0.004*\"well\" + 0.004*\"also\" + 0.004*\"young\" + 0.004*\"life\"\n",
      "2017-04-23 01:09:07,456 : INFO : topic #9 (0.050): 0.013*\"film\" + 0.013*\"movie\" + 0.010*\"one\" + 0.007*\"time\" + 0.007*\"like\" + 0.004*\"really\" + 0.004*\"even\" + 0.004*\"story\" + 0.004*\"well\" + 0.004*\"action\"\n",
      "2017-04-23 01:09:07,458 : INFO : topic #17 (0.050): 0.015*\"film\" + 0.014*\"movie\" + 0.007*\"one\" + 0.007*\"like\" + 0.005*\"good\" + 0.004*\"people\" + 0.004*\"even\" + 0.004*\"would\" + 0.003*\"movies\" + 0.003*\"really\"\n",
      "2017-04-23 01:09:07,459 : INFO : topic #18 (0.050): 0.029*\"movie\" + 0.010*\"like\" + 0.009*\"film\" + 0.005*\"good\" + 0.005*\"one\" + 0.005*\"see\" + 0.005*\"would\" + 0.004*\"much\" + 0.004*\"time\" + 0.004*\"movies\"\n",
      "2017-04-23 01:09:07,461 : INFO : topic #1 (0.050): 0.017*\"film\" + 0.011*\"one\" + 0.009*\"like\" + 0.007*\"movie\" + 0.005*\"time\" + 0.005*\"story\" + 0.005*\"even\" + 0.004*\"much\" + 0.004*\"well\" + 0.004*\"way\"\n",
      "2017-04-23 01:09:07,468 : INFO : topic diff=0.357097, rho=0.210819\n"
     ]
    }
   ],
   "source": [
    "lda2 = gensim.models.ldamodel.LdaModel(corpus=mm, id2word=dict_lda, num_topics=20, update_every=0, passes=10)"
   ]
  },
  {
   "cell_type": "code",
   "execution_count": 247,
   "metadata": {
    "collapsed": false
   },
   "outputs": [],
   "source": [
    "X4_trfcorp = lda2.get_document_topics(corpus_lda, minimum_probability = 0) #creating a transformed corpus object containing tuples with topic probabilities\n",
    "X4 = np.zeros((25000,20)) #initializing a 2d version of the corpus object retaining only the probabilities\n",
    "#populating X3 by extracting probabilities from the tuples\n",
    "for i ,j in enumerate(X4_trfcorp):\n",
    "    probs = [item[1] for item in X4_trfcorp[i]]\n",
    "    X4[i] = probs"
   ]
  },
  {
   "cell_type": "code",
   "execution_count": 248,
   "metadata": {
    "collapsed": false
   },
   "outputs": [],
   "source": [
    "X4_test_trfcorp = lda2.get_document_topics(corpus_lda_test, minimum_probability = 0) #creating a transformed corpus object containing tuples with topic probabilities\n",
    "X4_test = np.zeros((25000,20)) #initializing a 2d version of the corpus object retaining only the probabilities\n",
    "#populating X3 by extracting probabilities from the tuples\n",
    "for i ,j in enumerate(X4_test_trfcorp):\n",
    "    probs = [item[1] for item in X4_test_trfcorp[i]]\n",
    "    X4_test[i] = probs"
   ]
  },
  {
   "cell_type": "markdown",
   "metadata": {
    "deletable": true,
    "editable": true
   },
   "source": [
    "## Part c\n",
    "\n",
    "Printing tables of words for parts a) and b) respectively."
   ]
  },
  {
   "cell_type": "code",
   "execution_count": 256,
   "metadata": {
    "collapsed": false,
    "deletable": true,
    "editable": true
   },
   "outputs": [
    {
     "name": "stderr",
     "output_type": "stream",
     "text": [
      "2017-04-23 01:30:25,897 : INFO : topic #0 (0.100): 0.013*\"film\" + 0.009*\"movie\" + 0.007*\"one\" + 0.005*\"time\" + 0.004*\"story\" + 0.004*\"would\" + 0.004*\"like\" + 0.004*\"even\" + 0.003*\"good\" + 0.003*\"also\"\n",
      "2017-04-23 01:30:25,899 : INFO : topic #1 (0.100): 0.028*\"movie\" + 0.009*\"one\" + 0.007*\"bad\" + 0.006*\"film\" + 0.006*\"good\" + 0.006*\"like\" + 0.005*\"would\" + 0.005*\"movies\" + 0.005*\"time\" + 0.004*\"even\"\n",
      "2017-04-23 01:30:25,901 : INFO : topic #2 (0.100): 0.008*\"film\" + 0.007*\"one\" + 0.005*\"show\" + 0.004*\"movie\" + 0.004*\"like\" + 0.003*\"two\" + 0.003*\"best\" + 0.003*\"man\" + 0.003*\"get\" + 0.003*\"life\"\n",
      "2017-04-23 01:30:25,903 : INFO : topic #3 (0.100): 0.015*\"film\" + 0.013*\"one\" + 0.013*\"movie\" + 0.006*\"good\" + 0.006*\"like\" + 0.004*\"great\" + 0.004*\"would\" + 0.004*\"well\" + 0.004*\"even\" + 0.004*\"films\"\n",
      "2017-04-23 01:30:25,905 : INFO : topic #4 (0.100): 0.009*\"film\" + 0.009*\"one\" + 0.006*\"like\" + 0.004*\"series\" + 0.004*\"movie\" + 0.003*\"also\" + 0.003*\"time\" + 0.003*\"show\" + 0.003*\"many\" + 0.003*\"people\"\n",
      "2017-04-23 01:30:25,907 : INFO : topic #5 (0.100): 0.020*\"movie\" + 0.009*\"one\" + 0.008*\"like\" + 0.008*\"film\" + 0.006*\"bad\" + 0.006*\"even\" + 0.005*\"time\" + 0.005*\"would\" + 0.005*\"people\" + 0.005*\"see\"\n",
      "2017-04-23 01:30:25,908 : INFO : topic #6 (0.100): 0.021*\"film\" + 0.007*\"one\" + 0.006*\"like\" + 0.006*\"movie\" + 0.005*\"story\" + 0.005*\"good\" + 0.004*\"well\" + 0.004*\"really\" + 0.004*\"time\" + 0.004*\"great\"\n",
      "2017-04-23 01:30:25,911 : INFO : topic #7 (0.100): 0.017*\"film\" + 0.013*\"movie\" + 0.008*\"like\" + 0.007*\"one\" + 0.005*\"really\" + 0.005*\"good\" + 0.005*\"even\" + 0.005*\"story\" + 0.004*\"would\" + 0.004*\"well\"\n",
      "2017-04-23 01:30:25,912 : INFO : topic #8 (0.100): 0.018*\"movie\" + 0.015*\"film\" + 0.009*\"one\" + 0.007*\"like\" + 0.007*\"see\" + 0.005*\"time\" + 0.005*\"story\" + 0.005*\"well\" + 0.005*\"would\" + 0.005*\"really\"\n",
      "2017-04-23 01:30:25,914 : INFO : topic #9 (0.100): 0.021*\"movie\" + 0.012*\"film\" + 0.011*\"good\" + 0.009*\"like\" + 0.007*\"one\" + 0.005*\"really\" + 0.005*\"story\" + 0.004*\"even\" + 0.004*\"see\" + 0.003*\"would\"\n"
     ]
    },
    {
     "name": "stdout",
     "output_type": "stream",
     "text": [
      "[(0,\n",
      "  '0.013*\"film\" + 0.009*\"movie\" + 0.007*\"one\" + 0.005*\"time\" + 0.004*\"story\" + '\n",
      "  '0.004*\"would\" + 0.004*\"like\" + 0.004*\"even\" + 0.003*\"good\" + 0.003*\"also\"'),\n",
      " (1,\n",
      "  '0.028*\"movie\" + 0.009*\"one\" + 0.007*\"bad\" + 0.006*\"film\" + 0.006*\"good\" + '\n",
      "  '0.006*\"like\" + 0.005*\"would\" + 0.005*\"movies\" + 0.005*\"time\" + '\n",
      "  '0.004*\"even\"'),\n",
      " (2,\n",
      "  '0.008*\"film\" + 0.007*\"one\" + 0.005*\"show\" + 0.004*\"movie\" + 0.004*\"like\" + '\n",
      "  '0.003*\"two\" + 0.003*\"best\" + 0.003*\"man\" + 0.003*\"get\" + 0.003*\"life\"'),\n",
      " (3,\n",
      "  '0.015*\"film\" + 0.013*\"one\" + 0.013*\"movie\" + 0.006*\"good\" + 0.006*\"like\" + '\n",
      "  '0.004*\"great\" + 0.004*\"would\" + 0.004*\"well\" + 0.004*\"even\" + '\n",
      "  '0.004*\"films\"'),\n",
      " (4,\n",
      "  '0.009*\"film\" + 0.009*\"one\" + 0.006*\"like\" + 0.004*\"series\" + 0.004*\"movie\" '\n",
      "  '+ 0.003*\"also\" + 0.003*\"time\" + 0.003*\"show\" + 0.003*\"many\" + '\n",
      "  '0.003*\"people\"'),\n",
      " (5,\n",
      "  '0.020*\"movie\" + 0.009*\"one\" + 0.008*\"like\" + 0.008*\"film\" + 0.006*\"bad\" + '\n",
      "  '0.006*\"even\" + 0.005*\"time\" + 0.005*\"would\" + 0.005*\"people\" + 0.005*\"see\"'),\n",
      " (6,\n",
      "  '0.021*\"film\" + 0.007*\"one\" + 0.006*\"like\" + 0.006*\"movie\" + 0.005*\"story\" + '\n",
      "  '0.005*\"good\" + 0.004*\"well\" + 0.004*\"really\" + 0.004*\"time\" + '\n",
      "  '0.004*\"great\"'),\n",
      " (7,\n",
      "  '0.017*\"film\" + 0.013*\"movie\" + 0.008*\"like\" + 0.007*\"one\" + 0.005*\"really\" '\n",
      "  '+ 0.005*\"good\" + 0.005*\"even\" + 0.005*\"story\" + 0.004*\"would\" + '\n",
      "  '0.004*\"well\"'),\n",
      " (8,\n",
      "  '0.018*\"movie\" + 0.015*\"film\" + 0.009*\"one\" + 0.007*\"like\" + 0.007*\"see\" + '\n",
      "  '0.005*\"time\" + 0.005*\"story\" + 0.005*\"well\" + 0.005*\"would\" + '\n",
      "  '0.005*\"really\"'),\n",
      " (9,\n",
      "  '0.021*\"movie\" + 0.012*\"film\" + 0.011*\"good\" + 0.009*\"like\" + 0.007*\"one\" + '\n",
      "  '0.005*\"really\" + 0.005*\"story\" + 0.004*\"even\" + 0.004*\"see\" + '\n",
      "  '0.003*\"would\"')]\n"
     ]
    }
   ],
   "source": [
    "#part a)\n",
    "from pprint import pprint \n",
    "pprint(lda.print_topics(10))"
   ]
  },
  {
   "cell_type": "code",
   "execution_count": 257,
   "metadata": {
    "collapsed": false,
    "deletable": true,
    "editable": true
   },
   "outputs": [
    {
     "name": "stderr",
     "output_type": "stream",
     "text": [
      "2017-04-23 01:30:38,417 : INFO : topic #0 (0.050): 0.013*\"film\" + 0.009*\"one\" + 0.007*\"movie\" + 0.005*\"also\" + 0.005*\"good\" + 0.005*\"well\" + 0.004*\"time\" + 0.004*\"story\" + 0.003*\"two\" + 0.003*\"much\"\n",
      "2017-04-23 01:30:38,418 : INFO : topic #1 (0.050): 0.017*\"film\" + 0.011*\"one\" + 0.009*\"like\" + 0.007*\"movie\" + 0.005*\"time\" + 0.005*\"story\" + 0.005*\"even\" + 0.004*\"much\" + 0.004*\"well\" + 0.004*\"way\"\n",
      "2017-04-23 01:30:38,420 : INFO : topic #2 (0.050): 0.013*\"film\" + 0.008*\"movie\" + 0.007*\"one\" + 0.005*\"love\" + 0.005*\"like\" + 0.005*\"story\" + 0.004*\"well\" + 0.004*\"also\" + 0.004*\"young\" + 0.004*\"life\"\n",
      "2017-04-23 01:30:38,421 : INFO : topic #3 (0.050): 0.011*\"film\" + 0.008*\"one\" + 0.008*\"movie\" + 0.005*\"time\" + 0.004*\"would\" + 0.004*\"also\" + 0.004*\"like\" + 0.004*\"well\" + 0.003*\"story\" + 0.003*\"good\"\n",
      "2017-04-23 01:30:38,423 : INFO : topic #4 (0.050): 0.015*\"movie\" + 0.009*\"one\" + 0.005*\"like\" + 0.005*\"bad\" + 0.004*\"even\" + 0.004*\"would\" + 0.004*\"think\" + 0.004*\"film\" + 0.003*\"get\" + 0.003*\"well\"\n",
      "2017-04-23 01:30:38,425 : INFO : topic #5 (0.050): 0.023*\"film\" + 0.009*\"one\" + 0.006*\"good\" + 0.004*\"even\" + 0.004*\"like\" + 0.004*\"story\" + 0.004*\"would\" + 0.004*\"movie\" + 0.003*\"could\" + 0.003*\"great\"\n",
      "2017-04-23 01:30:38,426 : INFO : topic #6 (0.050): 0.009*\"film\" + 0.008*\"one\" + 0.005*\"movie\" + 0.005*\"story\" + 0.004*\"jane\" + 0.004*\"like\" + 0.004*\"time\" + 0.004*\"love\" + 0.004*\"good\" + 0.003*\"also\"\n",
      "2017-04-23 01:30:38,429 : INFO : topic #7 (0.050): 0.011*\"one\" + 0.010*\"movie\" + 0.008*\"like\" + 0.007*\"really\" + 0.007*\"good\" + 0.005*\"film\" + 0.005*\"even\" + 0.004*\"would\" + 0.004*\"great\" + 0.004*\"see\"\n",
      "2017-04-23 01:30:38,430 : INFO : topic #8 (0.050): 0.012*\"film\" + 0.010*\"movie\" + 0.006*\"one\" + 0.006*\"like\" + 0.005*\"great\" + 0.004*\"get\" + 0.004*\"see\" + 0.004*\"would\" + 0.004*\"time\" + 0.004*\"even\"\n",
      "2017-04-23 01:30:38,432 : INFO : topic #9 (0.050): 0.013*\"film\" + 0.013*\"movie\" + 0.010*\"one\" + 0.007*\"time\" + 0.007*\"like\" + 0.004*\"really\" + 0.004*\"even\" + 0.004*\"story\" + 0.004*\"well\" + 0.004*\"action\"\n",
      "2017-04-23 01:30:38,434 : INFO : topic #10 (0.050): 0.021*\"film\" + 0.010*\"movie\" + 0.008*\"one\" + 0.007*\"like\" + 0.006*\"story\" + 0.006*\"good\" + 0.005*\"well\" + 0.005*\"even\" + 0.004*\"films\" + 0.004*\"see\"\n",
      "2017-04-23 01:30:38,436 : INFO : topic #11 (0.050): 0.042*\"movie\" + 0.011*\"one\" + 0.010*\"like\" + 0.010*\"film\" + 0.009*\"bad\" + 0.009*\"good\" + 0.008*\"really\" + 0.007*\"would\" + 0.007*\"movies\" + 0.007*\"even\"\n",
      "2017-04-23 01:30:38,438 : INFO : topic #12 (0.050): 0.022*\"movie\" + 0.010*\"one\" + 0.009*\"like\" + 0.007*\"good\" + 0.007*\"film\" + 0.005*\"would\" + 0.005*\"really\" + 0.005*\"even\" + 0.005*\"movies\" + 0.004*\"see\"\n",
      "2017-04-23 01:30:38,439 : INFO : topic #13 (0.050): 0.013*\"film\" + 0.009*\"one\" + 0.008*\"movie\" + 0.007*\"like\" + 0.004*\"see\" + 0.004*\"people\" + 0.004*\"story\" + 0.004*\"life\" + 0.004*\"good\" + 0.004*\"get\"\n",
      "2017-04-23 01:30:38,441 : INFO : topic #14 (0.050): 0.014*\"film\" + 0.007*\"war\" + 0.005*\"people\" + 0.005*\"would\" + 0.005*\"one\" + 0.004*\"world\" + 0.004*\"movie\" + 0.004*\"see\" + 0.003*\"made\" + 0.003*\"like\"\n",
      "2017-04-23 01:30:38,443 : INFO : topic #15 (0.050): 0.022*\"show\" + 0.010*\"one\" + 0.008*\"series\" + 0.007*\"good\" + 0.006*\"like\" + 0.006*\"movie\" + 0.005*\"funny\" + 0.005*\"time\" + 0.005*\"would\" + 0.005*\"episode\"\n",
      "2017-04-23 01:30:38,445 : INFO : topic #16 (0.050): 0.019*\"film\" + 0.008*\"movie\" + 0.007*\"one\" + 0.006*\"like\" + 0.005*\"first\" + 0.004*\"story\" + 0.004*\"much\" + 0.004*\"would\" + 0.004*\"even\" + 0.004*\"see\"\n",
      "2017-04-23 01:30:38,447 : INFO : topic #17 (0.050): 0.015*\"film\" + 0.014*\"movie\" + 0.007*\"one\" + 0.007*\"like\" + 0.005*\"good\" + 0.004*\"people\" + 0.004*\"even\" + 0.004*\"would\" + 0.003*\"movies\" + 0.003*\"really\"\n",
      "2017-04-23 01:30:38,448 : INFO : topic #18 (0.050): 0.029*\"movie\" + 0.010*\"like\" + 0.009*\"film\" + 0.005*\"good\" + 0.005*\"one\" + 0.005*\"see\" + 0.005*\"would\" + 0.004*\"much\" + 0.004*\"time\" + 0.004*\"movies\"\n",
      "2017-04-23 01:30:38,450 : INFO : topic #19 (0.050): 0.014*\"movie\" + 0.012*\"film\" + 0.007*\"one\" + 0.007*\"story\" + 0.005*\"like\" + 0.004*\"time\" + 0.004*\"even\" + 0.004*\"good\" + 0.003*\"see\" + 0.003*\"new\"\n"
     ]
    },
    {
     "name": "stdout",
     "output_type": "stream",
     "text": [
      "[(0,\n",
      "  '0.013*\"film\" + 0.009*\"one\" + 0.007*\"movie\" + 0.005*\"also\" + 0.005*\"good\" + '\n",
      "  '0.005*\"well\" + 0.004*\"time\" + 0.004*\"story\" + 0.003*\"two\" + 0.003*\"much\"'),\n",
      " (1,\n",
      "  '0.017*\"film\" + 0.011*\"one\" + 0.009*\"like\" + 0.007*\"movie\" + 0.005*\"time\" + '\n",
      "  '0.005*\"story\" + 0.005*\"even\" + 0.004*\"much\" + 0.004*\"well\" + 0.004*\"way\"'),\n",
      " (2,\n",
      "  '0.013*\"film\" + 0.008*\"movie\" + 0.007*\"one\" + 0.005*\"love\" + 0.005*\"like\" + '\n",
      "  '0.005*\"story\" + 0.004*\"well\" + 0.004*\"also\" + 0.004*\"young\" + 0.004*\"life\"'),\n",
      " (3,\n",
      "  '0.011*\"film\" + 0.008*\"one\" + 0.008*\"movie\" + 0.005*\"time\" + 0.004*\"would\" + '\n",
      "  '0.004*\"also\" + 0.004*\"like\" + 0.004*\"well\" + 0.003*\"story\" + 0.003*\"good\"'),\n",
      " (4,\n",
      "  '0.015*\"movie\" + 0.009*\"one\" + 0.005*\"like\" + 0.005*\"bad\" + 0.004*\"even\" + '\n",
      "  '0.004*\"would\" + 0.004*\"think\" + 0.004*\"film\" + 0.003*\"get\" + 0.003*\"well\"'),\n",
      " (5,\n",
      "  '0.023*\"film\" + 0.009*\"one\" + 0.006*\"good\" + 0.004*\"even\" + 0.004*\"like\" + '\n",
      "  '0.004*\"story\" + 0.004*\"would\" + 0.004*\"movie\" + 0.003*\"could\" + '\n",
      "  '0.003*\"great\"'),\n",
      " (6,\n",
      "  '0.009*\"film\" + 0.008*\"one\" + 0.005*\"movie\" + 0.005*\"story\" + 0.004*\"jane\" + '\n",
      "  '0.004*\"like\" + 0.004*\"time\" + 0.004*\"love\" + 0.004*\"good\" + 0.003*\"also\"'),\n",
      " (7,\n",
      "  '0.011*\"one\" + 0.010*\"movie\" + 0.008*\"like\" + 0.007*\"really\" + 0.007*\"good\" '\n",
      "  '+ 0.005*\"film\" + 0.005*\"even\" + 0.004*\"would\" + 0.004*\"great\" + '\n",
      "  '0.004*\"see\"'),\n",
      " (8,\n",
      "  '0.012*\"film\" + 0.010*\"movie\" + 0.006*\"one\" + 0.006*\"like\" + 0.005*\"great\" + '\n",
      "  '0.004*\"get\" + 0.004*\"see\" + 0.004*\"would\" + 0.004*\"time\" + 0.004*\"even\"'),\n",
      " (9,\n",
      "  '0.013*\"film\" + 0.013*\"movie\" + 0.010*\"one\" + 0.007*\"time\" + 0.007*\"like\" + '\n",
      "  '0.004*\"really\" + 0.004*\"even\" + 0.004*\"story\" + 0.004*\"well\" + '\n",
      "  '0.004*\"action\"'),\n",
      " (10,\n",
      "  '0.021*\"film\" + 0.010*\"movie\" + 0.008*\"one\" + 0.007*\"like\" + 0.006*\"story\" + '\n",
      "  '0.006*\"good\" + 0.005*\"well\" + 0.005*\"even\" + 0.004*\"films\" + 0.004*\"see\"'),\n",
      " (11,\n",
      "  '0.042*\"movie\" + 0.011*\"one\" + 0.010*\"like\" + 0.010*\"film\" + 0.009*\"bad\" + '\n",
      "  '0.009*\"good\" + 0.008*\"really\" + 0.007*\"would\" + 0.007*\"movies\" + '\n",
      "  '0.007*\"even\"'),\n",
      " (12,\n",
      "  '0.022*\"movie\" + 0.010*\"one\" + 0.009*\"like\" + 0.007*\"good\" + 0.007*\"film\" + '\n",
      "  '0.005*\"would\" + 0.005*\"really\" + 0.005*\"even\" + 0.005*\"movies\" + '\n",
      "  '0.004*\"see\"'),\n",
      " (13,\n",
      "  '0.013*\"film\" + 0.009*\"one\" + 0.008*\"movie\" + 0.007*\"like\" + 0.004*\"see\" + '\n",
      "  '0.004*\"people\" + 0.004*\"story\" + 0.004*\"life\" + 0.004*\"good\" + 0.004*\"get\"'),\n",
      " (14,\n",
      "  '0.014*\"film\" + 0.007*\"war\" + 0.005*\"people\" + 0.005*\"would\" + 0.005*\"one\" + '\n",
      "  '0.004*\"world\" + 0.004*\"movie\" + 0.004*\"see\" + 0.003*\"made\" + 0.003*\"like\"'),\n",
      " (15,\n",
      "  '0.022*\"show\" + 0.010*\"one\" + 0.008*\"series\" + 0.007*\"good\" + 0.006*\"like\" + '\n",
      "  '0.006*\"movie\" + 0.005*\"funny\" + 0.005*\"time\" + 0.005*\"would\" + '\n",
      "  '0.005*\"episode\"'),\n",
      " (16,\n",
      "  '0.019*\"film\" + 0.008*\"movie\" + 0.007*\"one\" + 0.006*\"like\" + 0.005*\"first\" + '\n",
      "  '0.004*\"story\" + 0.004*\"much\" + 0.004*\"would\" + 0.004*\"even\" + 0.004*\"see\"'),\n",
      " (17,\n",
      "  '0.015*\"film\" + 0.014*\"movie\" + 0.007*\"one\" + 0.007*\"like\" + 0.005*\"good\" + '\n",
      "  '0.004*\"people\" + 0.004*\"even\" + 0.004*\"would\" + 0.003*\"movies\" + '\n",
      "  '0.003*\"really\"'),\n",
      " (18,\n",
      "  '0.029*\"movie\" + 0.010*\"like\" + 0.009*\"film\" + 0.005*\"good\" + 0.005*\"one\" + '\n",
      "  '0.005*\"see\" + 0.005*\"would\" + 0.004*\"much\" + 0.004*\"time\" + 0.004*\"movies\"'),\n",
      " (19,\n",
      "  '0.014*\"movie\" + 0.012*\"film\" + 0.007*\"one\" + 0.007*\"story\" + 0.005*\"like\" + '\n",
      "  '0.004*\"time\" + 0.004*\"even\" + 0.004*\"good\" + 0.003*\"see\" + 0.003*\"new\"')]\n"
     ]
    }
   ],
   "source": [
    "#part b\n",
    "pprint(lda2.print_topics(20))"
   ]
  },
  {
   "cell_type": "markdown",
   "metadata": {
    "deletable": true,
    "editable": true
   },
   "source": [
    "# Question3"
   ]
  },
  {
   "cell_type": "markdown",
   "metadata": {
    "deletable": true,
    "editable": true
   },
   "source": [
    "## Part a\n",
    "\n",
    "To create the classifiers, we need to tune parameters. We will be using a grid of parameter values and using GridSearchCV to perform the tuning. "
   ]
  },
  {
   "cell_type": "code",
   "execution_count": 266,
   "metadata": {
    "collapsed": false,
    "deletable": true,
    "editable": true
   },
   "outputs": [],
   "source": [
    "y = train[\"sentiment\"]\n",
    "X1_tr, X1_ts, y_tr, y_ts = train_test_split(X1, y, test_size=0.2, random_state=0)\n",
    "X2_tr, X2_ts, y_tr, y_ts = train_test_split(X2, y, test_size=0.2, random_state=0)\n",
    "X3_tr, X3_ts, y_tr, y_ts = train_test_split(X3, y, test_size=0.2, random_state=0)\n",
    "X4_tr, X4_ts, y_tr, y_ts = train_test_split(X4, y, test_size=0.2, random_state=0)\n",
    "\n",
    "\n",
    "param_grid = {\"criterion\": [\"gini\", \"entropy\"],\n",
    "              #\"max_depth\": [None, 2, 5, 10],\n",
    "              \"n_estimators\": range(10,100,10) ,\n",
    "              \"min_samples_leaf\": range(10,100,10)\n",
    "             }\n"
   ]
  },
  {
   "cell_type": "code",
   "execution_count": 34,
   "metadata": {
    "collapsed": false,
    "deletable": true,
    "editable": true
   },
   "outputs": [
    {
     "name": "stdout",
     "output_type": "stream",
     "text": [
      "\n",
      " Classifier 1 done \n",
      "\n",
      "\n",
      " Classifier 2 done \n",
      "\n",
      "\n",
      " Classifier 3 done \n",
      "\n",
      "\n",
      " Classifier 4 done \n",
      "\n",
      "Time taken for GridSearchCV:  3638.4281301498413 seconds.\n"
     ]
    }
   ],
   "source": [
    "start = time.time()\n",
    "rf = RandomForestClassifier()\n",
    "rf_clf1 = GridSearchCV(rf, param_grid=  param_grid, scoring = 'roc_auc' ,cv = 5 )\n",
    "rf_clf1.fit(X1_tr , y_tr )\n",
    "print (\"\\n Classifier 1 done \\n\")\n",
    "rf_clf2 = GridSearchCV(rf, param_grid=  param_grid, scoring = 'roc_auc' ,cv = 5 )\n",
    "rf_clf2.fit(X2_tr  , y_tr )\n",
    "print (\"\\n Classifier 2 done \\n\")\n",
    "\n",
    "rf_clf3 = GridSearchCV(rf, param_grid=  param_grid, scoring = 'roc_auc' ,cv = 5 )\n",
    "rf_clf3.fit(X3_tr  , y_tr )\n",
    "print (\"\\n Classifier 3 done \\n\")\n",
    "rf_clf4 = GridSearchCV(rf, param_grid=  param_grid, scoring = 'roc_auc' ,cv = 5 )\n",
    "rf_clf4.fit(X4_tr , y_tr )\n",
    "\n",
    "print (\"\\n Classifier 4 done \\n\")\n",
    "\n",
    "\n",
    "# Get the end time and print how long the process took\n",
    "end = time.time()\n",
    "elapsed = end - start\n",
    "print (\"Time taken for GridSearchCV: \", elapsed, \"seconds.\")"
   ]
  },
  {
   "cell_type": "code",
   "execution_count": 35,
   "metadata": {
    "collapsed": false,
    "deletable": true,
    "editable": true,
    "scrolled": true
   },
   "outputs": [
    {
     "name": "stdout",
     "output_type": "stream",
     "text": [
      "\n",
      " Best estimator for classifier 1 \n",
      "\n",
      "RandomForestClassifier(bootstrap=True, class_weight=None, criterion='entropy',\n",
      "            max_depth=None, max_features='auto', max_leaf_nodes=None,\n",
      "            min_impurity_split=1e-07, min_samples_leaf=20,\n",
      "            min_samples_split=2, min_weight_fraction_leaf=0.0,\n",
      "            n_estimators=80, n_jobs=1, oob_score=False, random_state=None,\n",
      "            verbose=0, warm_start=False)\n",
      "\n",
      " Best estimator for classifier 2 \n",
      "\n",
      "RandomForestClassifier(bootstrap=True, class_weight=None, criterion='entropy',\n",
      "            max_depth=None, max_features='auto', max_leaf_nodes=None,\n",
      "            min_impurity_split=1e-07, min_samples_leaf=10,\n",
      "            min_samples_split=2, min_weight_fraction_leaf=0.0,\n",
      "            n_estimators=90, n_jobs=1, oob_score=False, random_state=None,\n",
      "            verbose=0, warm_start=False)\n",
      "\n",
      " Best estimator for classifier 3 \n",
      "\n",
      "RandomForestClassifier(bootstrap=True, class_weight=None, criterion='entropy',\n",
      "            max_depth=None, max_features='auto', max_leaf_nodes=None,\n",
      "            min_impurity_split=1e-07, min_samples_leaf=80,\n",
      "            min_samples_split=2, min_weight_fraction_leaf=0.0,\n",
      "            n_estimators=90, n_jobs=1, oob_score=False, random_state=None,\n",
      "            verbose=0, warm_start=False)\n",
      "\n",
      " Best estimator for classifier 4 \n",
      "\n"
     ]
    },
    {
     "data": {
      "text/plain": [
       "RandomForestClassifier(bootstrap=True, class_weight=None, criterion='entropy',\n",
       "            max_depth=None, max_features='auto', max_leaf_nodes=None,\n",
       "            min_impurity_split=1e-07, min_samples_leaf=60,\n",
       "            min_samples_split=2, min_weight_fraction_leaf=0.0,\n",
       "            n_estimators=80, n_jobs=1, oob_score=False, random_state=None,\n",
       "            verbose=0, warm_start=False)"
      ]
     },
     "execution_count": 35,
     "metadata": {},
     "output_type": "execute_result"
    }
   ],
   "source": [
    "print (\"\\n Best estimator for classifier 1 \\n\")\n",
    "print(rf_clf1.best_estimator_)\n",
    "print (\"\\n Best estimator for classifier 2 \\n\")\n",
    "print(rf_clf2.best_estimator_)\n",
    "print (\"\\n Best estimator for classifier 3 \\n\")\n",
    "print(rf_clf3.best_estimator_)\n",
    "print (\"\\n Best estimator for classifier 4 \\n\")\n",
    "rf_clf4.best_estimator_"
   ]
  },
  {
   "cell_type": "markdown",
   "metadata": {
    "deletable": true,
    "editable": true
   },
   "source": [
    "We will now use the optimal parameters to build M1, M2, M3 and M4"
   ]
  },
  {
   "cell_type": "code",
   "execution_count": 267,
   "metadata": {
    "collapsed": true,
    "deletable": true,
    "editable": true
   },
   "outputs": [],
   "source": [
    "M1 = RandomForestClassifier(bootstrap=True, class_weight=None, criterion='entropy',\n",
    "            max_depth=None, max_features='auto', max_leaf_nodes=None,\n",
    "            min_impurity_split=1e-07, min_samples_leaf=20,\n",
    "            min_samples_split=2, min_weight_fraction_leaf=0.0,\n",
    "            n_estimators=80, n_jobs=1, oob_score=False, random_state=None,\n",
    "            verbose=0, warm_start=False)\n",
    "\n",
    "M2 = RandomForestClassifier(bootstrap=True, class_weight=None, criterion='entropy',\n",
    "            max_depth=None, max_features='auto', max_leaf_nodes=None,\n",
    "            min_impurity_split=1e-07, min_samples_leaf=10,\n",
    "            min_samples_split=2, min_weight_fraction_leaf=0.0,\n",
    "            n_estimators=90, n_jobs=1, oob_score=False, random_state=None,\n",
    "            verbose=0, warm_start=False)\n",
    "\n",
    "M3 = RandomForestClassifier(bootstrap=True, class_weight=None, criterion='entropy',\n",
    "            max_depth=None, max_features='auto', max_leaf_nodes=None,\n",
    "            min_impurity_split=1e-07, min_samples_leaf=80,\n",
    "            min_samples_split=2, min_weight_fraction_leaf=0.0,\n",
    "            n_estimators=90, n_jobs=1, oob_score=False, random_state=None,\n",
    "            verbose=0, warm_start=False)\n",
    "\n",
    "\n",
    "M4 = RandomForestClassifier(bootstrap=True, class_weight=None, criterion='entropy',\n",
    "            max_depth=None, max_features='auto', max_leaf_nodes=None,\n",
    "            min_impurity_split=1e-07, min_samples_leaf=60,\n",
    "            min_samples_split=2, min_weight_fraction_leaf=0.0,\n",
    "            n_estimators=80, n_jobs=1, oob_score=False, random_state=None,\n",
    "            verbose=0, warm_start=False)"
   ]
  },
  {
   "cell_type": "markdown",
   "metadata": {
    "deletable": true,
    "editable": true
   },
   "source": [
    "## Part b\n",
    "\n",
    "Using the trained classifiers to predict values from the holdout set from the train_test_splits made earlier."
   ]
  },
  {
   "cell_type": "code",
   "execution_count": 268,
   "metadata": {
    "collapsed": false,
    "deletable": true,
    "editable": true
   },
   "outputs": [],
   "source": [
    "M1.fit(X1_tr , y_tr)\n",
    "y_pred1 = M1.predict_proba(X1_ts)[:,1]\n",
    "\n",
    "M2.fit(X2_tr , y_tr)\n",
    "y_pred2 = M2.predict_proba(X2_ts)[:,1]\n",
    "\n",
    "M3.fit(X3_tr , y_tr)\n",
    "y_pred3 = M3.predict_proba(X3_ts)[:,1]\n",
    "\n",
    "\n",
    "M4.fit(X4_tr , y_tr)\n",
    "y_pred4 = M4.predict_proba(X4_ts)[:,1]\n",
    "\n"
   ]
  },
  {
   "cell_type": "markdown",
   "metadata": {
    "deletable": true,
    "editable": true
   },
   "source": [
    "Obtaining ROC metrics by comparing actual vs predicted y values"
   ]
  },
  {
   "cell_type": "code",
   "execution_count": 269,
   "metadata": {
    "collapsed": true,
    "deletable": true,
    "editable": true
   },
   "outputs": [],
   "source": [
    "fpr1, tpr1, _ = roc_curve(y_ts ,y_pred1 )\n",
    "\n",
    "fpr2, tpr2, _ = roc_curve(y_ts ,y_pred2 )\n",
    "\n",
    "fpr3, tpr3, _ = roc_curve(y_ts ,y_pred3 )\n",
    "\n",
    "fpr4, tpr4, _ = roc_curve(y_ts ,y_pred4 )"
   ]
  },
  {
   "cell_type": "code",
   "execution_count": 270,
   "metadata": {
    "collapsed": true,
    "deletable": true,
    "editable": true
   },
   "outputs": [],
   "source": [
    "score1 = auc(fpr1, tpr1)\n",
    "score2 = auc(fpr2, tpr2)\n",
    "score3 = auc(fpr3, tpr3)\n",
    "score4 = auc(fpr4, tpr4)"
   ]
  },
  {
   "cell_type": "code",
   "execution_count": 271,
   "metadata": {
    "collapsed": false,
    "deletable": true,
    "editable": true
   },
   "outputs": [
    {
     "name": "stdout",
     "output_type": "stream",
     "text": [
      "ROC AUC Scores: \n",
      "\n",
      "Classifier 1:  0.683511489676 \n",
      "\n",
      "Classifier 2:  0.720719446017 \n",
      "\n",
      "Classifier 3:  0.751752726125 \n",
      "\n",
      "Classifier 4:  0.742088043336 \n",
      "\n"
     ]
    }
   ],
   "source": [
    "print (\"ROC AUC Scores: \\n\")\n",
    "print(\"Classifier 1: \", score1, \"\\n\")\n",
    "print(\"Classifier 2: \", score2, \"\\n\")\n",
    "print(\"Classifier 3: \", score3, \"\\n\")\n",
    "print(\"Classifier 4: \", score4, \"\\n\")"
   ]
  },
  {
   "cell_type": "code",
   "execution_count": 272,
   "metadata": {
    "collapsed": true,
    "deletable": true,
    "editable": true
   },
   "outputs": [],
   "source": [
    "def ROC_plotter(roc_metrics, name = None):\n",
    "    fpr, tpr, roc_auc = roc_metrics\n",
    "    plt.plot(fpr,tpr, lw = 1.5, color='blue', label='AUC = %0.2f' % roc_auc)\n",
    "    plt.plot([0, 1], [0, 1], color='red', lw=1.5, linestyle='--')\n",
    "    plt.xlim([0.0, 1.0])\n",
    "    plt.ylim([0.0, 1.05])\n",
    "    plt.title('ROC for %s' %(name))\n",
    "    plt.xlabel('False Positive Rate')\n",
    "    plt.ylabel('True Positive Rate')\n",
    "    plt.legend(loc=\"lower right\")    \n",
    "    plt.show()"
   ]
  },
  {
   "cell_type": "code",
   "execution_count": 273,
   "metadata": {
    "collapsed": false,
    "deletable": true,
    "editable": true
   },
   "outputs": [
    {
     "data": {
      "image/png": "[encoded data removed]",
      "text/plain": [
       "<matplotlib.figure.Figure at 0x304aa7080>"
      ]
     },
     "metadata": {},
     "output_type": "display_data"
    }
   ],
   "source": [
    "ROC_plotter( (fpr1, tpr1, score1), name = \"X1\") "
   ]
  },
  {
   "cell_type": "code",
   "execution_count": 274,
   "metadata": {
    "collapsed": false,
    "deletable": true,
    "editable": true
   },
   "outputs": [
    {
     "data": {
      "image/png": "[encoded data removed]",
      "text/plain": [
       "<matplotlib.figure.Figure at 0x2eb290e80>"
      ]
     },
     "metadata": {},
     "output_type": "display_data"
    }
   ],
   "source": [
    "ROC_plotter( (fpr2, tpr2, score2), name = \"X2\") "
   ]
  },
  {
   "cell_type": "code",
   "execution_count": 275,
   "metadata": {
    "collapsed": false,
    "deletable": true,
    "editable": true
   },
   "outputs": [
    {
     "data": {
      "image/png": "[encoded data removed]",
      "text/plain": [
       "<matplotlib.figure.Figure at 0x2e17a8ac8>"
      ]
     },
     "metadata": {},
     "output_type": "display_data"
    }
   ],
   "source": [
    "ROC_plotter( (fpr3, tpr3, score3), name = \"X3\") "
   ]
  },
  {
   "cell_type": "code",
   "execution_count": 276,
   "metadata": {
    "collapsed": false,
    "deletable": true,
    "editable": true
   },
   "outputs": [
    {
     "data": {
      "image/png": "[encoded data removed]",
      "text/plain": [
       "<matplotlib.figure.Figure at 0x2e0b967b8>"
      ]
     },
     "metadata": {},
     "output_type": "display_data"
    }
   ],
   "source": [
    "ROC_plotter( (fpr4, tpr4, score4), name = \"X4\") "
   ]
  },
  {
   "cell_type": "markdown",
   "metadata": {
    "deletable": true,
    "editable": true
   },
   "source": [
    "Rebuilding the simple Bag of Words model from Part 1 of the tutorial as a baseline for comparison:"
   ]
  },
  {
   "cell_type": "code",
   "execution_count": 80,
   "metadata": {
    "collapsed": true,
    "deletable": true,
    "editable": true
   },
   "outputs": [],
   "source": [
    "from sklearn.feature_extraction.text import CountVectorizer\n",
    "\n",
    "# Initialize the \"CountVectorizer\" object, which is scikit-learn's\n",
    "# bag of words tool.  \n",
    "vectorizer = CountVectorizer(analyzer = \"word\",   \\\n",
    "                             tokenizer = None,    \\\n",
    "                             preprocessor = None, \\\n",
    "                             stop_words = None,   \\\n",
    "                             max_features = 5000) "
   ]
  },
  {
   "cell_type": "code",
   "execution_count": 85,
   "metadata": {
    "collapsed": false,
    "deletable": true,
    "editable": true
   },
   "outputs": [],
   "source": [
    "def review_to_words( raw_review ):\n",
    "    # Function to convert a raw review to a string of words\n",
    "    # The input is a single string (a raw movie review), and \n",
    "    # the output is a single string (a preprocessed movie review)\n",
    "    #\n",
    "    # 1. Remove HTML\n",
    "    review_text = BeautifulSoup(raw_review, \"html.parser\").get_text() \n",
    "    #\n",
    "    # 2. Remove non-letters        \n",
    "    letters_only = re.sub(\"[^a-zA-Z]\", \" \", review_text) \n",
    "    #\n",
    "    # 3. Convert to lower case, split into individual words\n",
    "    words = letters_only.lower().split()                             \n",
    "    #\n",
    "    # 4. In Python, searching a set is much faster than searching\n",
    "    #   a list, so convert the stop words to a set\n",
    "    stops = set(stopwords.words(\"english\"))                  \n",
    "    # \n",
    "    # 5. Remove stop words\n",
    "    meaningful_words = [w for w in words if not w in stops]   \n",
    "    #\n",
    "    # 6. Join the words back into one string separated by space, \n",
    "    # and return the result.\n",
    "    return( \" \".join( meaningful_words ))   \n",
    "    \n",
    "\n",
    "\n",
    "num_reviews = train[\"review\"].size\n",
    "\n",
    "clean_train_reviews3 = []\n",
    "clean_test_reviews3 = []\n",
    "\n",
    "for i in range( 0, num_reviews ):\n",
    "    # Call our function for each one, and add the result to the list of\n",
    "    # clean reviews\n",
    "    clean_train_reviews3.append( review_to_words( train[\"review\"][i] ) )\n",
    "    clean_test_reviews3.append( review_to_words( test[\"review\"][i] ) )"
   ]
  },
  {
   "cell_type": "code",
   "execution_count": 86,
   "metadata": {
    "collapsed": false,
    "deletable": true,
    "editable": true
   },
   "outputs": [],
   "source": [
    "\n",
    "X_counts = vectorizer.fit_transform(clean_train_reviews3)\n",
    "\n",
    "X_counts = X_counts.toarray()\n",
    "\n",
    "vocab = vectorizer.get_feature_names()\n",
    "\n",
    "dist = np.sum(X_counts, axis=0)\n",
    "\n",
    "X_counts2 = vectorizer.fit_transform(clean_test_reviews3)\n",
    "\n",
    "X_counts2 = X_counts2.toarray()\n"
   ]
  },
  {
   "cell_type": "code",
   "execution_count": 91,
   "metadata": {
    "collapsed": true,
    "deletable": true,
    "editable": true
   },
   "outputs": [],
   "source": [
    "X5_tr, X5_ts, y_tr, y_ts = train_test_split(X_counts, y, test_size=0.2, random_state=0)"
   ]
  },
  {
   "cell_type": "code",
   "execution_count": 92,
   "metadata": {
    "collapsed": true,
    "deletable": true,
    "editable": true
   },
   "outputs": [],
   "source": [
    "param_grid = {\"max_depth\": [None, 2, 5, 10],\n",
    "              \"n_estimators\": range(80,100,10) ,\n",
    "              \"min_samples_leaf\": range(50,100,10)\n",
    "             }"
   ]
  },
  {
   "cell_type": "code",
   "execution_count": 93,
   "metadata": {
    "collapsed": false,
    "deletable": true,
    "editable": true
   },
   "outputs": [
    {
     "name": "stdout",
     "output_type": "stream",
     "text": [
      "Fitting 5 folds for each of 40 candidates, totalling 200 fits\n",
      "[CV] min_samples_leaf=50, max_depth=None, n_estimators=80 ............\n",
      "[CV] min_samples_leaf=50, max_depth=None, n_estimators=80 ............\n",
      "[CV] min_samples_leaf=50, max_depth=None, n_estimators=80 ............\n",
      "[CV] min_samples_leaf=50, max_depth=None, n_estimators=80 ............\n",
      "[CV] min_samples_leaf=50, max_depth=None, n_estimators=80 ............\n",
      "[CV] min_samples_leaf=50, max_depth=None, n_estimators=90 ............\n",
      "[CV] min_samples_leaf=50, max_depth=None, n_estimators=90 ............\n",
      "[CV] min_samples_leaf=50, max_depth=None, n_estimators=90 ............\n",
      "[CV]  min_samples_leaf=50, max_depth=None, n_estimators=80, score=0.900632, total= 1.0min\n",
      "[CV] min_samples_leaf=50, max_depth=None, n_estimators=90 ............\n",
      "[CV]  min_samples_leaf=50, max_depth=None, n_estimators=80, score=0.911038, total= 1.1min\n"
     ]
    },
    {
     "name": "stderr",
     "output_type": "stream",
     "text": [
      "[Parallel(n_jobs=-1)]: Done   2 tasks      | elapsed:  1.1min\n"
     ]
    },
    {
     "name": "stdout",
     "output_type": "stream",
     "text": [
      "[CV]  min_samples_leaf=50, max_depth=None, n_estimators=80, score=0.911857, total= 1.0min\n",
      "[CV] min_samples_leaf=50, max_depth=None, n_estimators=90 ............\n",
      "[CV]  min_samples_leaf=50, max_depth=None, n_estimators=80, score=0.906579, total= 1.1min\n",
      "[CV] min_samples_leaf=60, max_depth=None, n_estimators=80 ............\n",
      "[CV]  min_samples_leaf=50, max_depth=None, n_estimators=80, score=0.896330, total= 1.1min\n",
      "[CV] min_samples_leaf=60, max_depth=None, n_estimators=80 ............\n",
      "[CV] min_samples_leaf=60, max_depth=None, n_estimators=80 ............\n",
      "[CV]  min_samples_leaf=50, max_depth=None, n_estimators=90, score=0.910737, total= 1.2min\n",
      "[CV]  min_samples_leaf=50, max_depth=None, n_estimators=90, score=0.900333, total= 1.1min\n",
      "[CV] min_samples_leaf=60, max_depth=None, n_estimators=80 ............\n",
      "[CV]  min_samples_leaf=50, max_depth=None, n_estimators=90, score=0.912037, total= 1.1min\n",
      "[CV] min_samples_leaf=60, max_depth=None, n_estimators=80 ............\n",
      "[CV] min_samples_leaf=60, max_depth=None, n_estimators=90 ............\n",
      "[CV]  min_samples_leaf=60, max_depth=None, n_estimators=80, score=0.903792, total=  49.6s\n",
      "[CV] min_samples_leaf=60, max_depth=None, n_estimators=90 ............\n",
      "[CV]  min_samples_leaf=60, max_depth=None, n_estimators=80, score=0.896029, total=  50.8s\n",
      "[CV] min_samples_leaf=60, max_depth=None, n_estimators=90 ............\n",
      "[CV]  min_samples_leaf=50, max_depth=None, n_estimators=90, score=0.905191, total= 1.0min\n",
      "[CV] min_samples_leaf=60, max_depth=None, n_estimators=90 ............\n",
      "[CV]  min_samples_leaf=60, max_depth=None, n_estimators=80, score=0.907639, total=  52.8s\n",
      "[CV] min_samples_leaf=60, max_depth=None, n_estimators=90 ............\n",
      "[CV]  min_samples_leaf=50, max_depth=None, n_estimators=90, score=0.897970, total=  59.6s\n",
      "[CV] min_samples_leaf=70, max_depth=None, n_estimators=80 ............\n",
      "[CV]  min_samples_leaf=60, max_depth=None, n_estimators=80, score=0.906009, total=  52.7s\n",
      "[CV] min_samples_leaf=70, max_depth=None, n_estimators=80 ............\n",
      "[CV]  min_samples_leaf=60, max_depth=None, n_estimators=80, score=0.896829, total=  53.6s\n",
      "[CV] min_samples_leaf=70, max_depth=None, n_estimators=80 ............\n",
      "[CV]  min_samples_leaf=60, max_depth=None, n_estimators=90, score=0.905370, total=  59.9s\n",
      "[CV] min_samples_leaf=70, max_depth=None, n_estimators=80 ............\n",
      "[CV]  min_samples_leaf=60, max_depth=None, n_estimators=90, score=0.898961, total= 1.1min\n",
      "[CV] min_samples_leaf=70, max_depth=None, n_estimators=80 ............\n",
      "[CV]  min_samples_leaf=70, max_depth=None, n_estimators=80, score=0.905266, total= 1.0min\n",
      "[CV] min_samples_leaf=70, max_depth=None, n_estimators=90 ............\n",
      "[CV]  min_samples_leaf=70, max_depth=None, n_estimators=80, score=0.898079, total=  60.0s\n",
      "[CV] min_samples_leaf=70, max_depth=None, n_estimators=90 ............\n",
      "[CV]  min_samples_leaf=60, max_depth=None, n_estimators=90, score=0.912732, total= 1.2min\n",
      "[CV] min_samples_leaf=70, max_depth=None, n_estimators=90 ............\n",
      "[CV]  min_samples_leaf=60, max_depth=None, n_estimators=90, score=0.906949, total= 1.2min\n",
      "[CV]  min_samples_leaf=70, max_depth=None, n_estimators=80, score=0.911563, total= 1.0min\n",
      "[CV] min_samples_leaf=70, max_depth=None, n_estimators=90 ............\n",
      "[CV]  min_samples_leaf=60, max_depth=None, n_estimators=90, score=0.898960, total= 1.2min\n",
      "[CV] min_samples_leaf=70, max_depth=None, n_estimators=90 ............\n",
      "[CV]  min_samples_leaf=70, max_depth=None, n_estimators=80, score=0.905879, total=  58.2s\n",
      "[CV] min_samples_leaf=80, max_depth=None, n_estimators=80 ............\n",
      "[CV] min_samples_leaf=80, max_depth=None, n_estimators=80 ............\n",
      "[CV]  min_samples_leaf=70, max_depth=None, n_estimators=80, score=0.898230, total=  52.1s\n",
      "[CV] min_samples_leaf=80, max_depth=None, n_estimators=80 ............\n",
      "[CV]  min_samples_leaf=70, max_depth=None, n_estimators=90, score=0.910578, total=  58.4s\n",
      "[CV] min_samples_leaf=80, max_depth=None, n_estimators=80 ............\n",
      "[CV]  min_samples_leaf=70, max_depth=None, n_estimators=90, score=0.899057, total=  57.4s\n",
      "[CV] min_samples_leaf=80, max_depth=None, n_estimators=80 ............\n",
      "[CV]  min_samples_leaf=80, max_depth=None, n_estimators=80, score=0.908143, total=  52.7s\n",
      "[CV] min_samples_leaf=80, max_depth=None, n_estimators=90 ............\n",
      "[CV]  min_samples_leaf=70, max_depth=None, n_estimators=90, score=0.912883, total=  58.7s\n",
      "[CV]  min_samples_leaf=80, max_depth=None, n_estimators=80, score=0.897597, total=  52.6s\n",
      "[CV] min_samples_leaf=80, max_depth=None, n_estimators=90 ............\n",
      "[CV]  min_samples_leaf=70, max_depth=None, n_estimators=90, score=0.899029, total=  57.9s\n",
      "[CV] min_samples_leaf=80, max_depth=None, n_estimators=90 ............\n",
      "[CV]  min_samples_leaf=70, max_depth=None, n_estimators=90, score=0.905880, total=  59.2s\n",
      "[CV] min_samples_leaf=80, max_depth=None, n_estimators=90 ............\n",
      "[CV] min_samples_leaf=80, max_depth=None, n_estimators=90 ............\n",
      "[CV]  min_samples_leaf=80, max_depth=None, n_estimators=80, score=0.911582, total=  48.0s\n",
      "[CV] min_samples_leaf=90, max_depth=None, n_estimators=80 ............\n",
      "[CV]  min_samples_leaf=80, max_depth=None, n_estimators=80, score=0.901634, total=  47.1s\n",
      "[CV] min_samples_leaf=90, max_depth=None, n_estimators=80 ............\n",
      "[CV]  min_samples_leaf=80, max_depth=None, n_estimators=80, score=0.898659, total=  47.5s\n",
      "[CV] min_samples_leaf=90, max_depth=None, n_estimators=80 ............\n",
      "[CV]  min_samples_leaf=80, max_depth=None, n_estimators=90, score=0.909754, total=  52.7s\n",
      "[CV] min_samples_leaf=90, max_depth=None, n_estimators=80 ............\n",
      "[CV]  min_samples_leaf=80, max_depth=None, n_estimators=90, score=0.898321, total=  52.4s\n",
      "[CV] min_samples_leaf=90, max_depth=None, n_estimators=80 ............\n",
      "[CV]  min_samples_leaf=80, max_depth=None, n_estimators=90, score=0.910012, total=  54.8s\n",
      "[CV] min_samples_leaf=90, max_depth=None, n_estimators=90 ............\n",
      "[CV]  min_samples_leaf=80, max_depth=None, n_estimators=90, score=0.902328, total=  56.5s\n",
      "[CV]  min_samples_leaf=80, max_depth=None, n_estimators=90, score=0.898778, total=  55.1s\n",
      "[CV] min_samples_leaf=90, max_depth=None, n_estimators=90 ............\n",
      "[CV] min_samples_leaf=90, max_depth=None, n_estimators=90 ............\n",
      "[CV]  min_samples_leaf=90, max_depth=None, n_estimators=80, score=0.903755, total=  42.7s\n",
      "[CV] min_samples_leaf=90, max_depth=None, n_estimators=90 ............\n",
      "[CV]  min_samples_leaf=90, max_depth=None, n_estimators=80, score=0.893460, total=  42.9s\n",
      "[CV] min_samples_leaf=90, max_depth=None, n_estimators=90 ............\n",
      "[CV]  min_samples_leaf=90, max_depth=None, n_estimators=80, score=0.909500, total=  44.2s\n",
      "[CV] min_samples_leaf=50, max_depth=2, n_estimators=80 ...............\n",
      "[CV]  min_samples_leaf=90, max_depth=None, n_estimators=80, score=0.901512, total=  44.2s\n",
      "[CV] min_samples_leaf=50, max_depth=2, n_estimators=80 ...............\n",
      "[CV]  min_samples_leaf=90, max_depth=None, n_estimators=80, score=0.894830, total=  43.8s\n",
      "[CV] min_samples_leaf=50, max_depth=2, n_estimators=80 ...............\n",
      "[CV]  min_samples_leaf=50, max_depth=2, n_estimators=80, score=0.871108, total=  10.6s\n",
      "[CV] min_samples_leaf=50, max_depth=2, n_estimators=80 ...............\n",
      "[CV]  min_samples_leaf=90, max_depth=None, n_estimators=90, score=0.906251, total=  47.7s\n",
      "[CV] min_samples_leaf=50, max_depth=2, n_estimators=80 ...............\n",
      "[CV]  min_samples_leaf=50, max_depth=2, n_estimators=80, score=0.865103, total=  11.4s\n",
      "[CV]  min_samples_leaf=90, max_depth=None, n_estimators=90, score=0.894237, total=  48.1s\n",
      "[CV] min_samples_leaf=50, max_depth=2, n_estimators=90 ...............\n",
      "[CV]  min_samples_leaf=50, max_depth=2, n_estimators=80, score=0.872503, total=  11.8s\n",
      "[CV] min_samples_leaf=50, max_depth=2, n_estimators=90 ...............\n",
      "[CV]  min_samples_leaf=90, max_depth=None, n_estimators=90, score=0.909133, total=  49.4s\n",
      "[CV] min_samples_leaf=50, max_depth=2, n_estimators=90 ...............\n",
      "[CV]  min_samples_leaf=50, max_depth=2, n_estimators=80, score=0.880388, total=  11.3s\n",
      "[CV] min_samples_leaf=50, max_depth=2, n_estimators=90 ...............\n",
      "[CV] min_samples_leaf=50, max_depth=2, n_estimators=90 ...............\n",
      "[CV]  min_samples_leaf=50, max_depth=2, n_estimators=80, score=0.864897, total=  10.1s\n",
      "[CV] min_samples_leaf=60, max_depth=2, n_estimators=80 ...............\n",
      "[CV]  min_samples_leaf=50, max_depth=2, n_estimators=90, score=0.884698, total=  11.8s\n",
      "[CV] min_samples_leaf=60, max_depth=2, n_estimators=80 ...............\n",
      "[CV]  min_samples_leaf=50, max_depth=2, n_estimators=90, score=0.875299, total=  12.5s\n",
      "[CV] min_samples_leaf=60, max_depth=2, n_estimators=80 ...............\n",
      "[CV]  min_samples_leaf=90, max_depth=None, n_estimators=90, score=0.903864, total=  47.9s\n"
     ]
    },
    {
     "name": "stderr",
     "output_type": "stream",
     "text": [
      "[Parallel(n_jobs=-1)]: Done  56 tasks      | elapsed:  6.5min\n"
     ]
    },
    {
     "name": "stdout",
     "output_type": "stream",
     "text": [
      "[CV] min_samples_leaf=60, max_depth=2, n_estimators=80 ...............\n",
      "[CV]  min_samples_leaf=50, max_depth=2, n_estimators=90, score=0.888650, total=  13.9s\n",
      "[CV] min_samples_leaf=60, max_depth=2, n_estimators=80 ...............\n",
      "[CV]  min_samples_leaf=50, max_depth=2, n_estimators=90, score=0.881583, total=  15.6s\n",
      "[CV] min_samples_leaf=60, max_depth=2, n_estimators=90 ...............\n",
      "[CV]  min_samples_leaf=50, max_depth=2, n_estimators=90, score=0.872572, total=  15.7s\n",
      "[CV]  min_samples_leaf=60, max_depth=2, n_estimators=80, score=0.878244, total=  13.6s\n",
      "[CV] min_samples_leaf=60, max_depth=2, n_estimators=90 ...............\n",
      "[CV]  min_samples_leaf=90, max_depth=None, n_estimators=90, score=0.894899, total=  47.9s\n",
      "[CV] min_samples_leaf=60, max_depth=2, n_estimators=90 ...............\n",
      "[CV]  min_samples_leaf=60, max_depth=2, n_estimators=80, score=0.869451, total=  12.6s\n",
      "[CV] min_samples_leaf=60, max_depth=2, n_estimators=90 ...............\n",
      "[CV]  min_samples_leaf=60, max_depth=2, n_estimators=80, score=0.881740, total=  12.2s\n",
      "[CV] min_samples_leaf=60, max_depth=2, n_estimators=90 ...............\n",
      "[CV]  min_samples_leaf=60, max_depth=2, n_estimators=80, score=0.880509, total=  11.6s\n",
      "[CV] min_samples_leaf=70, max_depth=2, n_estimators=80 ...............\n",
      "[CV]  min_samples_leaf=60, max_depth=2, n_estimators=80, score=0.862064, total=  10.8s\n",
      "[CV] min_samples_leaf=70, max_depth=2, n_estimators=80 ...............\n",
      "[CV]  min_samples_leaf=60, max_depth=2, n_estimators=90, score=0.884882, total=  11.2s\n",
      "[CV] min_samples_leaf=70, max_depth=2, n_estimators=80 ...............\n",
      "[CV]  min_samples_leaf=60, max_depth=2, n_estimators=90, score=0.876654, total=  10.9s\n",
      "[CV] min_samples_leaf=70, max_depth=2, n_estimators=80 ...............\n",
      "[CV]  min_samples_leaf=60, max_depth=2, n_estimators=90, score=0.885187, total=  10.8s\n",
      "[CV] min_samples_leaf=70, max_depth=2, n_estimators=80 ...............\n",
      "[CV]  min_samples_leaf=60, max_depth=2, n_estimators=90, score=0.882807, total=  10.4s\n",
      "[CV] min_samples_leaf=70, max_depth=2, n_estimators=90 ...............\n",
      "[CV]  min_samples_leaf=60, max_depth=2, n_estimators=90, score=0.878145, total=  10.6s\n",
      "[CV] min_samples_leaf=70, max_depth=2, n_estimators=90 ...............\n",
      "[CV]  min_samples_leaf=70, max_depth=2, n_estimators=80, score=0.876165, total=   9.8s\n",
      "[CV] min_samples_leaf=70, max_depth=2, n_estimators=90 ...............\n",
      "[CV]  min_samples_leaf=70, max_depth=2, n_estimators=80, score=0.869360, total=   9.6s\n",
      "[CV] min_samples_leaf=70, max_depth=2, n_estimators=90 ...............\n",
      "[CV]  min_samples_leaf=70, max_depth=2, n_estimators=80, score=0.886892, total=   9.2s\n",
      "[CV] min_samples_leaf=70, max_depth=2, n_estimators=90 ...............\n",
      "[CV]  min_samples_leaf=70, max_depth=2, n_estimators=80, score=0.866324, total=   9.5s\n",
      "[CV] min_samples_leaf=80, max_depth=2, n_estimators=80 ...............\n",
      "[CV]  min_samples_leaf=70, max_depth=2, n_estimators=80, score=0.870058, total=   9.4s\n",
      "[CV] min_samples_leaf=80, max_depth=2, n_estimators=80 ...............\n",
      "[CV]  min_samples_leaf=70, max_depth=2, n_estimators=90, score=0.885941, total=   9.8s\n",
      "[CV] min_samples_leaf=80, max_depth=2, n_estimators=80 ...............\n",
      "[CV]  min_samples_leaf=70, max_depth=2, n_estimators=90, score=0.867734, total=   9.7s\n",
      "[CV] min_samples_leaf=80, max_depth=2, n_estimators=80 ...............\n",
      "[CV]  min_samples_leaf=70, max_depth=2, n_estimators=90, score=0.879665, total=   9.7s\n",
      "[CV] min_samples_leaf=80, max_depth=2, n_estimators=80 ...............\n",
      "[CV]  min_samples_leaf=70, max_depth=2, n_estimators=90, score=0.876645, total=   9.5s\n",
      "[CV] min_samples_leaf=80, max_depth=2, n_estimators=90 ...............\n",
      "[CV]  min_samples_leaf=70, max_depth=2, n_estimators=90, score=0.877641, total=   9.8s\n",
      "[CV] min_samples_leaf=80, max_depth=2, n_estimators=90 ...............\n",
      "[CV]  min_samples_leaf=80, max_depth=2, n_estimators=80, score=0.875803, total=   9.1s\n",
      "[CV] min_samples_leaf=80, max_depth=2, n_estimators=90 ...............\n",
      "[CV]  min_samples_leaf=80, max_depth=2, n_estimators=80, score=0.876531, total=   9.5s\n",
      "[CV] min_samples_leaf=80, max_depth=2, n_estimators=90 ...............\n",
      "[CV]  min_samples_leaf=80, max_depth=2, n_estimators=80, score=0.867115, total=   9.7s\n",
      "[CV] min_samples_leaf=80, max_depth=2, n_estimators=90 ...............\n",
      "[CV]  min_samples_leaf=80, max_depth=2, n_estimators=80, score=0.867239, total=   9.6s\n",
      "[CV] min_samples_leaf=90, max_depth=2, n_estimators=80 ...............\n",
      "[CV]  min_samples_leaf=80, max_depth=2, n_estimators=80, score=0.876925, total=   9.4s\n",
      "[CV] min_samples_leaf=90, max_depth=2, n_estimators=80 ...............\n",
      "[CV]  min_samples_leaf=80, max_depth=2, n_estimators=90, score=0.868347, total=   9.6s\n",
      "[CV] min_samples_leaf=90, max_depth=2, n_estimators=80 ...............\n",
      "[CV]  min_samples_leaf=80, max_depth=2, n_estimators=90, score=0.870884, total=   9.5s\n",
      "[CV] min_samples_leaf=90, max_depth=2, n_estimators=80 ...............\n",
      "[CV]  min_samples_leaf=80, max_depth=2, n_estimators=90, score=0.873456, total=   9.4s\n",
      "[CV] min_samples_leaf=90, max_depth=2, n_estimators=80 ...............\n",
      "[CV]  min_samples_leaf=80, max_depth=2, n_estimators=90, score=0.869561, total=   9.1s\n",
      "[CV] min_samples_leaf=90, max_depth=2, n_estimators=90 ...............\n",
      "[CV]  min_samples_leaf=80, max_depth=2, n_estimators=90, score=0.866666, total=   9.3s\n",
      "[CV] min_samples_leaf=90, max_depth=2, n_estimators=90 ...............\n",
      "[CV]  min_samples_leaf=90, max_depth=2, n_estimators=80, score=0.885620, total=   8.7s\n",
      "[CV] min_samples_leaf=90, max_depth=2, n_estimators=90 ...............\n",
      "[CV]  min_samples_leaf=90, max_depth=2, n_estimators=80, score=0.865589, total=   8.6s\n",
      "[CV]  min_samples_leaf=90, max_depth=2, n_estimators=80, score=0.868165, total=   8.4s\n",
      "[CV] min_samples_leaf=90, max_depth=2, n_estimators=90 ...............\n",
      "[CV]  min_samples_leaf=90, max_depth=2, n_estimators=80, score=0.875664, total=   8.5s\n",
      "[CV] min_samples_leaf=90, max_depth=2, n_estimators=90 ...............\n",
      "[CV]  min_samples_leaf=90, max_depth=2, n_estimators=80, score=0.872400, total=   8.3s\n",
      "[CV] min_samples_leaf=50, max_depth=5, n_estimators=80 ...............\n",
      "[CV] min_samples_leaf=50, max_depth=5, n_estimators=80 ...............\n",
      "[CV]  min_samples_leaf=90, max_depth=2, n_estimators=90, score=0.871241, total=   9.0s\n",
      "[CV] min_samples_leaf=50, max_depth=5, n_estimators=80 ...............\n",
      "[CV]  min_samples_leaf=90, max_depth=2, n_estimators=90, score=0.879748, total=   8.9s\n",
      "[CV] min_samples_leaf=50, max_depth=5, n_estimators=80 ...............\n",
      "[CV]  min_samples_leaf=90, max_depth=2, n_estimators=90, score=0.890727, total=   9.1s\n",
      "[CV] min_samples_leaf=50, max_depth=5, n_estimators=80 ...............\n",
      "[CV]  min_samples_leaf=90, max_depth=2, n_estimators=90, score=0.883880, total=   9.8s\n",
      "[CV] min_samples_leaf=50, max_depth=5, n_estimators=90 ...............\n",
      "[CV]  min_samples_leaf=90, max_depth=2, n_estimators=90, score=0.876032, total=  10.2s\n",
      "[CV] min_samples_leaf=50, max_depth=5, n_estimators=90 ...............\n",
      "[CV] min_samples_leaf=50, max_depth=5, n_estimators=90 ...............\n",
      "[CV]  min_samples_leaf=50, max_depth=5, n_estimators=80, score=0.896491, total=  18.8s\n",
      "[CV] min_samples_leaf=50, max_depth=5, n_estimators=90 ...............\n",
      "[CV]  min_samples_leaf=50, max_depth=5, n_estimators=80, score=0.890286, total=  20.1s\n",
      "[CV] min_samples_leaf=50, max_depth=5, n_estimators=90 ...............\n",
      "[CV]  min_samples_leaf=50, max_depth=5, n_estimators=80, score=0.899375, total=  20.2s\n",
      "[CV] min_samples_leaf=60, max_depth=5, n_estimators=80 ...............\n",
      "[CV]  min_samples_leaf=50, max_depth=5, n_estimators=80, score=0.890180, total=  20.6s\n",
      "[CV] min_samples_leaf=60, max_depth=5, n_estimators=80 ...............\n",
      "[CV]  min_samples_leaf=50, max_depth=5, n_estimators=80, score=0.893258, total=  20.7s\n",
      "[CV] min_samples_leaf=60, max_depth=5, n_estimators=80 ...............\n",
      "[CV]  min_samples_leaf=50, max_depth=5, n_estimators=90, score=0.895399, total=  22.8s\n",
      "[CV] min_samples_leaf=60, max_depth=5, n_estimators=80 ...............\n",
      "[CV]  min_samples_leaf=50, max_depth=5, n_estimators=90, score=0.894367, total=  24.0s\n",
      "[CV] min_samples_leaf=60, max_depth=5, n_estimators=80 ...............\n",
      "[CV]  min_samples_leaf=50, max_depth=5, n_estimators=90, score=0.897475, total=  23.9s\n",
      "[CV] min_samples_leaf=60, max_depth=5, n_estimators=90 ...............\n",
      "[CV]  min_samples_leaf=50, max_depth=5, n_estimators=90, score=0.893317, total=  21.6s\n",
      "[CV] min_samples_leaf=60, max_depth=5, n_estimators=90 ...............\n",
      "[CV]  min_samples_leaf=50, max_depth=5, n_estimators=90, score=0.897998, total=  22.0s\n",
      "[CV]  min_samples_leaf=60, max_depth=5, n_estimators=80, score=0.891715, total=  20.3s\n",
      "[CV] min_samples_leaf=60, max_depth=5, n_estimators=90 ...............\n",
      "[CV] min_samples_leaf=60, max_depth=5, n_estimators=90 ...............\n",
      "[CV]  min_samples_leaf=60, max_depth=5, n_estimators=80, score=0.891585, total=  21.1s\n",
      "[CV] min_samples_leaf=60, max_depth=5, n_estimators=90 ...............\n",
      "[CV]  min_samples_leaf=60, max_depth=5, n_estimators=80, score=0.902095, total=  20.0s\n",
      "[CV] min_samples_leaf=70, max_depth=5, n_estimators=80 ...............\n",
      "[CV]  min_samples_leaf=60, max_depth=5, n_estimators=80, score=0.893759, total=  19.8s\n",
      "[CV] min_samples_leaf=70, max_depth=5, n_estimators=80 ...............\n",
      "[CV]  min_samples_leaf=60, max_depth=5, n_estimators=80, score=0.892909, total=  20.4s\n",
      "[CV] min_samples_leaf=70, max_depth=5, n_estimators=80 ...............\n",
      "[CV]  min_samples_leaf=60, max_depth=5, n_estimators=90, score=0.902482, total=  22.3s\n",
      "[CV] min_samples_leaf=70, max_depth=5, n_estimators=80 ...............\n",
      "[CV]  min_samples_leaf=60, max_depth=5, n_estimators=90, score=0.889804, total=  22.3s\n",
      "[CV] min_samples_leaf=70, max_depth=5, n_estimators=80 ...............\n",
      "[CV]  min_samples_leaf=60, max_depth=5, n_estimators=90, score=0.900834, total=  23.4s\n",
      "[CV] min_samples_leaf=70, max_depth=5, n_estimators=90 ...............\n",
      "[CV]  min_samples_leaf=60, max_depth=5, n_estimators=90, score=0.896394, total=  23.3s\n",
      "[CV] min_samples_leaf=70, max_depth=5, n_estimators=90 ...............\n",
      "[CV]  min_samples_leaf=70, max_depth=5, n_estimators=80, score=0.897386, total=  21.1s\n",
      "[CV]  min_samples_leaf=60, max_depth=5, n_estimators=90, score=0.896616, total=  23.1s\n",
      "[CV] min_samples_leaf=70, max_depth=5, n_estimators=90 ...............\n",
      "[CV] min_samples_leaf=70, max_depth=5, n_estimators=90 ...............\n",
      "[CV]  min_samples_leaf=70, max_depth=5, n_estimators=80, score=0.893369, total=  21.0s\n",
      "[CV] min_samples_leaf=70, max_depth=5, n_estimators=90 ...............\n",
      "[CV]  min_samples_leaf=70, max_depth=5, n_estimators=80, score=0.896994, total=  20.3s\n",
      "[CV] min_samples_leaf=80, max_depth=5, n_estimators=80 ...............\n",
      "[CV]  min_samples_leaf=70, max_depth=5, n_estimators=80, score=0.892548, total=  18.8s\n",
      "[CV] min_samples_leaf=80, max_depth=5, n_estimators=80 ...............\n",
      "[CV]  min_samples_leaf=70, max_depth=5, n_estimators=80, score=0.896902, total=  17.8s\n",
      "[CV] min_samples_leaf=80, max_depth=5, n_estimators=80 ...............\n",
      "[CV]  min_samples_leaf=70, max_depth=5, n_estimators=90, score=0.901610, total=  20.9s\n",
      "[CV] min_samples_leaf=80, max_depth=5, n_estimators=80 ...............\n",
      "[CV]  min_samples_leaf=70, max_depth=5, n_estimators=90, score=0.892537, total=  20.5s\n",
      "[CV] min_samples_leaf=80, max_depth=5, n_estimators=80 ...............\n",
      "[CV]  min_samples_leaf=70, max_depth=5, n_estimators=90, score=0.901859, total=  20.5s\n",
      "[CV] min_samples_leaf=80, max_depth=5, n_estimators=90 ...............\n",
      "[CV]  min_samples_leaf=70, max_depth=5, n_estimators=90, score=0.899625, total=  21.1s\n",
      "[CV] min_samples_leaf=80, max_depth=5, n_estimators=90 ...............\n",
      "[CV]  min_samples_leaf=80, max_depth=5, n_estimators=80, score=0.900031, total=  19.5s\n",
      "[CV]  min_samples_leaf=70, max_depth=5, n_estimators=90, score=0.883550, total=  21.4s\n",
      "[CV] min_samples_leaf=80, max_depth=5, n_estimators=90 ...............\n",
      "[CV]  min_samples_leaf=80, max_depth=5, n_estimators=80, score=0.883345, total=  19.4s\n",
      "[CV] min_samples_leaf=80, max_depth=5, n_estimators=90 ...............\n",
      "[CV] min_samples_leaf=80, max_depth=5, n_estimators=90 ...............\n",
      "[CV]  min_samples_leaf=80, max_depth=5, n_estimators=80, score=0.902914, total=  19.3s\n",
      "[CV] min_samples_leaf=90, max_depth=5, n_estimators=80 ...............\n",
      "[CV]  min_samples_leaf=80, max_depth=5, n_estimators=80, score=0.890998, total=  18.7s\n",
      "[CV] min_samples_leaf=90, max_depth=5, n_estimators=80 ...............\n",
      "[CV]  min_samples_leaf=80, max_depth=5, n_estimators=80, score=0.889858, total=  19.6s\n",
      "[CV] min_samples_leaf=90, max_depth=5, n_estimators=80 ...............\n",
      "[CV]  min_samples_leaf=80, max_depth=5, n_estimators=90, score=0.898346, total=  22.1s\n",
      "[CV] min_samples_leaf=90, max_depth=5, n_estimators=80 ...............\n",
      "[CV]  min_samples_leaf=80, max_depth=5, n_estimators=90, score=0.890866, total=  22.9s\n",
      "[CV] min_samples_leaf=90, max_depth=5, n_estimators=80 ...............\n",
      "[CV]  min_samples_leaf=80, max_depth=5, n_estimators=90, score=0.893422, total=  22.5s\n",
      "[CV] min_samples_leaf=90, max_depth=5, n_estimators=90 ...............\n",
      "[CV]  min_samples_leaf=80, max_depth=5, n_estimators=90, score=0.895593, total=  22.8s\n",
      "[CV] min_samples_leaf=90, max_depth=5, n_estimators=90 ...............\n",
      "[CV]  min_samples_leaf=80, max_depth=5, n_estimators=90, score=0.886340, total=  22.8s\n",
      "[CV] min_samples_leaf=90, max_depth=5, n_estimators=90 ...............\n",
      "[CV]  min_samples_leaf=90, max_depth=5, n_estimators=80, score=0.897462, total=  20.4s\n",
      "[CV] min_samples_leaf=90, max_depth=5, n_estimators=90 ...............\n",
      "[CV]  min_samples_leaf=90, max_depth=5, n_estimators=80, score=0.874002, total=  18.5s\n",
      "[CV] min_samples_leaf=90, max_depth=5, n_estimators=90 ...............\n",
      "[CV]  min_samples_leaf=90, max_depth=5, n_estimators=80, score=0.895158, total=  18.2s\n",
      "[CV] min_samples_leaf=50, max_depth=10, n_estimators=80 ..............\n",
      "[CV]  min_samples_leaf=90, max_depth=5, n_estimators=80, score=0.883691, total=  18.1s\n",
      "[CV] min_samples_leaf=50, max_depth=10, n_estimators=80 ..............\n",
      "[CV]  min_samples_leaf=90, max_depth=5, n_estimators=80, score=0.884153, total=  18.3s\n",
      "[CV] min_samples_leaf=50, max_depth=10, n_estimators=80 ..............\n",
      "[CV]  min_samples_leaf=90, max_depth=5, n_estimators=90, score=0.887273, total=  20.8s\n",
      "[CV] min_samples_leaf=50, max_depth=10, n_estimators=80 ..............\n"
     ]
    },
    {
     "name": "stderr",
     "output_type": "stream",
     "text": [
      "[Parallel(n_jobs=-1)]: Done 146 tasks      | elapsed: 10.0min\n"
     ]
    },
    {
     "name": "stdout",
     "output_type": "stream",
     "text": [
      "[CV]  min_samples_leaf=90, max_depth=5, n_estimators=90, score=0.884920, total=  21.6s\n",
      "[CV] min_samples_leaf=50, max_depth=10, n_estimators=80 ..............\n",
      "[CV]  min_samples_leaf=90, max_depth=5, n_estimators=90, score=0.887111, total=  21.8s\n",
      "[CV] min_samples_leaf=50, max_depth=10, n_estimators=90 ..............\n",
      "[CV]  min_samples_leaf=90, max_depth=5, n_estimators=90, score=0.891011, total=  21.4s\n",
      "[CV] min_samples_leaf=50, max_depth=10, n_estimators=90 ..............\n",
      "[CV]  min_samples_leaf=90, max_depth=5, n_estimators=90, score=0.886272, total=  21.5s\n",
      "[CV] min_samples_leaf=50, max_depth=10, n_estimators=90 ..............\n",
      "[CV]  min_samples_leaf=50, max_depth=10, n_estimators=80, score=0.903256, total=  32.2s\n",
      "[CV] min_samples_leaf=50, max_depth=10, n_estimators=90 ..............\n",
      "[CV]  min_samples_leaf=50, max_depth=10, n_estimators=80, score=0.896181, total=  32.5s\n",
      "[CV] min_samples_leaf=50, max_depth=10, n_estimators=90 ..............\n",
      "[CV]  min_samples_leaf=50, max_depth=10, n_estimators=80, score=0.899464, total=  32.6s\n",
      "[CV] min_samples_leaf=60, max_depth=10, n_estimators=80 ..............\n",
      "[CV]  min_samples_leaf=50, max_depth=10, n_estimators=80, score=0.903189, total=  33.7s\n",
      "[CV] min_samples_leaf=60, max_depth=10, n_estimators=80 ..............\n",
      "[CV]  min_samples_leaf=50, max_depth=10, n_estimators=80, score=0.891821, total=  33.1s\n",
      "[CV] min_samples_leaf=60, max_depth=10, n_estimators=80 ..............\n",
      "[CV]  min_samples_leaf=50, max_depth=10, n_estimators=90, score=0.907369, total=  37.1s\n",
      "[CV] min_samples_leaf=60, max_depth=10, n_estimators=80 ..............\n",
      "[CV]  min_samples_leaf=50, max_depth=10, n_estimators=90, score=0.892337, total=  36.5s\n",
      "[CV] min_samples_leaf=60, max_depth=10, n_estimators=80 ..............\n",
      "[CV]  min_samples_leaf=50, max_depth=10, n_estimators=90, score=0.905833, total=  36.6s\n",
      "[CV] min_samples_leaf=60, max_depth=10, n_estimators=90 ..............\n",
      "[CV]  min_samples_leaf=50, max_depth=10, n_estimators=90, score=0.903433, total=  34.5s\n",
      "[CV] min_samples_leaf=60, max_depth=10, n_estimators=90 ..............\n",
      "[CV]  min_samples_leaf=60, max_depth=10, n_estimators=80, score=0.904246, total=  30.6s\n",
      "[CV]  min_samples_leaf=50, max_depth=10, n_estimators=90, score=0.894964, total=  33.7s\n",
      "[CV] min_samples_leaf=60, max_depth=10, n_estimators=90 ..............\n",
      "[CV] min_samples_leaf=60, max_depth=10, n_estimators=90 ..............\n",
      "[CV]  min_samples_leaf=60, max_depth=10, n_estimators=80, score=0.896303, total=  29.5s\n",
      "[CV] min_samples_leaf=60, max_depth=10, n_estimators=90 ..............\n",
      "[CV]  min_samples_leaf=60, max_depth=10, n_estimators=80, score=0.908222, total=  30.0s\n",
      "[CV] min_samples_leaf=70, max_depth=10, n_estimators=80 ..............\n",
      "[CV]  min_samples_leaf=60, max_depth=10, n_estimators=80, score=0.899353, total=  30.5s\n",
      "[CV] min_samples_leaf=70, max_depth=10, n_estimators=80 ..............\n",
      "[CV]  min_samples_leaf=60, max_depth=10, n_estimators=80, score=0.896114, total=  31.0s\n",
      "[CV] min_samples_leaf=70, max_depth=10, n_estimators=80 ..............\n",
      "[CV]  min_samples_leaf=60, max_depth=10, n_estimators=90, score=0.904439, total=  34.5s\n",
      "[CV] min_samples_leaf=70, max_depth=10, n_estimators=80 ..............\n",
      "[CV]  min_samples_leaf=60, max_depth=10, n_estimators=90, score=0.900057, total=  36.1s\n",
      "[CV] min_samples_leaf=70, max_depth=10, n_estimators=80 ..............\n",
      "[CV]  min_samples_leaf=60, max_depth=10, n_estimators=90, score=0.904322, total=  37.8s\n",
      "[CV] min_samples_leaf=70, max_depth=10, n_estimators=90 ..............\n",
      "[CV]  min_samples_leaf=60, max_depth=10, n_estimators=90, score=0.905677, total=  37.6s\n",
      "[CV] min_samples_leaf=70, max_depth=10, n_estimators=90 ..............\n",
      "[CV]  min_samples_leaf=70, max_depth=10, n_estimators=80, score=0.896446, total=  33.9s\n",
      "[CV] min_samples_leaf=70, max_depth=10, n_estimators=90 ..............\n",
      "[CV]  min_samples_leaf=60, max_depth=10, n_estimators=90, score=0.897595, total=  37.6s\n",
      "[CV] min_samples_leaf=70, max_depth=10, n_estimators=90 ..............\n",
      "[CV]  min_samples_leaf=70, max_depth=10, n_estimators=80, score=0.899156, total=  32.6s\n",
      "[CV] min_samples_leaf=70, max_depth=10, n_estimators=90 ..............\n",
      "[CV]  min_samples_leaf=70, max_depth=10, n_estimators=80, score=0.904365, total=  33.1s\n",
      "[CV] min_samples_leaf=80, max_depth=10, n_estimators=80 ..............\n",
      "[CV]  min_samples_leaf=70, max_depth=10, n_estimators=80, score=0.894508, total=  31.9s\n",
      "[CV] min_samples_leaf=80, max_depth=10, n_estimators=80 ..............\n",
      "[CV]  min_samples_leaf=70, max_depth=10, n_estimators=80, score=0.900993, total=  32.3s\n",
      "[CV] min_samples_leaf=80, max_depth=10, n_estimators=80 ..............\n",
      "[CV]  min_samples_leaf=70, max_depth=10, n_estimators=90, score=0.907656, total=  35.9s\n",
      "[CV] min_samples_leaf=80, max_depth=10, n_estimators=80 ..............\n",
      "[CV]  min_samples_leaf=70, max_depth=10, n_estimators=90, score=0.894244, total=  36.4s\n",
      "[CV] min_samples_leaf=80, max_depth=10, n_estimators=80 ..............\n",
      "[CV]  min_samples_leaf=70, max_depth=10, n_estimators=90, score=0.908999, total=  37.4s\n",
      "[CV] min_samples_leaf=80, max_depth=10, n_estimators=90 ..............\n",
      "[CV]  min_samples_leaf=70, max_depth=10, n_estimators=90, score=0.897425, total=  37.1s\n",
      "[CV] min_samples_leaf=80, max_depth=10, n_estimators=90 ..............\n",
      "[CV]  min_samples_leaf=80, max_depth=10, n_estimators=80, score=0.905854, total=  33.4s\n",
      "[CV] min_samples_leaf=80, max_depth=10, n_estimators=90 ..............\n",
      "[CV]  min_samples_leaf=70, max_depth=10, n_estimators=90, score=0.892964, total=  36.5s\n",
      "[CV] min_samples_leaf=80, max_depth=10, n_estimators=90 ..............\n",
      "[CV]  min_samples_leaf=80, max_depth=10, n_estimators=80, score=0.896348, total=  32.4s\n",
      "[CV] min_samples_leaf=80, max_depth=10, n_estimators=90 ..............\n",
      "[CV]  min_samples_leaf=80, max_depth=10, n_estimators=80, score=0.901011, total=  34.0s\n",
      "[CV] min_samples_leaf=90, max_depth=10, n_estimators=80 ..............\n",
      "[CV]  min_samples_leaf=80, max_depth=10, n_estimators=80, score=0.894442, total=  35.8s\n",
      "[CV] min_samples_leaf=90, max_depth=10, n_estimators=80 ..............\n",
      "[CV]  min_samples_leaf=80, max_depth=10, n_estimators=80, score=0.893652, total=  34.6s\n",
      "[CV] min_samples_leaf=90, max_depth=10, n_estimators=80 ..............\n",
      "[CV]  min_samples_leaf=80, max_depth=10, n_estimators=90, score=0.899762, total=  38.2s\n",
      "[CV] min_samples_leaf=90, max_depth=10, n_estimators=80 ..............\n",
      "[CV]  min_samples_leaf=80, max_depth=10, n_estimators=90, score=0.901034, total=  38.2s\n",
      "[CV] min_samples_leaf=90, max_depth=10, n_estimators=80 ..............\n",
      "[CV]  min_samples_leaf=80, max_depth=10, n_estimators=90, score=0.905534, total=  38.2s\n",
      "[CV] min_samples_leaf=90, max_depth=10, n_estimators=90 ..............\n",
      "[CV]  min_samples_leaf=80, max_depth=10, n_estimators=90, score=0.899171, total=  38.3s\n",
      "[CV] min_samples_leaf=90, max_depth=10, n_estimators=90 ..............\n",
      "[CV]  min_samples_leaf=80, max_depth=10, n_estimators=90, score=0.898734, total=  36.3s\n",
      "[CV] min_samples_leaf=90, max_depth=10, n_estimators=90 ..............\n",
      "[CV]  min_samples_leaf=90, max_depth=10, n_estimators=80, score=0.900575, total=  29.2s\n",
      "[CV] min_samples_leaf=90, max_depth=10, n_estimators=90 ..............\n",
      "[CV]  min_samples_leaf=90, max_depth=10, n_estimators=80, score=0.893332, total=  29.3s\n",
      "[CV] min_samples_leaf=90, max_depth=10, n_estimators=90 ..............\n",
      "[CV]  min_samples_leaf=90, max_depth=10, n_estimators=80, score=0.904443, total=  29.5s\n",
      "[CV]  min_samples_leaf=90, max_depth=10, n_estimators=80, score=0.895053, total=  30.3s\n",
      "[CV]  min_samples_leaf=90, max_depth=10, n_estimators=80, score=0.892102, total=  30.3s\n",
      "[CV]  min_samples_leaf=90, max_depth=10, n_estimators=90, score=0.899572, total=  32.5s\n",
      "[CV]  min_samples_leaf=90, max_depth=10, n_estimators=90, score=0.898729, total=  32.2s\n",
      "[CV]  min_samples_leaf=90, max_depth=10, n_estimators=90, score=0.905577, total=  31.2s\n",
      "[CV]  min_samples_leaf=90, max_depth=10, n_estimators=90, score=0.900515, total=  29.0s\n",
      "[CV]  min_samples_leaf=90, max_depth=10, n_estimators=90, score=0.899474, total=  23.0s\n"
     ]
    },
    {
     "name": "stderr",
     "output_type": "stream",
     "text": [
      "[Parallel(n_jobs=-1)]: Done 200 out of 200 | elapsed: 13.8min finished\n"
     ]
    },
    {
     "data": {
      "text/plain": [
       "GridSearchCV(cv=5, error_score='raise',\n",
       "       estimator=RandomForestClassifier(bootstrap=True, class_weight=None, criterion='gini',\n",
       "            max_depth=None, max_features='auto', max_leaf_nodes=None,\n",
       "            min_impurity_split=1e-07, min_samples_leaf=1,\n",
       "            min_samples_split=2, min_weight_fraction_leaf=0.0,\n",
       "            n_estimators=10, n_jobs=1, oob_score=False, random_state=None,\n",
       "            verbose=0, warm_start=False),\n",
       "       fit_params={}, iid=True, n_jobs=-1,\n",
       "       param_grid={'min_samples_leaf': range(50, 100, 10), 'max_depth': [None, 2, 5, 10], 'n_estimators': range(80, 100, 10)},\n",
       "       pre_dispatch='2*n_jobs', refit=True, return_train_score=True,\n",
       "       scoring='roc_auc', verbose=5)"
      ]
     },
     "execution_count": 93,
     "metadata": {},
     "output_type": "execute_result"
    }
   ],
   "source": [
    "rf_clf5 = GridSearchCV(rf, param_grid=  param_grid, verbose = 5, scoring = 'roc_auc' ,cv = 5 , n_jobs = -1 )\n",
    "rf_clf5.fit(X5_tr , y_tr )"
   ]
  },
  {
   "cell_type": "code",
   "execution_count": 94,
   "metadata": {
    "collapsed": false,
    "deletable": true,
    "editable": true
   },
   "outputs": [
    {
     "data": {
      "text/plain": [
       "RandomForestClassifier(bootstrap=True, class_weight=None, criterion='gini',\n",
       "            max_depth=None, max_features='auto', max_leaf_nodes=None,\n",
       "            min_impurity_split=1e-07, min_samples_leaf=70,\n",
       "            min_samples_split=2, min_weight_fraction_leaf=0.0,\n",
       "            n_estimators=90, n_jobs=1, oob_score=False, random_state=None,\n",
       "            verbose=0, warm_start=False)"
      ]
     },
     "execution_count": 94,
     "metadata": {},
     "output_type": "execute_result"
    }
   ],
   "source": [
    "rf_clf5.best_estimator_"
   ]
  },
  {
   "cell_type": "code",
   "execution_count": 95,
   "metadata": {
    "collapsed": true,
    "deletable": true,
    "editable": true
   },
   "outputs": [],
   "source": [
    "\n",
    "M5 = RandomForestClassifier(bootstrap=True, class_weight=None, criterion='gini',\n",
    "            max_depth=None, max_features='auto', max_leaf_nodes=None,\n",
    "            min_impurity_split=1e-07, min_samples_leaf=70,\n",
    "            min_samples_split=2, min_weight_fraction_leaf=0.0,\n",
    "            n_estimators=90, n_jobs=1, oob_score=False, random_state=None,\n",
    "            verbose=0, warm_start=False)"
   ]
  },
  {
   "cell_type": "code",
   "execution_count": 96,
   "metadata": {
    "collapsed": true,
    "deletable": true,
    "editable": true
   },
   "outputs": [],
   "source": [
    "M5.fit(X5_tr , y_tr)\n",
    "y_pred5 = M5.predict_proba(X5_ts)[:,1]\n",
    "\n"
   ]
  },
  {
   "cell_type": "code",
   "execution_count": 97,
   "metadata": {
    "collapsed": true,
    "deletable": true,
    "editable": true
   },
   "outputs": [],
   "source": [
    "\n",
    "fpr5, tpr5, _ = roc_curve(y_ts ,y_pred5 )\n",
    "\n",
    "score5 = auc(fpr5, tpr5)"
   ]
  },
  {
   "cell_type": "code",
   "execution_count": 99,
   "metadata": {
    "collapsed": false,
    "deletable": true,
    "editable": true
   },
   "outputs": [
    {
     "data": {
      "image/png": "[encoded data removed]",
      "text/plain": [
       "<matplotlib.figure.Figure at 0x2882b31d0>"
      ]
     },
     "metadata": {},
     "output_type": "display_data"
    }
   ],
   "source": [
    "ROC_plotter( (fpr5, tpr5, score5), name = \"X5\") "
   ]
  },
  {
   "cell_type": "markdown",
   "metadata": {
    "deletable": true,
    "editable": true
   },
   "source": [
    "### Kaggle submissions\n",
    "\n",
    "Predicting y values based on the Kaggle test sets.."
   ]
  },
  {
   "cell_type": "code",
   "execution_count": 285,
   "metadata": {
    "collapsed": false,
    "deletable": true,
    "editable": true
   },
   "outputs": [
    {
     "name": "stdout",
     "output_type": "stream",
     "text": [
      "Time taken for X1 predictions:  716.4940731525421 seconds.\n"
     ]
    }
   ],
   "source": [
    "start = time.time()\n",
    "y_score1 = rf_clf1.fit(X1, y).predict(X1_test)\n",
    "\n",
    "\n",
    "\n",
    "# Get the end time and print how long the process took\n",
    "end = time.time()\n",
    "elapsed = end - start\n",
    "print (\"Time taken for X1 predictions: \", elapsed, \"seconds.\")"
   ]
  },
  {
   "cell_type": "code",
   "execution_count": 283,
   "metadata": {
    "collapsed": false,
    "deletable": true,
    "editable": true
   },
   "outputs": [
    {
     "name": "stdout",
     "output_type": "stream",
     "text": [
      "Time taken for X2 predictions:  667.0361881256104 seconds.\n"
     ]
    }
   ],
   "source": [
    "start =  time.time()\n",
    "y_score2 = rf_clf2.fit(X2, y).predict(X2_test)\n",
    "\n",
    "\n",
    "# Get the end time and print how long the process took\n",
    "end = time.time()\n",
    "elapsed = end - start\n",
    "print (\"Time taken for X2 predictions: \", elapsed, \"seconds.\")"
   ]
  },
  {
   "cell_type": "code",
   "execution_count": 281,
   "metadata": {
    "collapsed": false,
    "deletable": true,
    "editable": true
   },
   "outputs": [
    {
     "name": "stdout",
     "output_type": "stream",
     "text": [
      "Time taken for X3 predictions:  1659.5089130401611 seconds.\n"
     ]
    }
   ],
   "source": [
    "start =  time.time()\n",
    "y_score3 = rf_clf3.fit(X3, y).predict(X3_test)\n",
    "\n",
    "\n",
    "# Get the end time and print how long the process took\n",
    "end = time.time()\n",
    "elapsed = end - start\n",
    "print (\"Time taken for X3 predictions: \", elapsed, \"seconds.\")"
   ]
  },
  {
   "cell_type": "code",
   "execution_count": 282,
   "metadata": {
    "collapsed": false,
    "deletable": true,
    "editable": true
   },
   "outputs": [
    {
     "name": "stdout",
     "output_type": "stream",
     "text": [
      "Time taken for X4 predictions:  1646.3665499687195 seconds.\n"
     ]
    }
   ],
   "source": [
    "start = time.time()\n",
    "y_score4 = rf_clf4.fit(X4, y).predict(X4_test)\n",
    "\n",
    "\n",
    "# Get the end time and print how long the process took\n",
    "end = time.time()\n",
    "elapsed = end - start\n",
    "print (\"Time taken for X4 predictions: \", elapsed, \"seconds.\")"
   ]
  },
  {
   "cell_type": "code",
   "execution_count": 121,
   "metadata": {
    "collapsed": false,
    "deletable": true,
    "editable": true
   },
   "outputs": [
    {
     "name": "stdout",
     "output_type": "stream",
     "text": [
      "Fitting 5 folds for each of 40 candidates, totalling 200 fits\n",
      "[CV] min_samples_leaf=50, max_depth=None, n_estimators=80 ............\n",
      "[CV] min_samples_leaf=50, max_depth=None, n_estimators=80 ............\n",
      "[CV] min_samples_leaf=50, max_depth=None, n_estimators=80 ............\n",
      "[CV] min_samples_leaf=50, max_depth=None, n_estimators=80 ............\n",
      "[CV] min_samples_leaf=50, max_depth=None, n_estimators=80 ............\n",
      "[CV] min_samples_leaf=50, max_depth=None, n_estimators=90 ............\n",
      "[CV] min_samples_leaf=50, max_depth=None, n_estimators=90 ............\n",
      "[CV] min_samples_leaf=50, max_depth=None, n_estimators=90 ............\n",
      "[CV]  min_samples_leaf=50, max_depth=None, n_estimators=80, score=0.905636, total= 1.4min\n",
      "[CV]  min_samples_leaf=50, max_depth=None, n_estimators=80, score=0.911825, total= 1.4min\n",
      "[CV] min_samples_leaf=50, max_depth=None, n_estimators=90 ............\n"
     ]
    },
    {
     "name": "stderr",
     "output_type": "stream",
     "text": [
      "[Parallel(n_jobs=-1)]: Done   2 tasks      | elapsed:  1.5min\n"
     ]
    },
    {
     "name": "stdout",
     "output_type": "stream",
     "text": [
      "[CV] min_samples_leaf=50, max_depth=None, n_estimators=90 ............\n",
      "[CV]  min_samples_leaf=50, max_depth=None, n_estimators=80, score=0.901735, total= 1.5min\n",
      "[CV] min_samples_leaf=60, max_depth=None, n_estimators=80 ............\n",
      "[CV]  min_samples_leaf=50, max_depth=None, n_estimators=80, score=0.913012, total= 1.5min\n",
      "[CV]  min_samples_leaf=50, max_depth=None, n_estimators=80, score=0.906887, total= 1.5min\n",
      "[CV] min_samples_leaf=60, max_depth=None, n_estimators=80 ............\n",
      "[CV] min_samples_leaf=60, max_depth=None, n_estimators=80 ............\n",
      "[CV]  min_samples_leaf=50, max_depth=None, n_estimators=90, score=0.906962, total= 1.6min\n",
      "[CV] min_samples_leaf=60, max_depth=None, n_estimators=80 ............\n",
      "[CV]  min_samples_leaf=50, max_depth=None, n_estimators=90, score=0.912808, total= 1.6min\n",
      "[CV] min_samples_leaf=60, max_depth=None, n_estimators=80 ............\n",
      "[CV]  min_samples_leaf=50, max_depth=None, n_estimators=90, score=0.902542, total= 1.5min\n",
      "[CV] min_samples_leaf=60, max_depth=None, n_estimators=90 ............\n",
      "[CV]  min_samples_leaf=60, max_depth=None, n_estimators=80, score=0.907233, total= 1.2min\n",
      "[CV] min_samples_leaf=60, max_depth=None, n_estimators=90 ............\n",
      "[CV]  min_samples_leaf=60, max_depth=None, n_estimators=80, score=0.912590, total= 1.2min\n",
      "[CV] min_samples_leaf=60, max_depth=None, n_estimators=90 ............\n",
      "[CV]  min_samples_leaf=50, max_depth=None, n_estimators=90, score=0.914954, total= 1.4min\n",
      "[CV]  min_samples_leaf=50, max_depth=None, n_estimators=90, score=0.908791, total= 1.4min\n",
      "[CV]  min_samples_leaf=60, max_depth=None, n_estimators=80, score=0.904958, total= 1.2min\n",
      "[CV] min_samples_leaf=60, max_depth=None, n_estimators=90 ............\n",
      "[CV] min_samples_leaf=60, max_depth=None, n_estimators=90 ............\n",
      "[CV] min_samples_leaf=70, max_depth=None, n_estimators=80 ............\n",
      "[CV]  min_samples_leaf=60, max_depth=None, n_estimators=80, score=0.914727, total= 1.2min\n",
      "[CV] min_samples_leaf=70, max_depth=None, n_estimators=80 ............\n",
      "[CV]  min_samples_leaf=60, max_depth=None, n_estimators=80, score=0.908403, total= 1.2min\n",
      "[CV] min_samples_leaf=70, max_depth=None, n_estimators=80 ............\n",
      "[CV]  min_samples_leaf=60, max_depth=None, n_estimators=90, score=0.907325, total= 1.3min\n",
      "[CV] min_samples_leaf=70, max_depth=None, n_estimators=80 ............\n",
      "[CV]  min_samples_leaf=70, max_depth=None, n_estimators=80, score=0.902000, total= 1.1min\n",
      "[CV] min_samples_leaf=70, max_depth=None, n_estimators=80 ............\n",
      "[CV]  min_samples_leaf=60, max_depth=None, n_estimators=90, score=0.910411, total= 1.3min\n",
      "[CV] min_samples_leaf=70, max_depth=None, n_estimators=90 ............\n",
      "[CV]  min_samples_leaf=70, max_depth=None, n_estimators=80, score=0.907725, total= 1.2min\n",
      "[CV] min_samples_leaf=70, max_depth=None, n_estimators=90 ............\n",
      "[CV]  min_samples_leaf=60, max_depth=None, n_estimators=90, score=0.900215, total= 1.3min\n",
      "[CV]  min_samples_leaf=70, max_depth=None, n_estimators=80, score=0.900418, total= 1.2min\n",
      "[CV] min_samples_leaf=70, max_depth=None, n_estimators=90 ............\n",
      "[CV]  min_samples_leaf=60, max_depth=None, n_estimators=90, score=0.914872, total= 1.4min\n",
      "[CV] min_samples_leaf=70, max_depth=None, n_estimators=90 ............\n",
      "[CV]  min_samples_leaf=60, max_depth=None, n_estimators=90, score=0.908330, total= 1.4min\n",
      "[CV] min_samples_leaf=70, max_depth=None, n_estimators=90 ............\n",
      "[CV] min_samples_leaf=80, max_depth=None, n_estimators=80 ............\n",
      "[CV]  min_samples_leaf=70, max_depth=None, n_estimators=80, score=0.911197, total= 1.2min\n",
      "[CV] min_samples_leaf=80, max_depth=None, n_estimators=80 ............\n",
      "[CV]  min_samples_leaf=70, max_depth=None, n_estimators=80, score=0.903377, total= 1.2min\n",
      "[CV] min_samples_leaf=80, max_depth=None, n_estimators=80 ............\n",
      "[CV]  min_samples_leaf=70, max_depth=None, n_estimators=90, score=0.906172, total= 1.3min\n",
      "[CV] min_samples_leaf=80, max_depth=None, n_estimators=80 ............\n",
      "[CV]  min_samples_leaf=80, max_depth=None, n_estimators=80, score=0.903707, total= 1.1min\n",
      "[CV] min_samples_leaf=80, max_depth=None, n_estimators=80 ............\n",
      "[CV]  min_samples_leaf=70, max_depth=None, n_estimators=90, score=0.910652, total= 1.3min\n",
      "[CV] min_samples_leaf=80, max_depth=None, n_estimators=90 ............\n",
      "[CV]  min_samples_leaf=80, max_depth=None, n_estimators=80, score=0.908111, total= 1.1min\n",
      "[CV]  min_samples_leaf=70, max_depth=None, n_estimators=90, score=0.900512, total= 1.3min\n",
      "[CV] min_samples_leaf=80, max_depth=None, n_estimators=90 ............\n",
      "[CV]  min_samples_leaf=70, max_depth=None, n_estimators=90, score=0.912741, total= 1.3min\n",
      "[CV] min_samples_leaf=80, max_depth=None, n_estimators=90 ............\n",
      "[CV]  min_samples_leaf=70, max_depth=None, n_estimators=90, score=0.902965, total= 1.3min\n",
      "[CV] min_samples_leaf=80, max_depth=None, n_estimators=90 ............\n",
      "[CV] min_samples_leaf=80, max_depth=None, n_estimators=90 ............\n",
      "[CV]  min_samples_leaf=80, max_depth=None, n_estimators=80, score=0.897499, total=  59.8s\n",
      "[CV] min_samples_leaf=90, max_depth=None, n_estimators=80 ............\n",
      "[CV]  min_samples_leaf=80, max_depth=None, n_estimators=80, score=0.907280, total=  59.3s\n",
      "[CV] min_samples_leaf=90, max_depth=None, n_estimators=80 ............\n",
      "[CV]  min_samples_leaf=80, max_depth=None, n_estimators=80, score=0.898576, total=  58.9s\n",
      "[CV] min_samples_leaf=90, max_depth=None, n_estimators=80 ............\n",
      "[CV]  min_samples_leaf=80, max_depth=None, n_estimators=90, score=0.900767, total= 1.1min\n",
      "[CV] min_samples_leaf=90, max_depth=None, n_estimators=80 ............\n",
      "[CV]  min_samples_leaf=80, max_depth=None, n_estimators=90, score=0.908115, total= 1.2min\n",
      "[CV] min_samples_leaf=90, max_depth=None, n_estimators=80 ............\n",
      "[CV]  min_samples_leaf=80, max_depth=None, n_estimators=90, score=0.897153, total= 1.2min\n",
      "[CV]  min_samples_leaf=80, max_depth=None, n_estimators=90, score=0.908376, total= 1.2min\n",
      "[CV] min_samples_leaf=90, max_depth=None, n_estimators=90 ............\n",
      "[CV]  min_samples_leaf=80, max_depth=None, n_estimators=90, score=0.899632, total= 1.2min\n",
      "[CV] min_samples_leaf=90, max_depth=None, n_estimators=90 ............\n",
      "[CV] min_samples_leaf=90, max_depth=None, n_estimators=90 ............\n",
      "[CV]  min_samples_leaf=90, max_depth=None, n_estimators=80, score=0.899855, total=  59.5s\n",
      "[CV] min_samples_leaf=90, max_depth=None, n_estimators=90 ............\n",
      "[CV]  min_samples_leaf=90, max_depth=None, n_estimators=80, score=0.908729, total=  59.6s\n",
      "[CV] min_samples_leaf=90, max_depth=None, n_estimators=90 ............\n",
      "[CV]  min_samples_leaf=90, max_depth=None, n_estimators=80, score=0.900790, total=  59.9s\n",
      "[CV] min_samples_leaf=50, max_depth=2, n_estimators=80 ...............\n",
      "[CV]  min_samples_leaf=90, max_depth=None, n_estimators=80, score=0.910652, total=  59.7s\n",
      "[CV] min_samples_leaf=50, max_depth=2, n_estimators=80 ...............\n",
      "[CV]  min_samples_leaf=50, max_depth=2, n_estimators=80, score=0.873079, total=  13.9s\n",
      "[CV] min_samples_leaf=50, max_depth=2, n_estimators=80 ...............\n",
      "[CV]  min_samples_leaf=90, max_depth=None, n_estimators=80, score=0.903479, total=  59.9s\n",
      "[CV] min_samples_leaf=50, max_depth=2, n_estimators=80 ...............\n",
      "[CV]  min_samples_leaf=50, max_depth=2, n_estimators=80, score=0.885492, total=  13.2s\n",
      "[CV] min_samples_leaf=50, max_depth=2, n_estimators=80 ...............\n",
      "[CV]  min_samples_leaf=90, max_depth=None, n_estimators=90, score=0.907393, total= 1.1min\n",
      "[CV]  min_samples_leaf=90, max_depth=None, n_estimators=90, score=0.902472, total= 1.1min\n",
      "[CV]  min_samples_leaf=90, max_depth=None, n_estimators=90, score=0.901532, total= 1.1min\n",
      "[CV] min_samples_leaf=50, max_depth=2, n_estimators=90 ...............\n",
      "[CV] min_samples_leaf=50, max_depth=2, n_estimators=90 ...............\n",
      "[CV]  min_samples_leaf=50, max_depth=2, n_estimators=80, score=0.850573, total=  14.2s\n",
      "[CV]  min_samples_leaf=50, max_depth=2, n_estimators=80, score=0.886502, total=  13.5s\n",
      "[CV] min_samples_leaf=50, max_depth=2, n_estimators=90 ...............\n",
      "[CV] min_samples_leaf=50, max_depth=2, n_estimators=90 ...............\n",
      "[CV] min_samples_leaf=50, max_depth=2, n_estimators=90 ...............\n",
      "[CV]  min_samples_leaf=50, max_depth=2, n_estimators=80, score=0.867789, total=  11.6s\n",
      "[CV] min_samples_leaf=60, max_depth=2, n_estimators=80 ...............\n",
      "[CV]  min_samples_leaf=50, max_depth=2, n_estimators=90, score=0.886269, total=  13.0s\n",
      "[CV] min_samples_leaf=60, max_depth=2, n_estimators=80 ...............\n",
      "[CV]  min_samples_leaf=50, max_depth=2, n_estimators=90, score=0.890579, total=  13.3s\n",
      "[CV] min_samples_leaf=60, max_depth=2, n_estimators=80 ...............\n",
      "[CV]  min_samples_leaf=50, max_depth=2, n_estimators=90, score=0.875534, total=  13.3s\n"
     ]
    },
    {
     "name": "stderr",
     "output_type": "stream",
     "text": [
      "[Parallel(n_jobs=-1)]: Done  56 tasks      | elapsed:  8.5min\n"
     ]
    },
    {
     "name": "stdout",
     "output_type": "stream",
     "text": [
      "[CV] min_samples_leaf=60, max_depth=2, n_estimators=80 ...............\n",
      "[CV]  min_samples_leaf=50, max_depth=2, n_estimators=90, score=0.877004, total=  14.3s\n",
      "[CV] min_samples_leaf=60, max_depth=2, n_estimators=80 ...............\n",
      "[CV]  min_samples_leaf=50, max_depth=2, n_estimators=90, score=0.871858, total=  14.6s\n",
      "[CV] min_samples_leaf=60, max_depth=2, n_estimators=90 ...............\n",
      "[CV]  min_samples_leaf=90, max_depth=None, n_estimators=90, score=0.911434, total= 1.0min\n",
      "[CV]  min_samples_leaf=60, max_depth=2, n_estimators=80, score=0.868473, total=  12.8s\n",
      "[CV] min_samples_leaf=60, max_depth=2, n_estimators=90 ...............\n",
      "[CV]  min_samples_leaf=60, max_depth=2, n_estimators=80, score=0.887330, total=  12.4s\n",
      "[CV] min_samples_leaf=60, max_depth=2, n_estimators=90 ...............\n",
      "[CV]  min_samples_leaf=60, max_depth=2, n_estimators=80, score=0.867376, total=  11.9s\n",
      "[CV] min_samples_leaf=60, max_depth=2, n_estimators=90 ...............\n",
      "[CV]  min_samples_leaf=90, max_depth=None, n_estimators=90, score=0.906324, total= 1.0min\n",
      "[CV] min_samples_leaf=60, max_depth=2, n_estimators=90 ...............\n",
      "[CV]  min_samples_leaf=60, max_depth=2, n_estimators=80, score=0.878558, total=  12.3s\n",
      "[CV] min_samples_leaf=70, max_depth=2, n_estimators=80 ...............\n",
      "[CV]  min_samples_leaf=60, max_depth=2, n_estimators=80, score=0.862428, total=  12.2s\n",
      "[CV] min_samples_leaf=70, max_depth=2, n_estimators=80 ...............\n",
      "[CV]  min_samples_leaf=60, max_depth=2, n_estimators=90, score=0.870222, total=  11.9s\n",
      "[CV] min_samples_leaf=70, max_depth=2, n_estimators=80 ...............\n",
      "[CV]  min_samples_leaf=60, max_depth=2, n_estimators=90, score=0.882886, total=  12.0s\n",
      "[CV] min_samples_leaf=70, max_depth=2, n_estimators=80 ...............\n",
      "[CV]  min_samples_leaf=60, max_depth=2, n_estimators=90, score=0.864199, total=  12.1s\n",
      "[CV] min_samples_leaf=70, max_depth=2, n_estimators=80 ...............\n",
      "[CV]  min_samples_leaf=60, max_depth=2, n_estimators=90, score=0.869504, total=  12.1s\n",
      "[CV] min_samples_leaf=70, max_depth=2, n_estimators=90 ...............\n",
      "[CV]  min_samples_leaf=60, max_depth=2, n_estimators=90, score=0.866918, total=  11.8s\n",
      "[CV] min_samples_leaf=70, max_depth=2, n_estimators=90 ...............\n",
      "[CV]  min_samples_leaf=70, max_depth=2, n_estimators=80, score=0.870516, total=  11.0s\n",
      "[CV] min_samples_leaf=70, max_depth=2, n_estimators=90 ...............\n",
      "[CV]  min_samples_leaf=70, max_depth=2, n_estimators=80, score=0.876942, total=  10.8s\n",
      "[CV]  min_samples_leaf=70, max_depth=2, n_estimators=80, score=0.845361, total=  10.4s\n",
      "[CV] min_samples_leaf=70, max_depth=2, n_estimators=90 ...............\n",
      "[CV] min_samples_leaf=70, max_depth=2, n_estimators=90 ...............\n",
      "[CV]  min_samples_leaf=70, max_depth=2, n_estimators=80, score=0.873645, total=  10.5s\n",
      "[CV] min_samples_leaf=80, max_depth=2, n_estimators=80 ...............\n",
      "[CV]  min_samples_leaf=70, max_depth=2, n_estimators=80, score=0.868448, total=  10.6s\n",
      "[CV] min_samples_leaf=80, max_depth=2, n_estimators=80 ...............\n",
      "[CV]  min_samples_leaf=70, max_depth=2, n_estimators=90, score=0.859345, total=  11.3s\n",
      "[CV] min_samples_leaf=80, max_depth=2, n_estimators=80 ...............\n",
      "[CV]  min_samples_leaf=70, max_depth=2, n_estimators=90, score=0.874250, total=  11.3s\n",
      "[CV] min_samples_leaf=80, max_depth=2, n_estimators=80 ...............\n",
      "[CV]  min_samples_leaf=70, max_depth=2, n_estimators=90, score=0.861214, total=  11.5s\n",
      "[CV] min_samples_leaf=80, max_depth=2, n_estimators=80 ...............\n",
      "[CV]  min_samples_leaf=70, max_depth=2, n_estimators=90, score=0.876049, total=  11.4s\n",
      "[CV] min_samples_leaf=80, max_depth=2, n_estimators=90 ...............\n",
      "[CV]  min_samples_leaf=70, max_depth=2, n_estimators=90, score=0.861756, total=  11.7s\n",
      "[CV] min_samples_leaf=80, max_depth=2, n_estimators=90 ...............\n",
      "[CV]  min_samples_leaf=80, max_depth=2, n_estimators=80, score=0.860975, total=  11.1s\n",
      "[CV] min_samples_leaf=80, max_depth=2, n_estimators=90 ...............\n",
      "[CV]  min_samples_leaf=80, max_depth=2, n_estimators=80, score=0.854864, total=  11.3s\n",
      "[CV] min_samples_leaf=80, max_depth=2, n_estimators=90 ...............\n",
      "[CV]  min_samples_leaf=80, max_depth=2, n_estimators=80, score=0.863845, total=  11.0s\n",
      "[CV] min_samples_leaf=80, max_depth=2, n_estimators=90 ...............\n",
      "[CV]  min_samples_leaf=80, max_depth=2, n_estimators=80, score=0.880701, total=  11.0s\n",
      "[CV] min_samples_leaf=90, max_depth=2, n_estimators=80 ...............\n",
      "[CV]  min_samples_leaf=80, max_depth=2, n_estimators=80, score=0.856194, total=  10.9s\n",
      "[CV] min_samples_leaf=90, max_depth=2, n_estimators=80 ...............\n",
      "[CV]  min_samples_leaf=80, max_depth=2, n_estimators=90, score=0.863643, total=  11.4s\n",
      "[CV] min_samples_leaf=90, max_depth=2, n_estimators=80 ...............\n",
      "[CV]  min_samples_leaf=80, max_depth=2, n_estimators=90, score=0.872637, total=  11.1s\n",
      "[CV] min_samples_leaf=90, max_depth=2, n_estimators=80 ...............\n",
      "[CV]  min_samples_leaf=80, max_depth=2, n_estimators=90, score=0.853399, total=  11.0s\n",
      "[CV] min_samples_leaf=90, max_depth=2, n_estimators=80 ...............\n",
      "[CV]  min_samples_leaf=80, max_depth=2, n_estimators=90, score=0.881258, total=  11.1s\n",
      "[CV] min_samples_leaf=90, max_depth=2, n_estimators=90 ...............\n",
      "[CV] min_samples_leaf=90, max_depth=2, n_estimators=90 ...............\n",
      "[CV]  min_samples_leaf=80, max_depth=2, n_estimators=90, score=0.875059, total=  12.4s\n",
      "[CV]  min_samples_leaf=90, max_depth=2, n_estimators=80, score=0.866557, total=  11.6s\n",
      "[CV] min_samples_leaf=90, max_depth=2, n_estimators=90 ...............\n",
      "[CV]  min_samples_leaf=90, max_depth=2, n_estimators=80, score=0.867777, total=  12.0s\n",
      "[CV] min_samples_leaf=90, max_depth=2, n_estimators=90 ...............\n",
      "[CV]  min_samples_leaf=90, max_depth=2, n_estimators=80, score=0.858450, total=  11.5s\n",
      "[CV] min_samples_leaf=90, max_depth=2, n_estimators=90 ...............\n",
      "[CV]  min_samples_leaf=90, max_depth=2, n_estimators=80, score=0.878163, total=  12.3s\n",
      "[CV] min_samples_leaf=50, max_depth=5, n_estimators=80 ...............\n",
      "[CV]  min_samples_leaf=90, max_depth=2, n_estimators=80, score=0.843846, total=  12.0s\n",
      "[CV] min_samples_leaf=50, max_depth=5, n_estimators=80 ...............\n",
      "[CV] min_samples_leaf=50, max_depth=5, n_estimators=80 ...............\n",
      "[CV]  min_samples_leaf=90, max_depth=2, n_estimators=90, score=0.882148, total=  13.4s\n",
      "[CV] min_samples_leaf=50, max_depth=5, n_estimators=80 ...............\n",
      "[CV]  min_samples_leaf=90, max_depth=2, n_estimators=90, score=0.875709, total=  13.3s\n",
      "[CV]  min_samples_leaf=90, max_depth=2, n_estimators=90, score=0.862299, total=  12.5s\n",
      "[CV] min_samples_leaf=50, max_depth=5, n_estimators=80 ...............\n",
      "[CV]  min_samples_leaf=90, max_depth=2, n_estimators=90, score=0.876671, total=  12.4s\n",
      "[CV] min_samples_leaf=50, max_depth=5, n_estimators=90 ...............\n",
      "[CV]  min_samples_leaf=90, max_depth=2, n_estimators=90, score=0.865556, total=  12.7s\n",
      "[CV] min_samples_leaf=50, max_depth=5, n_estimators=90 ...............\n",
      "[CV] min_samples_leaf=50, max_depth=5, n_estimators=90 ...............\n",
      "[CV]  min_samples_leaf=50, max_depth=5, n_estimators=80, score=0.890042, total=  22.4s\n",
      "[CV] min_samples_leaf=50, max_depth=5, n_estimators=90 ...............\n",
      "[CV]  min_samples_leaf=50, max_depth=5, n_estimators=80, score=0.890680, total=  23.3s\n",
      "[CV] min_samples_leaf=50, max_depth=5, n_estimators=90 ...............\n",
      "[CV]  min_samples_leaf=50, max_depth=5, n_estimators=80, score=0.889680, total=  22.4s\n",
      "[CV] min_samples_leaf=60, max_depth=5, n_estimators=80 ...............\n",
      "[CV]  min_samples_leaf=50, max_depth=5, n_estimators=80, score=0.893315, total=  21.9s\n",
      "[CV] min_samples_leaf=60, max_depth=5, n_estimators=80 ...............\n",
      "[CV]  min_samples_leaf=50, max_depth=5, n_estimators=80, score=0.891036, total=  22.7s\n",
      "[CV] min_samples_leaf=60, max_depth=5, n_estimators=80 ...............\n",
      "[CV]  min_samples_leaf=50, max_depth=5, n_estimators=90, score=0.893192, total=  26.5s\n",
      "[CV] min_samples_leaf=60, max_depth=5, n_estimators=80 ...............\n",
      "[CV]  min_samples_leaf=50, max_depth=5, n_estimators=90, score=0.898591, total=  27.6s\n",
      "[CV] min_samples_leaf=60, max_depth=5, n_estimators=80 ...............\n",
      "[CV]  min_samples_leaf=50, max_depth=5, n_estimators=90, score=0.885648, total=  27.2s\n",
      "[CV] min_samples_leaf=60, max_depth=5, n_estimators=90 ...............\n",
      "[CV]  min_samples_leaf=50, max_depth=5, n_estimators=90, score=0.899113, total=  26.3s\n",
      "[CV] min_samples_leaf=60, max_depth=5, n_estimators=90 ...............\n",
      "[CV]  min_samples_leaf=50, max_depth=5, n_estimators=90, score=0.889977, total=  28.0s\n",
      "[CV] min_samples_leaf=60, max_depth=5, n_estimators=90 ...............\n",
      "[CV]  min_samples_leaf=60, max_depth=5, n_estimators=80, score=0.884838, total=  26.7s\n",
      "[CV]  min_samples_leaf=60, max_depth=5, n_estimators=80, score=0.894428, total=  26.7s\n",
      "[CV] min_samples_leaf=60, max_depth=5, n_estimators=90 ...............\n",
      "[CV] min_samples_leaf=60, max_depth=5, n_estimators=90 ...............\n",
      "[CV]  min_samples_leaf=60, max_depth=5, n_estimators=80, score=0.890970, total=  25.0s\n",
      "[CV] min_samples_leaf=70, max_depth=5, n_estimators=80 ...............\n",
      "[CV]  min_samples_leaf=60, max_depth=5, n_estimators=80, score=0.899189, total=  25.8s\n",
      "[CV] min_samples_leaf=70, max_depth=5, n_estimators=80 ...............\n",
      "[CV]  min_samples_leaf=60, max_depth=5, n_estimators=80, score=0.888980, total=  26.2s\n",
      "[CV] min_samples_leaf=70, max_depth=5, n_estimators=80 ...............\n",
      "[CV]  min_samples_leaf=60, max_depth=5, n_estimators=90, score=0.895070, total=  28.7s\n",
      "[CV] min_samples_leaf=70, max_depth=5, n_estimators=80 ...............\n",
      "[CV]  min_samples_leaf=60, max_depth=5, n_estimators=90, score=0.900896, total=  26.9s\n",
      "[CV] min_samples_leaf=70, max_depth=5, n_estimators=80 ...............\n",
      "[CV]  min_samples_leaf=60, max_depth=5, n_estimators=90, score=0.888670, total=  27.5s\n",
      "[CV] min_samples_leaf=70, max_depth=5, n_estimators=90 ...............\n",
      "[CV]  min_samples_leaf=60, max_depth=5, n_estimators=90, score=0.901242, total=  27.9s\n",
      "[CV] min_samples_leaf=70, max_depth=5, n_estimators=90 ...............\n",
      "[CV]  min_samples_leaf=70, max_depth=5, n_estimators=80, score=0.891894, total=  25.8s\n",
      "[CV] min_samples_leaf=70, max_depth=5, n_estimators=90 ...............\n",
      "[CV]  min_samples_leaf=60, max_depth=5, n_estimators=90, score=0.891757, total=  28.6s\n",
      "[CV] min_samples_leaf=70, max_depth=5, n_estimators=90 ...............\n",
      "[CV]  min_samples_leaf=70, max_depth=5, n_estimators=80, score=0.898992, total=  24.1s\n",
      "[CV] min_samples_leaf=70, max_depth=5, n_estimators=90 ...............\n",
      "[CV]  min_samples_leaf=70, max_depth=5, n_estimators=80, score=0.884954, total=  23.4s\n",
      "[CV] min_samples_leaf=80, max_depth=5, n_estimators=80 ...............\n",
      "[CV]  min_samples_leaf=70, max_depth=5, n_estimators=80, score=0.903624, total=  23.1s\n",
      "[CV] min_samples_leaf=80, max_depth=5, n_estimators=80 ...............\n",
      "[CV]  min_samples_leaf=70, max_depth=5, n_estimators=80, score=0.890818, total=  23.6s\n",
      "[CV] min_samples_leaf=80, max_depth=5, n_estimators=80 ...............\n",
      "[CV]  min_samples_leaf=70, max_depth=5, n_estimators=90, score=0.897871, total=  25.9s\n",
      "[CV] min_samples_leaf=80, max_depth=5, n_estimators=80 ...............\n",
      "[CV]  min_samples_leaf=70, max_depth=5, n_estimators=90, score=0.897704, total=  26.6s\n",
      "[CV] min_samples_leaf=80, max_depth=5, n_estimators=80 ...............\n",
      "[CV]  min_samples_leaf=70, max_depth=5, n_estimators=90, score=0.875675, total=  27.1s\n",
      "[CV] min_samples_leaf=80, max_depth=5, n_estimators=90 ...............\n",
      "[CV]  min_samples_leaf=70, max_depth=5, n_estimators=90, score=0.898081, total=  28.7s\n",
      "[CV] min_samples_leaf=80, max_depth=5, n_estimators=90 ...............\n",
      "[CV]  min_samples_leaf=70, max_depth=5, n_estimators=90, score=0.895989, total=  30.2s\n",
      "[CV] min_samples_leaf=80, max_depth=5, n_estimators=90 ...............\n",
      "[CV]  min_samples_leaf=80, max_depth=5, n_estimators=80, score=0.894472, total=  29.8s\n",
      "[CV] min_samples_leaf=80, max_depth=5, n_estimators=90 ...............\n",
      "[CV]  min_samples_leaf=80, max_depth=5, n_estimators=80, score=0.893399, total=  28.2s\n",
      "[CV] min_samples_leaf=80, max_depth=5, n_estimators=90 ...............\n",
      "[CV]  min_samples_leaf=80, max_depth=5, n_estimators=80, score=0.883510, total=  28.2s\n",
      "[CV] min_samples_leaf=90, max_depth=5, n_estimators=80 ...............\n",
      "[CV]  min_samples_leaf=80, max_depth=5, n_estimators=80, score=0.898573, total=  28.0s\n",
      "[CV] min_samples_leaf=90, max_depth=5, n_estimators=80 ...............\n",
      "[CV]  min_samples_leaf=80, max_depth=5, n_estimators=80, score=0.888776, total=  27.9s\n",
      "[CV] min_samples_leaf=90, max_depth=5, n_estimators=80 ...............\n",
      "[CV]  min_samples_leaf=80, max_depth=5, n_estimators=90, score=0.893961, total=  28.0s\n",
      "[CV] min_samples_leaf=90, max_depth=5, n_estimators=80 ...............\n",
      "[CV]  min_samples_leaf=80, max_depth=5, n_estimators=90, score=0.903143, total=  29.3s\n",
      "[CV] min_samples_leaf=90, max_depth=5, n_estimators=80 ...............\n",
      "[CV]  min_samples_leaf=80, max_depth=5, n_estimators=90, score=0.877244, total=  29.2s\n",
      "[CV] min_samples_leaf=90, max_depth=5, n_estimators=90 ...............\n",
      "[CV]  min_samples_leaf=80, max_depth=5, n_estimators=90, score=0.899347, total=  29.0s\n",
      "[CV] min_samples_leaf=90, max_depth=5, n_estimators=90 ...............\n",
      "[CV]  min_samples_leaf=80, max_depth=5, n_estimators=90, score=0.895757, total=  26.8s\n",
      "[CV] min_samples_leaf=90, max_depth=5, n_estimators=90 ...............\n",
      "[CV]  min_samples_leaf=90, max_depth=5, n_estimators=80, score=0.888039, total=  23.7s\n",
      "[CV] min_samples_leaf=90, max_depth=5, n_estimators=90 ...............\n",
      "[CV]  min_samples_leaf=90, max_depth=5, n_estimators=80, score=0.897184, total=  24.1s\n",
      "[CV] min_samples_leaf=90, max_depth=5, n_estimators=90 ...............\n",
      "[CV]  min_samples_leaf=90, max_depth=5, n_estimators=80, score=0.885516, total=  23.4s\n",
      "[CV] min_samples_leaf=50, max_depth=10, n_estimators=80 ..............\n",
      "[CV]  min_samples_leaf=90, max_depth=5, n_estimators=80, score=0.896279, total=  23.8s\n",
      "[CV] min_samples_leaf=50, max_depth=10, n_estimators=80 ..............\n",
      "[CV]  min_samples_leaf=90, max_depth=5, n_estimators=80, score=0.882565, total=  23.4s\n",
      "[CV] min_samples_leaf=50, max_depth=10, n_estimators=80 ..............\n",
      "[CV]  min_samples_leaf=90, max_depth=5, n_estimators=90, score=0.898470, total=  27.0s\n"
     ]
    },
    {
     "name": "stderr",
     "output_type": "stream",
     "text": [
      "[Parallel(n_jobs=-1)]: Done 146 tasks      | elapsed: 12.9min\n"
     ]
    },
    {
     "name": "stdout",
     "output_type": "stream",
     "text": [
      "[CV] min_samples_leaf=50, max_depth=10, n_estimators=80 ..............\n",
      "[CV]  min_samples_leaf=90, max_depth=5, n_estimators=90, score=0.898265, total=  27.4s\n",
      "[CV] min_samples_leaf=50, max_depth=10, n_estimators=80 ..............\n",
      "[CV]  min_samples_leaf=90, max_depth=5, n_estimators=90, score=0.883362, total=  28.9s\n",
      "[CV] min_samples_leaf=50, max_depth=10, n_estimators=90 ..............\n",
      "[CV]  min_samples_leaf=90, max_depth=5, n_estimators=90, score=0.900658, total=  28.4s\n",
      "[CV] min_samples_leaf=50, max_depth=10, n_estimators=90 ..............\n",
      "[CV]  min_samples_leaf=90, max_depth=5, n_estimators=90, score=0.896738, total=  27.4s\n",
      "[CV] min_samples_leaf=50, max_depth=10, n_estimators=90 ..............\n",
      "[CV]  min_samples_leaf=50, max_depth=10, n_estimators=80, score=0.903339, total=  39.9s\n",
      "[CV] min_samples_leaf=50, max_depth=10, n_estimators=90 ..............\n",
      "[CV]  min_samples_leaf=50, max_depth=10, n_estimators=80, score=0.907231, total=  39.5s\n",
      "[CV] min_samples_leaf=50, max_depth=10, n_estimators=90 ..............\n",
      "[CV]  min_samples_leaf=50, max_depth=10, n_estimators=80, score=0.898999, total=  40.3s\n",
      "[CV] min_samples_leaf=60, max_depth=10, n_estimators=80 ..............\n",
      "[CV]  min_samples_leaf=50, max_depth=10, n_estimators=80, score=0.908847, total=  39.6s\n",
      "[CV] min_samples_leaf=60, max_depth=10, n_estimators=80 ..............\n",
      "[CV]  min_samples_leaf=50, max_depth=10, n_estimators=80, score=0.902836, total=  40.5s\n",
      "[CV] min_samples_leaf=60, max_depth=10, n_estimators=80 ..............\n",
      "[CV]  min_samples_leaf=50, max_depth=10, n_estimators=90, score=0.901274, total=  44.9s\n",
      "[CV] min_samples_leaf=60, max_depth=10, n_estimators=80 ..............\n",
      "[CV]  min_samples_leaf=50, max_depth=10, n_estimators=90, score=0.911314, total=  44.8s\n",
      "[CV] min_samples_leaf=60, max_depth=10, n_estimators=80 ..............\n",
      "[CV]  min_samples_leaf=50, max_depth=10, n_estimators=90, score=0.893564, total=  44.1s\n",
      "[CV] min_samples_leaf=60, max_depth=10, n_estimators=90 ..............\n",
      "[CV]  min_samples_leaf=50, max_depth=10, n_estimators=90, score=0.913570, total=  44.4s\n",
      "[CV] min_samples_leaf=60, max_depth=10, n_estimators=90 ..............\n",
      "[CV]  min_samples_leaf=60, max_depth=10, n_estimators=80, score=0.899535, total=  40.8s\n",
      "[CV] min_samples_leaf=60, max_depth=10, n_estimators=90 ..............\n",
      "[CV]  min_samples_leaf=50, max_depth=10, n_estimators=90, score=0.901219, total=  45.7s\n",
      "[CV] min_samples_leaf=60, max_depth=10, n_estimators=90 ..............\n",
      "[CV]  min_samples_leaf=60, max_depth=10, n_estimators=80, score=0.903482, total=  40.9s\n",
      "[CV] min_samples_leaf=60, max_depth=10, n_estimators=90 ..............\n",
      "[CV]  min_samples_leaf=60, max_depth=10, n_estimators=80, score=0.898406, total=  41.3s\n",
      "[CV] min_samples_leaf=70, max_depth=10, n_estimators=80 ..............\n",
      "[CV]  min_samples_leaf=60, max_depth=10, n_estimators=80, score=0.907929, total=  41.9s\n",
      "[CV] min_samples_leaf=70, max_depth=10, n_estimators=80 ..............\n",
      "[CV]  min_samples_leaf=60, max_depth=10, n_estimators=80, score=0.901458, total=  42.6s\n",
      "[CV] min_samples_leaf=70, max_depth=10, n_estimators=80 ..............\n",
      "[CV]  min_samples_leaf=60, max_depth=10, n_estimators=90, score=0.900746, total=  46.2s\n",
      "[CV] min_samples_leaf=70, max_depth=10, n_estimators=80 ..............\n",
      "[CV]  min_samples_leaf=60, max_depth=10, n_estimators=90, score=0.911279, total=  44.9s\n",
      "[CV] min_samples_leaf=70, max_depth=10, n_estimators=80 ..............\n",
      "[CV]  min_samples_leaf=60, max_depth=10, n_estimators=90, score=0.893567, total=  46.1s\n",
      "[CV] min_samples_leaf=70, max_depth=10, n_estimators=90 ..............\n",
      "[CV]  min_samples_leaf=60, max_depth=10, n_estimators=90, score=0.903357, total=  45.5s\n",
      "[CV] min_samples_leaf=70, max_depth=10, n_estimators=90 ..............\n",
      "[CV]  min_samples_leaf=70, max_depth=10, n_estimators=80, score=0.898021, total=  39.6s\n",
      "[CV] min_samples_leaf=70, max_depth=10, n_estimators=90 ..............\n",
      "[CV]  min_samples_leaf=60, max_depth=10, n_estimators=90, score=0.898502, total=  44.4s\n",
      "[CV] min_samples_leaf=70, max_depth=10, n_estimators=90 ..............\n",
      "[CV]  min_samples_leaf=70, max_depth=10, n_estimators=80, score=0.903437, total=  38.7s\n",
      "[CV] min_samples_leaf=70, max_depth=10, n_estimators=90 ..............\n",
      "[CV]  min_samples_leaf=70, max_depth=10, n_estimators=80, score=0.896343, total=  39.1s\n",
      "[CV] min_samples_leaf=80, max_depth=10, n_estimators=80 ..............\n",
      "[CV]  min_samples_leaf=70, max_depth=10, n_estimators=80, score=0.901930, total=  38.1s\n",
      "[CV] min_samples_leaf=80, max_depth=10, n_estimators=80 ..............\n",
      "[CV]  min_samples_leaf=70, max_depth=10, n_estimators=80, score=0.902107, total=  37.9s\n",
      "[CV] min_samples_leaf=80, max_depth=10, n_estimators=80 ..............\n",
      "[CV]  min_samples_leaf=70, max_depth=10, n_estimators=90, score=0.900738, total=  44.4s\n",
      "[CV] min_samples_leaf=80, max_depth=10, n_estimators=80 ..............\n",
      "[CV]  min_samples_leaf=70, max_depth=10, n_estimators=90, score=0.910635, total=  44.0s\n",
      "[CV] min_samples_leaf=80, max_depth=10, n_estimators=80 ..............\n",
      "[CV]  min_samples_leaf=70, max_depth=10, n_estimators=90, score=0.896450, total=  44.0s\n",
      "[CV] min_samples_leaf=80, max_depth=10, n_estimators=90 ..............\n",
      "[CV]  min_samples_leaf=70, max_depth=10, n_estimators=90, score=0.906166, total=  44.5s\n",
      "[CV] min_samples_leaf=80, max_depth=10, n_estimators=90 ..............\n",
      "[CV]  min_samples_leaf=80, max_depth=10, n_estimators=80, score=0.895404, total=  39.3s\n",
      "[CV] min_samples_leaf=80, max_depth=10, n_estimators=90 ..............\n",
      "[CV]  min_samples_leaf=70, max_depth=10, n_estimators=90, score=0.902155, total=  43.5s\n",
      "[CV] min_samples_leaf=80, max_depth=10, n_estimators=90 ..............\n",
      "[CV]  min_samples_leaf=80, max_depth=10, n_estimators=80, score=0.907963, total=  39.3s\n",
      "[CV] min_samples_leaf=80, max_depth=10, n_estimators=90 ..............\n",
      "[CV]  min_samples_leaf=80, max_depth=10, n_estimators=80, score=0.892812, total=  37.5s\n",
      "[CV] min_samples_leaf=90, max_depth=10, n_estimators=80 ..............\n",
      "[CV]  min_samples_leaf=80, max_depth=10, n_estimators=80, score=0.908486, total=  39.0s\n",
      "[CV] min_samples_leaf=90, max_depth=10, n_estimators=80 ..............\n",
      "[CV]  min_samples_leaf=80, max_depth=10, n_estimators=80, score=0.897841, total=  39.8s\n",
      "[CV] min_samples_leaf=90, max_depth=10, n_estimators=80 ..............\n",
      "[CV]  min_samples_leaf=80, max_depth=10, n_estimators=90, score=0.898377, total=  43.7s\n",
      "[CV] min_samples_leaf=90, max_depth=10, n_estimators=80 ..............\n",
      "[CV]  min_samples_leaf=80, max_depth=10, n_estimators=90, score=0.907446, total=  43.7s\n",
      "[CV] min_samples_leaf=90, max_depth=10, n_estimators=80 ..............\n",
      "[CV]  min_samples_leaf=80, max_depth=10, n_estimators=90, score=0.896342, total=  44.5s\n",
      "[CV] min_samples_leaf=90, max_depth=10, n_estimators=90 ..............\n",
      "[CV]  min_samples_leaf=80, max_depth=10, n_estimators=90, score=0.908501, total=  45.3s\n",
      "[CV] min_samples_leaf=90, max_depth=10, n_estimators=90 ..............\n",
      "[CV]  min_samples_leaf=80, max_depth=10, n_estimators=90, score=0.899893, total=  45.0s\n",
      "[CV] min_samples_leaf=90, max_depth=10, n_estimators=90 ..............\n",
      "[CV]  min_samples_leaf=90, max_depth=10, n_estimators=80, score=0.896472, total=  38.8s\n",
      "[CV] min_samples_leaf=90, max_depth=10, n_estimators=90 ..............\n",
      "[CV]  min_samples_leaf=90, max_depth=10, n_estimators=80, score=0.905660, total=  40.3s\n",
      "[CV] min_samples_leaf=90, max_depth=10, n_estimators=90 ..............\n",
      "[CV]  min_samples_leaf=90, max_depth=10, n_estimators=80, score=0.890261, total=  40.5s\n",
      "[CV]  min_samples_leaf=90, max_depth=10, n_estimators=80, score=0.909656, total=  39.4s\n",
      "[CV]  min_samples_leaf=90, max_depth=10, n_estimators=80, score=0.897307, total=  38.9s\n",
      "[CV]  min_samples_leaf=90, max_depth=10, n_estimators=90, score=0.900554, total=  41.0s\n",
      "[CV]  min_samples_leaf=90, max_depth=10, n_estimators=90, score=0.901329, total=  38.4s\n",
      "[CV]  min_samples_leaf=90, max_depth=10, n_estimators=90, score=0.890249, total=  37.4s\n",
      "[CV]  min_samples_leaf=90, max_depth=10, n_estimators=90, score=0.911937, total=  35.6s\n",
      "[CV]  min_samples_leaf=90, max_depth=10, n_estimators=90, score=0.898554, total=  26.1s\n"
     ]
    },
    {
     "name": "stderr",
     "output_type": "stream",
     "text": [
      "[Parallel(n_jobs=-1)]: Done 200 out of 200 | elapsed: 17.6min finished\n"
     ]
    },
    {
     "name": "stdout",
     "output_type": "stream",
     "text": [
      "Time taken for X5 predictions:  1112.1471800804138 seconds.\n"
     ]
    }
   ],
   "source": [
    "start =  time.time()\n",
    "y_score5 = rf_clf5.fit(X_counts, np.array(train[\"sentiment\"].tolist())).predict(X_counts2)\n",
    "\n",
    "\n",
    "# Get the end time and print how long the process took\n",
    "end = time.time()\n",
    "elapsed = end - start\n",
    "print (\"Time taken for X5 predictions: \", elapsed, \"seconds.\")"
   ]
  },
  {
   "cell_type": "code",
   "execution_count": 286,
   "metadata": {
    "collapsed": true,
    "deletable": true,
    "editable": true
   },
   "outputs": [],
   "source": [
    "df = pd.DataFrame(data = {\"id\": test[\"id\"], \"sentiment\": y_score1})\n",
    "df.to_csv(\"sampleSubmission1.csv\", quoting = 3, index = False)\n",
    "df = pd.DataFrame(data = {\"id\": test[\"id\"], \"sentiment\": y_score2})\n",
    "df.to_csv(\"sampleSubmission2.csv\", quoting = 3, index = False)\n",
    "df = pd.DataFrame(data = {\"id\": test[\"id\"], \"sentiment\": y_score3})\n",
    "df.to_csv(\"sampleSubmission3.csv\", quoting = 3, index = False)\n",
    "df = pd.DataFrame(data = {\"id\": test[\"id\"], \"sentiment\": y_score4})\n",
    "df.to_csv(\"sampleSubmission4.csv\", quoting = 3, index = False)\n",
    "#df = pd.DataFrame(data = {\"id\": test[\"id\"], \"sentiment\": y_score5})\n",
    "#df.to_csv(\"sampleSubmission.csv\", quoting = 3, index = False)"
   ]
  },
  {
   "cell_type": "markdown",
   "metadata": {
    "deletable": true,
    "editable": true
   },
   "source": [
    "### Kaggle submission scores"
   ]
  },
  {
   "cell_type": "markdown",
   "metadata": {
    "deletable": true,
    "editable": true
   },
   "source": [
    "X1"
   ]
  },
  {
   "cell_type": "markdown",
   "metadata": {},
   "source": [
    "<a href=\"http://imgur.com/rIrLvGN\"><img src=\"http://i.imgur.com/rIrLvGN.png\" title=\"source: imgur.com\" /></a>"
   ]
  },
  {
   "cell_type": "markdown",
   "metadata": {
    "deletable": true,
    "editable": true
   },
   "source": [
    "X2"
   ]
  },
  {
   "cell_type": "markdown",
   "metadata": {},
   "source": [
    "<a href=\"http://imgur.com/RvLearN\"><img src=\"http://i.imgur.com/RvLearN.png\" title=\"source: imgur.com\" /></a>\n"
   ]
  },
  {
   "cell_type": "markdown",
   "metadata": {
    "deletable": true,
    "editable": true
   },
   "source": [
    "X3"
   ]
  },
  {
   "cell_type": "markdown",
   "metadata": {},
   "source": [
    "<a href=\"http://imgur.com/bCNxM0G\"><img src=\"http://i.imgur.com/bCNxM0G.png\" title=\"source: imgur.com\" /></a>\n"
   ]
  },
  {
   "cell_type": "markdown",
   "metadata": {
    "deletable": true,
    "editable": true
   },
   "source": [
    "X4"
   ]
  },
  {
   "cell_type": "markdown",
   "metadata": {},
   "source": [
    "<a href=\"http://imgur.com/8tDQtKQ\"><img src=\"http://i.imgur.com/8tDQtKQ.png\" title=\"source: imgur.com\" /></a>\n"
   ]
  },
  {
   "cell_type": "markdown",
   "metadata": {
    "deletable": true,
    "editable": true
   },
   "source": [
    "X5"
   ]
  },
  {
   "cell_type": "markdown",
   "metadata": {},
   "source": [
    "<a href=\"http://imgur.com/CQlxzpr\"><img src=\"http://i.imgur.com/CQlxzpr.png?1\" title=\"source: imgur.com\" /></a>"
   ]
  },
  {
   "cell_type": "markdown",
   "metadata": {
    "deletable": true,
    "editable": true
   },
   "source": [
    "## Part c\n",
    "\n",
    "Based on the Kaggle submission scores, we can see that the fourth featurization technique (using an LDA model with 20 topics) worked best for sentiment classification. It had an in-sample ROC AUC score of 0.74 and a Kaggle score of 0.68236. \n",
    "\n",
    "This is better than the Kaggle score achieved by using a simple bag of words (0.60), however the simple BOW model had a higher insample AUC score. \n",
    "\n",
    "To improve the classifier, we can take the following 3 steps:\n",
    "\n",
    "1) Use a higher number of topics (i.e. greater than 20)\n",
    "\n",
    "2) Train the model on a larger corpus (i.e. including the unlabeled training data)\n",
    "\n",
    "3) Tune the random forest classifier's parameters over a larger grid of values to arrive at an optimum classifier."
   ]
  },
  {
   "cell_type": "code",
   "execution_count": null,
   "metadata": {
    "collapsed": true,
    "deletable": true,
    "editable": true
   },
   "outputs": [],
   "source": []
  }
 ],
 "metadata": {
  "kernelspec": {
   "display_name": "Python 3",
   "language": "python",
   "name": "python3"
  },
  "language_info": {
   "codemirror_mode": {
    "name": "ipython",
    "version": 3
   },
   "file_extension": ".py",
   "mimetype": "text/x-python",
   "name": "python",
   "nbconvert_exporter": "python",
   "pygments_lexer": "ipython3",
   "version": "3.5.2"
  }
 },
 "nbformat": 4,
 "nbformat_minor": 2
}
