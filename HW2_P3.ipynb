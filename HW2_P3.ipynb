{
 "cells": [
  {
   "cell_type": "code",
   "execution_count": 2,
   "metadata": {
    "collapsed": false,
    "deletable": true,
    "editable": true
   },
   "outputs": [],
   "source": [
    "from keras.preprocessing import image as image_utils\n",
    "import numpy as np\n",
    "import pandas as pd"
   ]
  },
  {
   "cell_type": "code",
   "execution_count": 3,
   "metadata": {
    "collapsed": false
   },
   "outputs": [
    {
     "name": "stdout",
     "output_type": "stream",
     "text": [
      "Image import complete\n"
     ]
    }
   ],
   "source": [
    "from skimage.io import imread\n",
    "from skimage.color import gray2rgb\n",
    "from skimage.transform import resize\n",
    "import os, os.path\n",
    "file_names = []\n",
    "data = [] \n",
    "\n",
    "for f in os.listdir():\n",
    "    ext = os.path.splitext(f)[1]\n",
    "    if ext == \".JPEG\":\n",
    "        file_names.append(os.path.splitext(f)[0][:9])\n",
    "        x = imread(f)\n",
    "        if len(x.shape) == 2:\n",
    "            x = gray2rgb(x)\n",
    "            \n",
    "        x = resize(x, (64,64,3))\n",
    "        data.append(x)      \n",
    "        \n",
    "print (\"Image import complete\")     \n",
    "\n",
    "data = np.array(data)\n"
   ]
  },
  {
   "cell_type": "code",
   "execution_count": 4,
   "metadata": {
    "collapsed": false
   },
   "outputs": [],
   "source": [
    "classes = pd.factorize(file_names)\n",
    "Y = classes[0]"
   ]
  },
  {
   "cell_type": "markdown",
   "metadata": {
    "collapsed": true,
    "deletable": true,
    "editable": true
   },
   "source": [
    "## Autoencoder"
   ]
  },
  {
   "cell_type": "code",
   "execution_count": 7,
   "metadata": {
    "collapsed": false
   },
   "outputs": [],
   "source": [
    "import keras\n",
    "from keras.layers import Input, Dense, Conv2D, MaxPooling2D, UpSampling2D\n",
    "from keras.models import Model\n",
    "from keras import backend as K\n",
    "from keras.callbacks import TensorBoard"
   ]
  },
  {
   "cell_type": "code",
   "execution_count": 8,
   "metadata": {
    "collapsed": true
   },
   "outputs": [],
   "source": [
    "input_img = Input(shape=(64, 64, 3))\n",
    "\n",
    "x = Conv2D(32, (3,3), activation='relu', padding='same', dilation_rate=(1,1))(input_img)\n",
    "x = MaxPooling2D((2, 2), padding='same')(x)\n",
    "x = Conv2D(32, (3,3), activation='relu', padding='same')(x)\n",
    "encoded = MaxPooling2D((2, 2), padding='same')(x)\n",
    "\n",
    "x = Conv2D(8, (3, 3), activation='relu', padding='same')(encoded)\n",
    "x = UpSampling2D((2,2))(x)\n",
    "x = Conv2D(16, (3, 3), activation='relu', padding='same')(x)\n",
    "x = UpSampling2D((2,2))(x)\n",
    "decoded = Conv2D(3, (2,2), activation='sigmoid', padding='same')(x)\n"
   ]
  },
  {
   "cell_type": "code",
   "execution_count": 9,
   "metadata": {
    "collapsed": true
   },
   "outputs": [],
   "source": [
    "autoencoder = Model(input_img, decoded)\n",
    "\n",
    "autoencoder.compile(optimizer='adadelta', loss='binary_crossentropy', metrics=['mse'])\n",
    "\n",
    "encoder = Model(input_img, encoded)"
   ]
  },
  {
   "cell_type": "code",
   "execution_count": 10,
   "metadata": {
    "collapsed": false
   },
   "outputs": [
    {
     "name": "stdout",
     "output_type": "stream",
     "text": [
      "Epoch 1/10\n",
      "8987/8987 [==============================] - 138s - loss: 0.6735 - mean_squared_error: 0.0692   \n",
      "Epoch 2/10\n",
      "8987/8987 [==============================] - 138s - loss: 0.6061 - mean_squared_error: 0.0383   \n",
      "Epoch 3/10\n",
      "8987/8987 [==============================] - 138s - loss: 0.5838 - mean_squared_error: 0.0289   \n",
      "Epoch 4/10\n",
      "8987/8987 [==============================] - 138s - loss: 0.5740 - mean_squared_error: 0.0249   \n",
      "Epoch 5/10\n",
      "8987/8987 [==============================] - 138s - loss: 0.5691 - mean_squared_error: 0.0230   \n",
      "Epoch 6/10\n",
      "8987/8987 [==============================] - 137s - loss: 0.5649 - mean_squared_error: 0.0213   \n",
      "Epoch 7/10\n",
      "8987/8987 [==============================] - 138s - loss: 0.5627 - mean_squared_error: 0.0205   \n",
      "Epoch 8/10\n",
      "8987/8987 [==============================] - 137s - loss: 0.5612 - mean_squared_error: 0.0199   \n",
      "Epoch 9/10\n",
      "8987/8987 [==============================] - 138s - loss: 0.5589 - mean_squared_error: 0.0190   \n",
      "Epoch 10/10\n",
      "8987/8987 [==============================] - 137s - loss: 0.5577 - mean_squared_error: 0.0185   \n"
     ]
    },
    {
     "data": {
      "text/plain": [
       "<keras.callbacks.History at 0x19eacd84ac8>"
      ]
     },
     "execution_count": 10,
     "metadata": {},
     "output_type": "execute_result"
    }
   ],
   "source": [
    "autoencoder.fit(data, data,\n",
    "               epochs=   10,\n",
    "               batch_size=128,\n",
    "               shuffle=True)"
   ]
  },
  {
   "cell_type": "code",
   "execution_count": 11,
   "metadata": {
    "collapsed": false
   },
   "outputs": [],
   "source": [
    "X_enc = encoder.predict(data)\n",
    "X_enc = X_enc.reshape(len(X_enc),np.prod(X_enc.shape[1:]))"
   ]
  },
  {
   "cell_type": "code",
   "execution_count": 12,
   "metadata": {
    "collapsed": true
   },
   "outputs": [],
   "source": [
    "from sklearn.model_selection import train_test_split\n",
    "X_enc_tr, X_enc_ts, Y_enc_tr, Y_enc_ts = train_test_split(X_enc, Y, test_size = 0.2, random_state = 20)"
   ]
  },
  {
   "cell_type": "markdown",
   "metadata": {},
   "source": [
    "## Vectorization using SVD"
   ]
  },
  {
   "cell_type": "code",
   "execution_count": 13,
   "metadata": {
    "collapsed": true
   },
   "outputs": [],
   "source": [
    "X_svd = data.reshape(len(data),np.prod(data.shape[1:])) # flattening data to plug into SVD"
   ]
  },
  {
   "cell_type": "code",
   "execution_count": 14,
   "metadata": {
    "collapsed": false
   },
   "outputs": [],
   "source": [
    "sig = np.linalg.svd(X_svd, full_matrices = False, compute_uv = False)\n"
   ]
  },
  {
   "cell_type": "markdown",
   "metadata": {},
   "source": [
    "We will use a scree plot to determine the number of singular values to retain.\n"
   ]
  },
  {
   "cell_type": "code",
   "execution_count": 16,
   "metadata": {
    "collapsed": false,
    "scrolled": true
   },
   "outputs": [
    {
     "data": {
      "image/png": "[encoded data removed]",
      "text/plain": [
       "<matplotlib.figure.Figure at 0x19f195b80f0>"
      ]
     },
     "metadata": {},
     "output_type": "display_data"
    }
   ],
   "source": [
    "import matplotlib.pyplot as plt \n",
    "%matplotlib inline\n",
    "x1, y1 = zip(*(enumerate(sig[:150])))\n",
    "x1 = [x+1 for x in x1]\n",
    "plt.scatter(x1,y1)\n",
    "plt.xlabel(\"Component Number\")\n",
    "plt.ylabel(\"Eigenvalue\")\n",
    "plt.title(\"Scree Plot\")\n",
    "plt.show()"
   ]
  },
  {
   "cell_type": "markdown",
   "metadata": {},
   "source": [
    "We can take the number of components ($k$) to be $120$ based on the plot above."
   ]
  },
  {
   "cell_type": "code",
   "execution_count": 17,
   "metadata": {
    "collapsed": false
   },
   "outputs": [],
   "source": [
    "from sklearn.decomposition import TruncatedSVD\n",
    "svd = TruncatedSVD(n_components=120, n_iter=20, random_state=20)\n",
    "X_svd = svd.fit_transform(X_svd)"
   ]
  },
  {
   "cell_type": "code",
   "execution_count": 18,
   "metadata": {
    "collapsed": true
   },
   "outputs": [],
   "source": [
    "\n",
    "X_svd_tr, X_svd_ts, Y_svd_tr, Y_svd_ts = train_test_split(X_svd, Y, test_size = 0.2, random_state = 20)"
   ]
  },
  {
   "cell_type": "markdown",
   "metadata": {},
   "source": [
    "## Histograms"
   ]
  },
  {
   "cell_type": "code",
   "execution_count": 24,
   "metadata": {
    "collapsed": false
   },
   "outputs": [],
   "source": [
    "#rgb histogram\n",
    "X_rgb_hist =np.zeros(shape=(data.shape[0],256*3))\n",
    "for i in range(data.shape[0]):\n",
    "    hist_r=np.histogram(data[i,:,:,0], bins = 256)[0]\n",
    "    hist_g=np.histogram(data[i,:,:,1], bins = 256)[0]\n",
    "    hist_b=np.histogram(data[i,:,:,2], bins = 256)[0]\n",
    "    hist = np.concatenate((hist_r,hist_g,hist_b))\n",
    "    X_rgb_hist[i,:] = hist "
   ]
  },
  {
   "cell_type": "code",
   "execution_count": 25,
   "metadata": {
    "collapsed": false
   },
   "outputs": [],
   "source": [
    "X_rgb_tr, X_rgb_ts, Y_rgb_tr, Y_rgb_ts = train_test_split(X_rgb_hist, Y, test_size = 0.2, random_state = 20) #X_rgb_hist"
   ]
  },
  {
   "cell_type": "code",
   "execution_count": 27,
   "metadata": {
    "collapsed": false
   },
   "outputs": [],
   "source": [
    "#hsv histogram\n",
    "from skimage.color import rgb2hsv  \n",
    "X_hsv_hist = np.zeros(shape=(data.shape[0],256*3))\n",
    "for i in range(data.shape[0]):\n",
    "    hsv_image = rgb2hsv(data[i, :, :, :])\n",
    "    hist_r=np.histogram(data[i,:,:,0], bins = 256)[0]\n",
    "    hist_g=np.histogram(data[i,:,:,1], bins = 256)[0]\n",
    "    hist_b=np.histogram(data[i,:,:,2], bins = 256)[0]\n",
    "    hist = np.concatenate((hist_r,hist_g,hist_b))\n",
    "    X_hsv_hist[i,:] = hist \n"
   ]
  },
  {
   "cell_type": "code",
   "execution_count": 28,
   "metadata": {
    "collapsed": false
   },
   "outputs": [],
   "source": [
    "X_hsv_tr, X_hsv_ts, Y_hsv_tr, Y_hsv_ts = train_test_split(X_hsv_hist, Y, test_size = 0.2, random_state = 20)"
   ]
  },
  {
   "cell_type": "markdown",
   "metadata": {},
   "source": [
    "## KNN"
   ]
  },
  {
   "cell_type": "code",
   "execution_count": 36,
   "metadata": {
    "collapsed": false
   },
   "outputs": [],
   "source": [
    "from sklearn.metrics import confusion_matrix\n",
    "from scipy.spatial.distance import correlation\n",
    "\n",
    "def calc_dist(X_train, X_test, Y_train, metric, row, k = 5):\n",
    "    dist = []\n",
    "    if metric == \"euclidean\":\n",
    "        for ii in range(X_train.shape[0]):\n",
    "            dist.append((ii, np.sqrt(np.sum((X_train[ii,:] - X_test[row,:])**2))))\n",
    "        dist.sort(key = lambda x:x[1])\n",
    "        top_i = [dist[i][0] for i in range(k)]\n",
    "        return np.argmax(np.bincount(Y_train[top_i]))\n",
    "        \n",
    "    \n",
    "    elif metric == \"pearson\":\n",
    "        for i in range(X_train.shape[0]):\n",
    "            dist.append((i, correlation(X_train[i,:], X_test[row,:] )))\n",
    "        dist.sort(key = lambda x:x[1])\n",
    "        top_i = [dist[i][0] for i in range(k)]\n",
    "        return np.argmax(np.bincount(Y_train[top_i]))"
   ]
  },
  {
   "cell_type": "code",
   "execution_count": 37,
   "metadata": {
    "collapsed": false
   },
   "outputs": [],
   "source": [
    "test_length = X_hsv_ts.shape[0]\n",
    "ypred_enc_e = np.zeros(test_length)\n",
    "ypred_enc_p = np.zeros(test_length)\n",
    "ypred_svd_e = np.zeros(test_length)\n",
    "ypred_svd_p = np.zeros(test_length)\n",
    "ypred_rgb_e = np.zeros(test_length)\n",
    "ypred_rgb_p = np.zeros(test_length)\n",
    "ypred_hsv_e = np.zeros(test_length)\n",
    "ypred_hsv_p = np.zeros(test_length)"
   ]
  },
  {
   "cell_type": "code",
   "execution_count": 38,
   "metadata": {
    "collapsed": false
   },
   "outputs": [],
   "source": [
    "for i in  range(test_length):\n",
    "    ypred_enc_e[i] = calc_dist(X_enc_tr, X_enc_ts, Y_enc_tr,row =i, metric = \"euclidean\")\n",
    "    ypred_svd_e[i] = calc_dist(X_svd_tr, X_svd_ts, Y_svd_tr,row =i, metric = \"euclidean\")\n",
    "    ypred_rgb_e[i] = calc_dist(X_rgb_tr, X_rgb_ts, Y_rgb_tr,row =i, metric = \"euclidean\")\n",
    "    ypred_hsv_e[i] = calc_dist(X_hsv_tr, X_hsv_ts, Y_hsv_tr, row =i,metric = \"euclidean\")\n",
    "    ypred_enc_p[i] = calc_dist(X_enc_tr, X_enc_ts, Y_enc_tr,row =i, metric = \"pearson\")\n",
    "    ypred_svd_p[i] = calc_dist(X_svd_tr, X_svd_ts, Y_svd_tr,row =i, metric = \"pearson\")\n",
    "    ypred_rgb_p[i] = calc_dist(X_rgb_tr, X_rgb_ts, Y_rgb_tr,row =i, metric = \"pearson\")\n",
    "    ypred_hsv_p[i] = calc_dist(X_hsv_tr, X_hsv_ts, Y_hsv_tr, row =i,metric = \"pearson\")"
   ]
  },
  {
   "cell_type": "markdown",
   "metadata": {},
   "source": [
    "### Confusion matrices"
   ]
  },
  {
   "cell_type": "code",
   "execution_count": 41,
   "metadata": {
    "collapsed": false
   },
   "outputs": [
    {
     "name": "stdout",
     "output_type": "stream",
     "text": [
      "\n",
      "--------------------------------------------- \n",
      "\n",
      "RGB Euclidean: \n",
      "\n",
      "Accuracy:  36.9299221357 %\n",
      "Confusion Matrix: \n",
      " [[ 87  37  15  16  20  59]\n",
      " [ 42  99  51  16  65  59]\n",
      " [ 14  50 111  10  24  51]\n",
      " [ 38  67  31  99  50  76]\n",
      " [ 21  82  27  25 167  48]\n",
      " [ 27  51  34   9  19 101]]\n",
      "\n",
      "--------------------------------------------- \n",
      "\n",
      "RGB Pearson: \n",
      "\n",
      "Accuracy:  39.1546162403 %\n",
      "Confusion Matrix: \n",
      " [[102  29  19  18  33  33]\n",
      " [ 51  95  54  28  72  32]\n",
      " [ 22  43 117  11  24  43]\n",
      " [ 46  88  28 107  57  35]\n",
      " [ 32  67  33  17 193  28]\n",
      " [ 31  39  52   4  25  90]]\n",
      "\n",
      "--------------------------------------------- \n",
      "\n",
      "HSV Euclidean: \n",
      "\n",
      "Accuracy:  36.9299221357 %\n",
      "Confusion Matrix: \n",
      " [[ 87  37  15  16  20  59]\n",
      " [ 42  99  51  16  65  59]\n",
      " [ 14  50 111  10  24  51]\n",
      " [ 38  67  31  99  50  76]\n",
      " [ 21  82  27  25 167  48]\n",
      " [ 27  51  34   9  19 101]]\n",
      "\n",
      "--------------------------------------------- \n",
      "\n",
      "HSV Pearson: \n",
      "\n",
      "Accuracy:  39.1546162403 %\n",
      "\n",
      "Confusion Matrix:  [[102  29  19  18  33  33]\n",
      " [ 51  95  54  28  72  32]\n",
      " [ 22  43 117  11  24  43]\n",
      " [ 46  88  28 107  57  35]\n",
      " [ 32  67  33  17 193  28]\n",
      " [ 31  39  52   4  25  90]] \n",
      "\n",
      "\n",
      "--------------------------------------------- \n",
      "\n",
      "Autoencoder Euclidean: \n",
      "\n",
      "Accuracy:  40.7675194661 %\n",
      "\n",
      "Confusion Matrix: \n",
      " [[ 56  62  17  11  76  12]\n",
      " [ 21 121  33  22 125  10]\n",
      " [ 12  59 104   7  52  26]\n",
      " [ 12 112  30  66 131  10]\n",
      " [  6  30  16   6 305   7]\n",
      " [ 12  44  27   9  68  81]] \n",
      "\n",
      "\n",
      "--------------------------------------------- \n",
      "\n",
      "Autoencoder Pearson: \n",
      "\n",
      "Accuracy:  44.7163515017 %\n",
      "\n",
      "Confusion Matrix: \n",
      " [[ 82  53  18  15  54  12]\n",
      " [ 37 113  34  26 101  21]\n",
      " [ 16  36 136   5  47  20]\n",
      " [ 23  77  34 100 114  13]\n",
      " [ 16  28  20  17 282   7]\n",
      " [ 14  32  44   7  53  91]] \n",
      "\n",
      "\n",
      "--------------------------------------------- \n",
      "\n",
      "SVD Euclidean: \n",
      "\n",
      "Accuracy:  41.0456062291 %\n",
      "\n",
      "Confusion Matrix: \n",
      " [[ 44  55  24  18  68  25]\n",
      " [ 14 109  58  43  96  12]\n",
      " [ 14  52 128  11  35  20]\n",
      " [ 12  85  35 114 103  12]\n",
      " [  5  33  31  23 270   8]\n",
      " [ 12  55  43  17  41  73]] \n",
      "\n",
      "\n",
      "--------------------------------------------- \n",
      "\n",
      "SVD Pearson: \n",
      "\n",
      "Accuracy:  40.1001112347 %\n",
      "\n",
      "Confusion Matrix: \n",
      " [[ 51  64  18  20  69  12]\n",
      " [ 23 105  42  44 108  10]\n",
      " [  6  49 122  11  52  20]\n",
      " [ 23  86  24 102 120   6]\n",
      " [ 13  26  22  23 283   3]\n",
      " [ 11  52  46  15  59  58]] \n",
      "\n"
     ]
    }
   ],
   "source": [
    "\n",
    "print('\\n--------------------------------------------- \\n')\n",
    "mat_rgb_e = confusion_matrix(Y_rgb_ts,ypred_rgb_e)\n",
    "acc_rgb_e = 100*np.trace(mat_rgb_e)/np.sum(mat_rgb_e)\n",
    "print('RGB Euclidean: \\n')\n",
    "print('Accuracy: ',acc_rgb_e, '%' )\n",
    "print('Confusion Matrix: \\n', mat_rgb_e)\n",
    "\n",
    "\n",
    "print('\\n--------------------------------------------- \\n')\n",
    "mat_rgb_p = confusion_matrix(Y_rgb_ts,ypred_rgb_p)\n",
    "acc_rgb_p = 100*np.trace(mat_rgb_p)/np.sum(mat_rgb_p)\n",
    "print('RGB Pearson: \\n')\n",
    "print('Accuracy: ',acc_rgb_p, '%' )\n",
    "print('Confusion Matrix: \\n', mat_rgb_p)\n",
    "\n",
    "\n",
    "print('\\n--------------------------------------------- \\n')\n",
    "mat_hsv_e = confusion_matrix(Y_hsv_ts,ypred_hsv_e)\n",
    "acc_hsv_e = 100*np.trace(mat_hsv_e)/np.sum(mat_hsv_e)\n",
    "print('HSV Euclidean: \\n')\n",
    "print('Accuracy: ',acc_hsv_e, '%' )\n",
    "print('Confusion Matrix: \\n', mat_hsv_e)\n",
    "\n",
    "\n",
    "print('\\n--------------------------------------------- \\n')\n",
    "mat_hsv_p = confusion_matrix(Y_hsv_ts,ypred_hsv_p)\n",
    "acc_hsv_p = 100*np.trace(mat_hsv_p)/np.sum(mat_hsv_p)\n",
    "print('HSV Pearson: \\n')\n",
    "print('Accuracy: ',acc_hsv_p, '%\\n')\n",
    "print('Confusion Matrix: ', mat_hsv_p,'\\n')\n",
    "\n",
    "print('\\n--------------------------------------------- \\n')\n",
    "mat_enc_e = confusion_matrix(Y_enc_ts,ypred_enc_e)\n",
    "acc_enc_e = 100*np.trace(mat_enc_e)/np.sum(mat_enc_e)\n",
    "print('Autoencoder Euclidean: \\n')\n",
    "print('Accuracy: ',acc_enc_e, '%\\n')\n",
    "print('Confusion Matrix: \\n', mat_enc_e,'\\n')\n",
    "\n",
    "\n",
    "print('\\n--------------------------------------------- \\n')\n",
    "mat_enc_p = confusion_matrix(Y_enc_ts,ypred_enc_p)\n",
    "acc_enc_p = 100*np.trace(mat_enc_p)/np.sum(mat_enc_p)\n",
    "print('Autoencoder Pearson: \\n')\n",
    "print('Accuracy: ',acc_enc_p, '%\\n')\n",
    "print('Confusion Matrix: \\n', mat_enc_p,'\\n')\n",
    "\n",
    "\n",
    "print('\\n--------------------------------------------- \\n')\n",
    "mat_svd_e = confusion_matrix(Y_svd_ts,ypred_svd_e)\n",
    "acc_svd_e = 100*np.trace(mat_svd_e)/np.sum(mat_svd_e)\n",
    "print('SVD Euclidean: \\n')\n",
    "print('Accuracy: ',acc_svd_e, '%\\n')\n",
    "print('Confusion Matrix: \\n', mat_svd_e,'\\n')\n",
    "\n",
    "\n",
    "print('\\n--------------------------------------------- \\n')\n",
    "mat_svd_p = confusion_matrix(Y_svd_ts,ypred_svd_p)\n",
    "acc_svd_p = 100*np.trace(mat_svd_p)/np.sum(mat_svd_p)\n",
    "print('SVD Pearson: \\n')\n",
    "print('Accuracy: ',acc_svd_p, '%\\n')\n",
    "print('Confusion Matrix: \\n', mat_svd_p,'\\n')\n"
   ]
  },
  {
   "cell_type": "code",
   "execution_count": null,
   "metadata": {
    "collapsed": true
   },
   "outputs": [],
   "source": []
  },
  {
   "cell_type": "code",
   "execution_count": null,
   "metadata": {
    "collapsed": true
   },
   "outputs": [],
   "source": []
  }
 ],
 "metadata": {
  "anaconda-cloud": {},
  "kernelspec": {
   "display_name": "Python [Root]",
   "language": "python",
   "name": "Python [Root]"
  },
  "language_info": {
   "codemirror_mode": {
    "name": "ipython",
    "version": 3
   },
   "file_extension": ".py",
   "mimetype": "text/x-python",
   "name": "python",
   "nbconvert_exporter": "python",
   "pygments_lexer": "ipython3",
   "version": "3.5.2"
  }
 },
 "nbformat": 4,
 "nbformat_minor": 2
}
