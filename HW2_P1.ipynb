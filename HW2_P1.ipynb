{
 "cells": [
  {
   "cell_type": "code",
   "execution_count": 1,
   "metadata": {
    "collapsed": false,
    "deletable": true,
    "editable": true
   },
   "outputs": [],
   "source": [
    "import pandas as pd\n",
    "import numpy as np\n",
    "import matplotlib.pyplot as plt\n",
    "% matplotlib inline"
   ]
  },
  {
   "cell_type": "markdown",
   "metadata": {
    "deletable": true,
    "editable": true
   },
   "source": [
    "### Importing Datasets"
   ]
  },
  {
   "cell_type": "code",
   "execution_count": 2,
   "metadata": {
    "collapsed": false,
    "deletable": true,
    "editable": true
   },
   "outputs": [],
   "source": [
    "\n",
    "rating_cols = ['user_id' , 'item_id' , 'rating', 'timestamp']\n",
    "rating_data = pd.read_csv(\"u.data\", sep='\\t', names=rating_cols,encoding='latin-1') \n",
    "rating_base = pd.read_csv(\"ua.base\", sep='\\t', names=rating_cols, encoding='latin-1')\n",
    "rating_test = pd.read_csv(\"ua.test\", sep='\\t', names=rating_cols, encoding='latin-1')\n"
   ]
  },
  {
   "cell_type": "markdown",
   "metadata": {
    "deletable": true,
    "editable": true
   },
   "source": [
    "# Part 1"
   ]
  },
  {
   "cell_type": "markdown",
   "metadata": {
    "deletable": true,
    "editable": true
   },
   "source": [
    "### Histograms"
   ]
  },
  {
   "cell_type": "code",
   "execution_count": 315,
   "metadata": {
    "collapsed": false,
    "deletable": true,
    "editable": true
   },
   "outputs": [],
   "source": [
    "from collections import Counter\n",
    "item_freqs = Counter(rating_data['item_id'] )\n",
    "user_freqs = Counter(rating_data['user_id'] )"
   ]
  },
  {
   "cell_type": "code",
   "execution_count": 322,
   "metadata": {
    "collapsed": false,
    "deletable": true,
    "editable": true
   },
   "outputs": [
    {
     "data": {
      "image/png": "[encoded data removed]",
      "text/plain": [
       "<matplotlib.figure.Figure at 0x2c672e4fbe0>"
      ]
     },
     "metadata": {},
     "output_type": "display_data"
    }
   ],
   "source": [
    "plt.hist(list(item_freqs.values()), bins = 20)\n",
    "plt.title(\"Distribution of Movie Ratings\")\n",
    "plt.xlabel(\"Movie Bins\")\n",
    "plt.ylabel(\"Number of Ratings\")\n",
    "plt.show()"
   ]
  },
  {
   "cell_type": "code",
   "execution_count": 327,
   "metadata": {
    "collapsed": false,
    "deletable": true,
    "editable": true,
    "scrolled": true
   },
   "outputs": [
    {
     "data": {
      "image/png": "[encoded data removed]",
      "text/plain": [
       "<matplotlib.figure.Figure at 0x2c672988da0>"
      ]
     },
     "metadata": {},
     "output_type": "display_data"
    }
   ],
   "source": [
    "plt.hist(list(user_freqs.values()), bins = 20)\n",
    "plt.title(\"Distribution of User Ratings\")\n",
    "plt.xlabel(\"User Bins\")\n",
    "plt.ylabel(\"Number of Ratings\")\n",
    "plt.show()"
   ]
  },
  {
   "cell_type": "markdown",
   "metadata": {
    "deletable": true,
    "editable": true
   },
   "source": [
    "### Building a U by I matrix A, where U is the number of users, and I is the number of rated movies"
   ]
  },
  {
   "cell_type": "code",
   "execution_count": 5,
   "metadata": {
    "collapsed": true,
    "deletable": true,
    "editable": true
   },
   "outputs": [],
   "source": [
    "def matrix_convertor(df, y = 943,z = 1682):\n",
    "    A = np.zeros((y,z))\n",
    "    flat_list = []\n",
    "    for i in range(df.shape[0]):\n",
    "        flat_list.append( list(df.iloc[i]))\n",
    "    for j in range(len(flat_list)):\n",
    "        row_idx = flat_list[j][0]-1 \n",
    "        col_idx = flat_list[j][1]-1\n",
    "        val = flat_list[j][2]\n",
    "        A[row_idx][col_idx] = val\n",
    "    return A"
   ]
  },
  {
   "cell_type": "code",
   "execution_count": 6,
   "metadata": {
    "collapsed": false,
    "deletable": true,
    "editable": true
   },
   "outputs": [],
   "source": [
    "A_base = matrix_convertor(rating_base)\n",
    "A_test = matrix_convertor(rating_test)"
   ]
  },
  {
   "cell_type": "markdown",
   "metadata": {
    "deletable": true,
    "editable": true
   },
   "source": [
    "# Part 2: Build a recommender system where the baseline predictor for a (u,i) pair is:  $b_{ui}=μ+b_u+b_i$"
   ]
  },
  {
   "cell_type": "markdown",
   "metadata": {
    "deletable": true,
    "editable": true
   },
   "source": [
    "## 2.a) Estimate  $μ$, $b_u$, $b_i$ empirically and compute the means square error on the test set "
   ]
  },
  {
   "cell_type": "markdown",
   "metadata": {
    "deletable": true,
    "editable": true
   },
   "source": [
    "Based on Section 4.1 on paper [2], we take $λ_2 = 25$  and $λ_3 = 10$"
   ]
  },
  {
   "cell_type": "code",
   "execution_count": 7,
   "metadata": {
    "collapsed": false,
    "deletable": true,
    "editable": true
   },
   "outputs": [],
   "source": [
    "lambda2 = 25\n",
    "lambda3 = 10"
   ]
  },
  {
   "cell_type": "markdown",
   "metadata": {
    "deletable": true,
    "editable": true
   },
   "source": [
    "Calculating $μ$:"
   ]
  },
  {
   "cell_type": "code",
   "execution_count": 8,
   "metadata": {
    "collapsed": false,
    "deletable": true,
    "editable": true
   },
   "outputs": [],
   "source": [
    "mu = np.mean(rating_base[\"rating\"])"
   ]
  },
  {
   "cell_type": "markdown",
   "metadata": {
    "deletable": true,
    "editable": true
   },
   "source": [
    "Calculating $b_i$ & $b_u$"
   ]
  },
  {
   "cell_type": "code",
   "execution_count": 9,
   "metadata": {
    "collapsed": false,
    "deletable": true,
    "editable": true
   },
   "outputs": [],
   "source": [
    "b_i = []\n",
    "b_u = []\n",
    "for i in range(1682):\n",
    "    b_ii = 0\n",
    "    mod_R = np.count_nonzero(A_base[:, i])     \n",
    "    for u in range(943):\n",
    "        if A_base[u,i]>0:\n",
    "            b_ii+= A_base[u,i] - mu\n",
    "    b_i.append(b_ii/(lambda2 + mod_R))\n",
    "\n",
    "\n",
    "for u in range(943):\n",
    "    b_uu = 0\n",
    "    mod_R = np.count_nonzero(A_base[u, :])    \n",
    "    for i in range(1682):\n",
    "        if A_base[u,i]>0:\n",
    "            b_uu+= A_base[u,i] - mu - b_i[i]\n",
    "    b_u.append(b_uu/(mod_R + lambda3) )\n",
    "        \n",
    "    "
   ]
  },
  {
   "cell_type": "markdown",
   "metadata": {
    "deletable": true,
    "editable": true
   },
   "source": [
    "Calculating $b_{ui}$"
   ]
  },
  {
   "cell_type": "code",
   "execution_count": 10,
   "metadata": {
    "collapsed": false,
    "deletable": true,
    "editable": true
   },
   "outputs": [],
   "source": [
    "b_ui = np.zeros((943, 1682))#A_base.shape)\n",
    "b_i = np.array(b_i)\n",
    "b_u = np.array(b_u)\n",
    "for i in range(1682):\n",
    "    for u in range(943):    \n",
    "        b_ui[u,i] = mu + b_i[i] + b_u[u]"
   ]
  },
  {
   "cell_type": "markdown",
   "metadata": {
    "deletable": true,
    "editable": true
   },
   "source": [
    "Calculating RMSE "
   ]
  },
  {
   "cell_type": "code",
   "execution_count": 11,
   "metadata": {
    "collapsed": false,
    "deletable": true,
    "editable": true
   },
   "outputs": [
    {
     "data": {
      "text/plain": [
       "0.96648178388792516"
      ]
     },
     "execution_count": 11,
     "metadata": {},
     "output_type": "execute_result"
    }
   ],
   "source": [
    "errors = []\n",
    "for u in range (943):\n",
    "    for i in range (1682):\n",
    "        if A_test[u,i]>0 :\n",
    "            errors.append((A_test[u,i]-b_ui[u,i])**2)\n",
    "RMSE = np.sqrt(np.mean(errors))\n",
    "RMSE"
   ]
  },
  {
   "cell_type": "markdown",
   "metadata": {
    "deletable": true,
    "editable": true
   },
   "source": [
    "## Plot the RMSE per user\n",
    "\n",
    "We will calculate the average of the all ratings given by a user, and then segment the users into 5 bins based on the range of average values. "
   ]
  },
  {
   "cell_type": "code",
   "execution_count": 209,
   "metadata": {
    "collapsed": false,
    "deletable": true,
    "editable": true
   },
   "outputs": [],
   "source": [
    "user_averages = A_base.sum(1)/(A_base!=0).sum(1)"
   ]
  },
  {
   "cell_type": "code",
   "execution_count": 211,
   "metadata": {
    "collapsed": false,
    "deletable": true,
    "editable": true
   },
   "outputs": [
    {
     "name": "stdout",
     "output_type": "stream",
     "text": [
      "The user averages range from  1.48941176471  to  4.92857142857\n"
     ]
    }
   ],
   "source": [
    "print(\"The user averages range from \",min(user_averages),\" to \", max(user_averages))\n"
   ]
  },
  {
   "cell_type": "markdown",
   "metadata": {
    "deletable": true,
    "editable": true
   },
   "source": [
    "We will now record the users who fall into each of the five bins."
   ]
  },
  {
   "cell_type": "code",
   "execution_count": 273,
   "metadata": {
    "collapsed": false,
    "deletable": true,
    "editable": true
   },
   "outputs": [
    {
     "name": "stdout",
     "output_type": "stream",
     "text": [
      "Bin 1: 1.49 - 2.18 \n",
      "Bin 2: 2.18 - 2.87 \n",
      "Bin 3: 2.87 - 3.55 \n",
      "Bin 4: 3.55 - 4.24 \n",
      "Bin 5: 4.24 - 4.93 \n"
     ]
    }
   ],
   "source": [
    "start_val = min(user_averages)\n",
    "end_val = max(user_averages)\n",
    "interval = (end_val - start_val)/5\n",
    "bin_1 = []\n",
    "bin_2 = []\n",
    "bin_3 = []\n",
    "bin_4 = []\n",
    "bin_5 = []\n",
    "\n",
    "print (\"Bin 1: {} - {} \".format( round(start_val,2), round(start_val + interval,2)  ))\n",
    "print (\"Bin 2: {} - {} \".format( round(start_val + interval,2), round(start_val + interval*2,2)  ))\n",
    "print (\"Bin 3: {} - {} \".format( round(start_val+ interval*2,2),round( start_val + interval*3 ,2) ))\n",
    "print (\"Bin 4: {} - {} \".format( round(start_val+ interval*3,2), round(start_val + interval*4 ,2) ))\n",
    "print (\"Bin 5: {} - {} \".format( round(start_val+ interval*4,2), round(start_val + interval*5,2)  ))\n",
    "\n",
    "\n",
    "for j in range(len(user_averages)):\n",
    "    if user_averages[j]>= end_val - interval:\n",
    "        bin_5.append(j)\n",
    "    elif  user_averages[j]>= end_val - 2*interval:\n",
    "        bin_4.append(j)\n",
    "    elif  user_averages[j]>= end_val - 3*interval:\n",
    "        bin_3.append(j)\n",
    "    elif  user_averages[j]>= end_val - 4*interval:\n",
    "        bin_2.append(j)\n",
    "    else:\n",
    "        bin_1.append(j)    \n",
    "    "
   ]
  },
  {
   "cell_type": "markdown",
   "metadata": {
    "deletable": true,
    "editable": true
   },
   "source": [
    "Defining a function to calculate RMSE:"
   ]
  },
  {
   "cell_type": "code",
   "execution_count": 213,
   "metadata": {
    "collapsed": false,
    "deletable": true,
    "editable": true
   },
   "outputs": [],
   "source": [
    "def user_rmse(user_bin, result_set = b_ui, test_set = A_test, movie_qty = 1682):\n",
    "    RMSE = []\n",
    "    for u in user_bin:\n",
    "        RMSE_u = []\n",
    "        for i in range(movie_qty):\n",
    "            \n",
    "            if test_set[u,i]>0:\n",
    "                RMSE_u.append( (result_set[u,i] - test_set[u,i] )**2 )\n",
    "                \n",
    " \n",
    "        RMSE.append( np.sqrt(np.mean(RMSE_u)))\n",
    "    return RMSE\n",
    "        "
   ]
  },
  {
   "cell_type": "code",
   "execution_count": 260,
   "metadata": {
    "collapsed": false,
    "deletable": true,
    "editable": true
   },
   "outputs": [],
   "source": [
    "RMSE_Bin = []\n",
    "RMSE_Bin.append(np.mean(user_rmse(bin_1)))\n",
    "RMSE_Bin.append(np.mean(user_rmse(bin_2)))\n",
    "RMSE_Bin.append(np.mean(user_rmse(bin_3)))\n",
    "RMSE_Bin.append(np.mean(user_rmse(bin_4)))\n",
    "RMSE_Bin.append(np.mean(user_rmse(bin_5)))"
   ]
  },
  {
   "cell_type": "code",
   "execution_count": 261,
   "metadata": {
    "collapsed": false,
    "deletable": true,
    "editable": true
   },
   "outputs": [
    {
     "data": {
      "image/png": "[encoded data removed]",
      "text/plain": [
       "<matplotlib.figure.Figure at 0x2c672b15c88>"
      ]
     },
     "metadata": {},
     "output_type": "display_data"
    }
   ],
   "source": [
    "plt.bar(range(1,6), RMSE_Bin, width = 0.5, color=\"blue\")\n",
    "title = \"Average RMSE per User Bin\"\n",
    "plt.title(title)\n",
    "plt.xlabel(\"User Bin\")\n",
    "plt.ylabel(\"RMSE\")\n",
    "plt.show()"
   ]
  },
  {
   "cell_type": "markdown",
   "metadata": {
    "deletable": true,
    "editable": true
   },
   "source": [
    "## Build a recommender system based on reference paper [2] section 4.2\n",
    "\n",
    "We will define an item-based KNN algorithm below.\n"
   ]
  },
  {
   "cell_type": "code",
   "execution_count": 21,
   "metadata": {
    "collapsed": false,
    "deletable": true,
    "editable": true
   },
   "outputs": [],
   "source": [
    "similarity = np.zeros((1682, 1682))\n",
    "\n",
    "for i1 in range(1682):\n",
    "    for i2 in range(1682):\n",
    "        R_u = []\n",
    "        R_u1 = []\n",
    "        R_u2 = []\n",
    "        for u in range(943):\n",
    "            if A_base[u,i1]>0 and A_base[u,i2]>0 and i1<i2:\n",
    "                R_u.append(user_averages[u])\n",
    "                R_u1.append(A_base[u,i1])\n",
    "                R_u2.append(A_base[u,i2])\n",
    "                \n",
    "        R_u = np.array(R_u)\n",
    "        R_u1 = np.array(R_u1)\n",
    "        R_u2 = np.array(R_u2)\n",
    "        numerator = np.sum( (R_u1 - R_u) * (R_u2 -R_u) )\n",
    "        denominator = np.sqrt(np.sum( (R_u1 - R_u)**2 ) * np.sum( (R_u2 - R_u)**2 ))\n",
    "        if denominator!= 0 :\n",
    "            similarity[i1, i2] = numerator/denominator\n"
   ]
  },
  {
   "cell_type": "markdown",
   "metadata": {
    "deletable": true,
    "editable": true
   },
   "source": [
    "## Implementing KNN\n"
   ]
  },
  {
   "cell_type": "code",
   "execution_count": 155,
   "metadata": {
    "collapsed": false,
    "deletable": true,
    "editable": true
   },
   "outputs": [],
   "source": [
    "A_test_new = np.zeros((A_test.shape))\n",
    "x, y = np.nonzero(A_test)\n",
    "k = [1,2,3,5,10]"
   ]
  },
  {
   "cell_type": "code",
   "execution_count": 285,
   "metadata": {
    "collapsed": false,
    "deletable": true,
    "editable": true
   },
   "outputs": [
    {
     "name": "stdout",
     "output_type": "stream",
     "text": [
      "K =  1 \n",
      "\n",
      "Test RMSE: 1.37467880778\n",
      "RMSE for Bin 1 : 1.30636352524\n",
      "RMSE for Bin 2 : 1.5417697786\n",
      "RMSE for Bin 3 : 1.389428966\n",
      "RMSE for Bin 4 : 1.27153527906\n",
      "RMSE for Bin 5 : 1.00704006969\n"
     ]
    },
    {
     "data": {
      "image/png": "[encoded data removed]",
      "text/plain": [
       "<matplotlib.figure.Figure at 0x2c67297c358>"
      ]
     },
     "metadata": {},
     "output_type": "display_data"
    },
    {
     "name": "stdout",
     "output_type": "stream",
     "text": [
      "\n",
      "--------------------------------------------------------------------------------------------\n",
      "\n",
      "K =  2 \n",
      "\n",
      "Test RMSE: 1.20083553729\n",
      "RMSE for Bin 1 : 1.24334223327\n",
      "RMSE for Bin 2 : 1.38786664135\n",
      "RMSE for Bin 3 : 1.21024702245\n",
      "RMSE for Bin 4 : 1.10898295937\n",
      "RMSE for Bin 5 : 0.900290220352\n"
     ]
    },
    {
     "data": {
      "image/png": "[encoded data removed]",
      "text/plain": [
       "<matplotlib.figure.Figure at 0x2c6728a34e0>"
      ]
     },
     "metadata": {},
     "output_type": "display_data"
    },
    {
     "name": "stdout",
     "output_type": "stream",
     "text": [
      "\n",
      "--------------------------------------------------------------------------------------------\n",
      "\n",
      "K =  3 \n",
      "\n",
      "Test RMSE: 1.14101464762\n",
      "RMSE for Bin 1 : 1.19170073774\n",
      "RMSE for Bin 2 : 1.3269481024\n",
      "RMSE for Bin 3 : 1.13790378633\n",
      "RMSE for Bin 4 : 1.06203623591\n",
      "RMSE for Bin 5 : 0.866248454169\n"
     ]
    },
    {
     "data": {
      "image/png": "[encoded data removed]",
      "text/plain": [
       "<matplotlib.figure.Figure at 0x2c66a5adfd0>"
      ]
     },
     "metadata": {},
     "output_type": "display_data"
    },
    {
     "name": "stdout",
     "output_type": "stream",
     "text": [
      "\n",
      "--------------------------------------------------------------------------------------------\n",
      "\n",
      "K =  5 \n",
      "\n",
      "Test RMSE: 1.08929466622\n",
      "RMSE for Bin 1 : 1.12774952641\n",
      "RMSE for Bin 2 : 1.27707778324\n",
      "RMSE for Bin 3 : 1.08489878019\n",
      "RMSE for Bin 4 : 1.01269150543\n",
      "RMSE for Bin 5 : 0.858328396483\n"
     ]
    },
    {
     "data": {
      "image/png": "[encoded data removed]",
      "text/plain": [
       "<matplotlib.figure.Figure at 0x2c672b1e198>"
      ]
     },
     "metadata": {},
     "output_type": "display_data"
    },
    {
     "name": "stdout",
     "output_type": "stream",
     "text": [
      "\n",
      "--------------------------------------------------------------------------------------------\n",
      "\n",
      "K =  10 \n",
      "\n",
      "Test RMSE: 1.1800027658\n",
      "RMSE for Bin 1 : 1.33607598278\n",
      "RMSE for Bin 2 : 1.45768725391\n",
      "RMSE for Bin 3 : 1.10197494739\n",
      "RMSE for Bin 4 : 1.03110959586\n",
      "RMSE for Bin 5 : 1.04540509237\n"
     ]
    },
    {
     "data": {
      "image/png": "[encoded data removed]",
      "text/plain": [
       "<matplotlib.figure.Figure at 0x2c67288e390>"
      ]
     },
     "metadata": {},
     "output_type": "display_data"
    },
    {
     "name": "stdout",
     "output_type": "stream",
     "text": [
      "\n",
      "--------------------------------------------------------------------------------------------\n",
      "\n"
     ]
    }
   ],
   "source": [
    "RMSE = []\n",
    "for kk in k: \n",
    "    for uu,ii in zip(x,y):\n",
    "        \n",
    "        base_idx = np.nonzero(A_base[uu,:]) #nonzero elements in A_base\n",
    "        base_idx = base_idx[0]\n",
    "        top_i = similarity[ii,base_idx].argsort()[-kk:][::-1]\n",
    "        base_idx = base_idx[top_i] \n",
    "        dist = similarity[ii, base_idx]\n",
    "        numerator = np.sum((A_base[uu,base_idx] * dist))\n",
    "        \n",
    "        denominator = np.sum(abs(dist))\n",
    "        \n",
    "        if denominator!=0:\n",
    "            A_test_new[uu,ii] = numerator/denominator\n",
    "        else:\n",
    "            A_test_new[uu,ii] =  (A_base.sum(1)/(A_base!=0).sum(1))[uu]\n",
    "            \n",
    "    \n",
    "    base_idx2 = np.nonzero(A_test)  \n",
    "    RMSE_k = np.sqrt(np.sum(np.square(A_test_new[base_idx2] - A_test[base_idx2]))/len(A_test[base_idx2]))\n",
    "    RMSE.append(RMSE_k)\n",
    "    \n",
    "    RMSE_Bin = []\n",
    "    RMSE_Bin.append(np.mean(user_rmse(bin_1, result_set = A_test_new, test_set = A_test, movie_qty = 1682)))\n",
    "    RMSE_Bin.append(np.mean(user_rmse(bin_2, result_set = A_test_new, test_set = A_test, movie_qty = 1682)))\n",
    "    RMSE_Bin.append(np.mean(user_rmse(bin_3, result_set = A_test_new, test_set = A_test, movie_qty = 1682)))\n",
    "    RMSE_Bin.append(np.mean(user_rmse(bin_4, result_set = A_test_new, test_set = A_test, movie_qty = 1682)))\n",
    "    RMSE_Bin.append(np.mean(user_rmse(bin_5, result_set = A_test_new, test_set = A_test, movie_qty = 1682)))\n",
    "    \n",
    "    \n",
    "    print(\"K = \", kk, \"\\n\")\n",
    "    print(\"Test RMSE:\", RMSE_k)\n",
    "    for idx in range(len(RMSE_Bin)):\n",
    "        \n",
    "        print(\"RMSE for Bin\", idx+1,\":\", RMSE_Bin[idx])\n",
    "    \n",
    "    \n",
    "    \n",
    "    plt.bar(range(1,6), RMSE_Bin, width = 0.5, color=\"blue\")\n",
    "    title = \"Average RMSE per User Bin for k= %s\" %(kk )\n",
    "    plt.title(title)\n",
    "    plt.xlabel(\"User Bin\")\n",
    "    plt.ylabel(\"RMSE\")\n",
    "    plt.show()\n",
    "    print(\"\\n--------------------------------------------------------------------------------------------\\n\") "
   ]
  },
  {
   "cell_type": "markdown",
   "metadata": {
    "deletable": true,
    "editable": true
   },
   "source": [
    "The lowest test RMSE is observed for k = 5"
   ]
  }
 ],
 "metadata": {
  "anaconda-cloud": {},
  "kernelspec": {
   "display_name": "Python 3",
   "language": "python",
   "name": "python3"
  },
  "language_info": {
   "codemirror_mode": {
    "name": "ipython",
    "version": 3
   },
   "file_extension": ".py",
   "mimetype": "text/x-python",
   "name": "python",
   "nbconvert_exporter": "python",
   "pygments_lexer": "ipython3",
   "version": "3.5.2"
  }
 },
 "nbformat": 4,
 "nbformat_minor": 0
}
